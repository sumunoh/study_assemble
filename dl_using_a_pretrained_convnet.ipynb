{
  "nbformat": 4,
  "nbformat_minor": 0,
  "metadata": {
    "colab": {
      "name": "dl_using-a-pretrained-convnet.ipynb",
      "provenance": [],
      "machine_shape": "hm",
      "mount_file_id": "1VFS-uRFkqWUGdENWQekZHP-fXBlDTp-F",
      "authorship_tag": "ABX9TyPsu7KtkubUlo3KAjI/6MHt",
      "include_colab_link": true
    },
    "kernelspec": {
      "name": "python3",
      "display_name": "Python 3"
    },
    "language_info": {
      "name": "python"
    },
    "accelerator": "TPU"
  },
  "cells": [
    {
      "cell_type": "markdown",
      "metadata": {
        "id": "view-in-github",
        "colab_type": "text"
      },
      "source": [
        "<a href=\"https://colab.research.google.com/github/sumunoh/study_assemble/blob/main/dl_using_a_pretrained_convnet.ipynb\" target=\"_parent\"><img src=\"https://colab.research.google.com/assets/colab-badge.svg\" alt=\"Open In Colab\"/></a>"
      ]
    },
    {
      "cell_type": "code",
      "metadata": {
        "colab": {
          "base_uri": "https://localhost:8080/"
        },
        "id": "dhKRt6hi6QL_",
        "outputId": "5a9659b9-017b-43cb-cb1b-35ae7e3fd4f3"
      },
      "source": [
        "#VGG16 만들어 보기\n",
        "from tensorflow.keras.applications import VGG16\n",
        "conv_base = VGG16(weights= 'imagenet',\n",
        "                  include_top=False,\n",
        "                  input_shape=(150,150,3))"
      ],
      "execution_count": null,
      "outputs": [
        {
          "output_type": "stream",
          "name": "stdout",
          "text": [
            "Downloading data from https://storage.googleapis.com/tensorflow/keras-applications/vgg16/vgg16_weights_tf_dim_ordering_tf_kernels_notop.h5\n",
            "58892288/58889256 [==============================] - 1s 0us/step\n",
            "58900480/58889256 [==============================] - 1s 0us/step\n"
          ]
        }
      ]
    },
    {
      "cell_type": "code",
      "metadata": {
        "colab": {
          "base_uri": "https://localhost:8080/"
        },
        "id": "lg6Y-zHt_xVJ",
        "outputId": "6afaf805-ad3f-44f8-ac23-581bb076859f"
      },
      "source": [
        "conv_base.summary()"
      ],
      "execution_count": null,
      "outputs": [
        {
          "output_type": "stream",
          "name": "stdout",
          "text": [
            "Model: \"vgg16\"\n",
            "_________________________________________________________________\n",
            "Layer (type)                 Output Shape              Param #   \n",
            "=================================================================\n",
            "input_1 (InputLayer)         [(None, 150, 150, 3)]     0         \n",
            "_________________________________________________________________\n",
            "block1_conv1 (Conv2D)        (None, 150, 150, 64)      1792      \n",
            "_________________________________________________________________\n",
            "block1_conv2 (Conv2D)        (None, 150, 150, 64)      36928     \n",
            "_________________________________________________________________\n",
            "block1_pool (MaxPooling2D)   (None, 75, 75, 64)        0         \n",
            "_________________________________________________________________\n",
            "block2_conv1 (Conv2D)        (None, 75, 75, 128)       73856     \n",
            "_________________________________________________________________\n",
            "block2_conv2 (Conv2D)        (None, 75, 75, 128)       147584    \n",
            "_________________________________________________________________\n",
            "block2_pool (MaxPooling2D)   (None, 37, 37, 128)       0         \n",
            "_________________________________________________________________\n",
            "block3_conv1 (Conv2D)        (None, 37, 37, 256)       295168    \n",
            "_________________________________________________________________\n",
            "block3_conv2 (Conv2D)        (None, 37, 37, 256)       590080    \n",
            "_________________________________________________________________\n",
            "block3_conv3 (Conv2D)        (None, 37, 37, 256)       590080    \n",
            "_________________________________________________________________\n",
            "block3_pool (MaxPooling2D)   (None, 18, 18, 256)       0         \n",
            "_________________________________________________________________\n",
            "block4_conv1 (Conv2D)        (None, 18, 18, 512)       1180160   \n",
            "_________________________________________________________________\n",
            "block4_conv2 (Conv2D)        (None, 18, 18, 512)       2359808   \n",
            "_________________________________________________________________\n",
            "block4_conv3 (Conv2D)        (None, 18, 18, 512)       2359808   \n",
            "_________________________________________________________________\n",
            "block4_pool (MaxPooling2D)   (None, 9, 9, 512)         0         \n",
            "_________________________________________________________________\n",
            "block5_conv1 (Conv2D)        (None, 9, 9, 512)         2359808   \n",
            "_________________________________________________________________\n",
            "block5_conv2 (Conv2D)        (None, 9, 9, 512)         2359808   \n",
            "_________________________________________________________________\n",
            "block5_conv3 (Conv2D)        (None, 9, 9, 512)         2359808   \n",
            "_________________________________________________________________\n",
            "block5_pool (MaxPooling2D)   (None, 4, 4, 512)         0         \n",
            "=================================================================\n",
            "Total params: 14,714,688\n",
            "Trainable params: 14,714,688\n",
            "Non-trainable params: 0\n",
            "_________________________________________________________________\n"
          ]
        }
      ]
    },
    {
      "cell_type": "code",
      "metadata": {
        "colab": {
          "base_uri": "https://localhost:8080/"
        },
        "id": "7kKz3k4n_5FM",
        "outputId": "9062a9b9-4783-4ea1-c3ea-e3c7cd229eb8"
      },
      "source": [
        "# 데이터 증식을 사용하지 않는 빠른 특성 추출\n",
        "\n",
        "import os\n",
        "import numpy as np\n",
        "from tensorflow.keras.preprocessing.image import ImageDataGenerator\n",
        "\n",
        "base_dir = '/content/drive/MyDrive/ColabNotebooks/dl/datasets/cats_and_dogs_small'\n",
        "\n",
        "train_dir = os.path.join(base_dir, 'train')\n",
        "validation_dir = os.path.join(base_dir, 'validation')\n",
        "test_dir = os.path.join(base_dir,'test')\n",
        "\n",
        "datagen = ImageDataGenerator(rescale=1./255) \n",
        "batch_size =20\n",
        "\n",
        "def extract_features(directory, sample_count):\n",
        "  features = np.zeros(shape=(sample_count,4,4,512))\n",
        "  labels = np.zeros(shape=(sample_count))\n",
        "  generator = datagen.flow_from_directory(\n",
        "      directory,\n",
        "      target_size = (150,150),\n",
        "      batch_size = batch_size,\n",
        "      class_mode = 'binary')\n",
        "  i=0\n",
        "  for inputs_batch, labels_batch in generator:\n",
        "    features_batch = conv_base.predict(inputs_batch)\n",
        "    features[i * batch_size : (i+1) * batch_size] = features_batch\n",
        "    labels[i * batch_size : (i+1) * batch_size] = labels_batch\n",
        "    i += 1\n",
        "    if i * batch_size >= sample_count:\n",
        "      break\n",
        "  return features, labels\n",
        "  \n",
        "train_features, train_labels = extract_features(train_dir, 2000)\n",
        "validation_features, validation_labels = extract_features(validation_dir, 1000)\n",
        "test_features, test_labels = extract_features(test_dir, 1000)  "
      ],
      "execution_count": null,
      "outputs": [
        {
          "output_type": "stream",
          "name": "stdout",
          "text": [
            "Found 2000 images belonging to 2 classes.\n",
            "Found 1000 images belonging to 2 classes.\n",
            "Found 1000 images belonging to 2 classes.\n"
          ]
        }
      ]
    },
    {
      "cell_type": "code",
      "metadata": {
        "colab": {
          "base_uri": "https://localhost:8080/"
        },
        "id": "D3j1YHUWHAiC",
        "outputId": "09617915-717a-44b1-9243-235ce46cc009"
      },
      "source": [
        "train_features.shape\n",
        "validation_features.shape"
      ],
      "execution_count": null,
      "outputs": [
        {
          "output_type": "execute_result",
          "data": {
            "text/plain": [
              "(1000, 4, 4, 512)"
            ]
          },
          "metadata": {},
          "execution_count": 11
        }
      ]
    },
    {
      "cell_type": "code",
      "metadata": {
        "id": "vtPMd39TJSWj"
      },
      "source": [
        "train_features = np.reshape(train_features, (2000, 4*4*512))\n",
        "validation_features = np.reshape(validation_features, (1000,4*4*512))\n",
        "test_features = np.reshape(test_features,(1000,4*4*512))"
      ],
      "execution_count": null,
      "outputs": []
    },
    {
      "cell_type": "code",
      "metadata": {
        "colab": {
          "base_uri": "https://localhost:8080/"
        },
        "id": "0eN4dmgqJw8q",
        "outputId": "360837d6-026c-4fed-a923-6deabf507186"
      },
      "source": [
        "train_features.shape"
      ],
      "execution_count": null,
      "outputs": [
        {
          "output_type": "execute_result",
          "data": {
            "text/plain": [
              "(2000, 8192)"
            ]
          },
          "metadata": {},
          "execution_count": 13
        }
      ]
    },
    {
      "cell_type": "code",
      "metadata": {
        "colab": {
          "base_uri": "https://localhost:8080/"
        },
        "id": "DMQ8QuwCJzRM",
        "outputId": "d3b76bb9-68f1-42c5-8a5b-41732d0a6a9e"
      },
      "source": [
        "from tensorflow.keras import models\n",
        "from tensorflow.keras import layers\n",
        "from tensorflow.keras import optimizers\n",
        "\n",
        "model = models.Sequential()\n",
        "model.add(layers.Dense(256,activation='relu',input_dim=4*4*512))\n",
        "model.add(layers.Dense(1,activation='sigmoid'))\n",
        "\n",
        "model.compile(optimizer = optimizers.RMSprop(lr = 2e-5),\n",
        "              loss='binary_crossentropy',\n",
        "              metrics = ['acc'])\n",
        "\n",
        "history = model.fit(train_features, train_labels,\n",
        "                    epochs =30,\n",
        "                    batch_size=20,\n",
        "                    validation_data=(validation_features,validation_labels))"
      ],
      "execution_count": null,
      "outputs": [
        {
          "output_type": "stream",
          "name": "stderr",
          "text": [
            "/usr/local/lib/python3.7/dist-packages/keras/optimizer_v2/optimizer_v2.py:356: UserWarning: The `lr` argument is deprecated, use `learning_rate` instead.\n",
            "  \"The `lr` argument is deprecated, use `learning_rate` instead.\")\n"
          ]
        },
        {
          "output_type": "stream",
          "name": "stdout",
          "text": [
            "Epoch 1/30\n",
            "100/100 [==============================] - 1s 9ms/step - loss: 0.4975 - acc: 0.7785 - val_loss: 0.3993 - val_acc: 0.8350\n",
            "Epoch 2/30\n",
            "100/100 [==============================] - 1s 7ms/step - loss: 0.3375 - acc: 0.8650 - val_loss: 0.3203 - val_acc: 0.8800\n",
            "Epoch 3/30\n",
            "100/100 [==============================] - 1s 7ms/step - loss: 0.2757 - acc: 0.9020 - val_loss: 0.2885 - val_acc: 0.8880\n",
            "Epoch 4/30\n",
            "100/100 [==============================] - 1s 7ms/step - loss: 0.2385 - acc: 0.9165 - val_loss: 0.2748 - val_acc: 0.8890\n",
            "Epoch 5/30\n",
            "100/100 [==============================] - 1s 7ms/step - loss: 0.2130 - acc: 0.9285 - val_loss: 0.2697 - val_acc: 0.8900\n",
            "Epoch 6/30\n",
            "100/100 [==============================] - 1s 7ms/step - loss: 0.1933 - acc: 0.9330 - val_loss: 0.2513 - val_acc: 0.9020\n",
            "Epoch 7/30\n",
            "100/100 [==============================] - 1s 7ms/step - loss: 0.1779 - acc: 0.9420 - val_loss: 0.2603 - val_acc: 0.8980\n",
            "Epoch 8/30\n",
            "100/100 [==============================] - 1s 7ms/step - loss: 0.1638 - acc: 0.9465 - val_loss: 0.2658 - val_acc: 0.8910\n",
            "Epoch 9/30\n",
            "100/100 [==============================] - 1s 7ms/step - loss: 0.1506 - acc: 0.9520 - val_loss: 0.2438 - val_acc: 0.9050\n",
            "Epoch 10/30\n",
            "100/100 [==============================] - 1s 7ms/step - loss: 0.1383 - acc: 0.9540 - val_loss: 0.2399 - val_acc: 0.8990\n",
            "Epoch 11/30\n",
            "100/100 [==============================] - 1s 7ms/step - loss: 0.1293 - acc: 0.9625 - val_loss: 0.2391 - val_acc: 0.9000\n",
            "Epoch 12/30\n",
            "100/100 [==============================] - 1s 7ms/step - loss: 0.1201 - acc: 0.9610 - val_loss: 0.2430 - val_acc: 0.8990\n",
            "Epoch 13/30\n",
            "100/100 [==============================] - 1s 7ms/step - loss: 0.1123 - acc: 0.9660 - val_loss: 0.2447 - val_acc: 0.9000\n",
            "Epoch 14/30\n",
            "100/100 [==============================] - 1s 7ms/step - loss: 0.1041 - acc: 0.9670 - val_loss: 0.2496 - val_acc: 0.8990\n",
            "Epoch 15/30\n",
            "100/100 [==============================] - 1s 7ms/step - loss: 0.0957 - acc: 0.9720 - val_loss: 0.2412 - val_acc: 0.9060\n",
            "Epoch 16/30\n",
            "100/100 [==============================] - 1s 7ms/step - loss: 0.0909 - acc: 0.9720 - val_loss: 0.2536 - val_acc: 0.8980\n",
            "Epoch 17/30\n",
            "100/100 [==============================] - 1s 7ms/step - loss: 0.0841 - acc: 0.9805 - val_loss: 0.2487 - val_acc: 0.8980\n",
            "Epoch 18/30\n",
            "100/100 [==============================] - 1s 7ms/step - loss: 0.0790 - acc: 0.9805 - val_loss: 0.2443 - val_acc: 0.9020\n",
            "Epoch 19/30\n",
            "100/100 [==============================] - 1s 7ms/step - loss: 0.0736 - acc: 0.9835 - val_loss: 0.2502 - val_acc: 0.9020\n",
            "Epoch 20/30\n",
            "100/100 [==============================] - 1s 7ms/step - loss: 0.0681 - acc: 0.9855 - val_loss: 0.2524 - val_acc: 0.8990\n",
            "Epoch 21/30\n",
            "100/100 [==============================] - 1s 7ms/step - loss: 0.0620 - acc: 0.9895 - val_loss: 0.3008 - val_acc: 0.8820\n",
            "Epoch 22/30\n",
            "100/100 [==============================] - 1s 7ms/step - loss: 0.0600 - acc: 0.9900 - val_loss: 0.2719 - val_acc: 0.8920\n",
            "Epoch 23/30\n",
            "100/100 [==============================] - 1s 7ms/step - loss: 0.0545 - acc: 0.9925 - val_loss: 0.2527 - val_acc: 0.8990\n",
            "Epoch 24/30\n",
            "100/100 [==============================] - 1s 7ms/step - loss: 0.0511 - acc: 0.9930 - val_loss: 0.2571 - val_acc: 0.9020\n",
            "Epoch 25/30\n",
            "100/100 [==============================] - 1s 7ms/step - loss: 0.0469 - acc: 0.9940 - val_loss: 0.2550 - val_acc: 0.9040\n",
            "Epoch 26/30\n",
            "100/100 [==============================] - 1s 7ms/step - loss: 0.0441 - acc: 0.9965 - val_loss: 0.2549 - val_acc: 0.9040\n",
            "Epoch 27/30\n",
            "100/100 [==============================] - 1s 7ms/step - loss: 0.0398 - acc: 0.9960 - val_loss: 0.2571 - val_acc: 0.9050\n",
            "Epoch 28/30\n",
            "100/100 [==============================] - 1s 7ms/step - loss: 0.0376 - acc: 0.9975 - val_loss: 0.2709 - val_acc: 0.8980\n",
            "Epoch 29/30\n",
            "100/100 [==============================] - 1s 7ms/step - loss: 0.0349 - acc: 0.9975 - val_loss: 0.2650 - val_acc: 0.9040\n",
            "Epoch 30/30\n",
            "100/100 [==============================] - 1s 7ms/step - loss: 0.0318 - acc: 0.9990 - val_loss: 0.2733 - val_acc: 0.9020\n"
          ]
        }
      ]
    },
    {
      "cell_type": "code",
      "metadata": {
        "colab": {
          "base_uri": "https://localhost:8080/",
          "height": 545
        },
        "id": "Pxf4ZGBjK_V3",
        "outputId": "1d7e440e-419a-44fb-cef9-1153d43fa45b"
      },
      "source": [
        "import matplotlib.pyplot as plt\n",
        "\n",
        "acc = history.history['acc']\n",
        "val_acc = history.history['val_acc']\n",
        "loss = history.history['loss']\n",
        "val_loss = history.history['val_loss']\n",
        "\n",
        "epochs = range(len(acc))\n",
        "\n",
        "plt.plot(epochs, acc, 'bo', label='Training acc')\n",
        "plt.plot(epochs, val_acc, 'b', label='Validation acc')\n",
        "plt.title('Training and calidation accuracy')\n",
        "plt.legend()\n",
        "\n",
        "plt.figure()\n",
        "\n",
        "plt.plot(epochs, loss, 'bo', label='Training acc')\n",
        "plt.plot(epochs, val_loss, 'b', label='Validation acc')\n",
        "plt.title('Training and calidation accuracy')\n",
        "plt.legend()\n",
        "\n",
        "plt.show()"
      ],
      "execution_count": null,
      "outputs": [
        {
          "output_type": "display_data",
          "data": {
            "image/png": "[encoded data removed]",
            "text/plain": [
              "<Figure size 432x288 with 1 Axes>"
            ]
          },
          "metadata": {
            "needs_background": "light"
          }
        },
        {
          "output_type": "display_data",
          "data": {
            "image/png": "[encoded data removed]",
            "text/plain": [
              "<Figure size 432x288 with 1 Axes>"
            ]
          },
          "metadata": {
            "needs_background": "light"
          }
        }
      ]
    }
  ]
}