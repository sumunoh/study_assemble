{
  "nbformat": 4,
  "nbformat_minor": 0,
  "metadata": {
    "colab": {
      "name": "dl_함수형api_기초.ipynb",
      "provenance": [],
      "collapsed_sections": [],
      "machine_shape": "hm",
      "mount_file_id": "1FVOQLeooI6v2K0VzXZVStej2-7IFqTf9",
      "authorship_tag": "ABX9TyNf9Enxl/97VXy3r/33D6zw",
      "include_colab_link": true
    },
    "kernelspec": {
      "name": "python3",
      "display_name": "Python 3"
    },
    "language_info": {
      "name": "python"
    },
    "accelerator": "TPU"
  },
  "cells": [
    {
      "cell_type": "markdown",
      "metadata": {
        "id": "view-in-github",
        "colab_type": "text"
      },
      "source": [
        "<a href=\"https://colab.research.google.com/github/sumunoh/study_assemble/blob/main/dl_%ED%95%A8%EC%88%98%ED%98%95api_%EA%B8%B0%EC%B4%88.ipynb\" target=\"_parent\"><img src=\"https://colab.research.google.com/assets/colab-badge.svg\" alt=\"Open In Colab\"/></a>"
      ]
    },
    {
      "cell_type": "code",
      "metadata": {
        "colab": {
          "base_uri": "https://localhost:8080/"
        },
        "id": "mYrVkMaRDP_h",
        "outputId": "98808d42-b5c9-4dc9-f530-7fcfd84503b2"
      },
      "source": [
        "# 함수형 api\n",
        "\n",
        "from tensorflow.keras.models import Sequential, Model\n",
        "from tensorflow.keras import layers\n",
        "from tensorflow.keras import Input\n",
        "\n",
        "input_tensor = Input(shape=(64,))\n",
        "x = layers.Dense(32, activation='relu')(input_tensor)\n",
        "x = layers.Dense(32, activation='relu')(x)\n",
        "output_tensor = layers.Dense(10, activation='softmax')(x)\n",
        "\n",
        "model = Model(input_tensor, output_tensor)\n",
        "model.summary()"
      ],
      "execution_count": 1,
      "outputs": [
        {
          "output_type": "stream",
          "name": "stdout",
          "text": [
            "Model: \"model\"\n",
            "_________________________________________________________________\n",
            "Layer (type)                 Output Shape              Param #   \n",
            "=================================================================\n",
            "input_1 (InputLayer)         [(None, 64)]              0         \n",
            "_________________________________________________________________\n",
            "dense (Dense)                (None, 32)                2080      \n",
            "_________________________________________________________________\n",
            "dense_1 (Dense)              (None, 32)                1056      \n",
            "_________________________________________________________________\n",
            "dense_2 (Dense)              (None, 10)                330       \n",
            "=================================================================\n",
            "Total params: 3,466\n",
            "Trainable params: 3,466\n",
            "Non-trainable params: 0\n",
            "_________________________________________________________________\n"
          ]
        }
      ]
    },
    {
      "cell_type": "code",
      "metadata": {
        "colab": {
          "base_uri": "https://localhost:8080/"
        },
        "id": "PdniKrryDYej",
        "outputId": "5eccea97-8fe5-41ad-ddab-8979e302dece"
      },
      "source": [
        "from tensorflow.keras.models import Sequential, Model\n",
        "from tensorflow.keras import layers\n",
        "from tensorflow.keras import Input\n",
        "\n",
        "seq_model = Sequential()\n",
        "seq_model.add(layers.Dense(32, activation='relu', input_shape=(64,)))\n",
        "seq_model.add(layers.Dense(32, activation='relu'))\n",
        "seq_model.add(layers.Dense(10, activation='softmax'))\n",
        "\n",
        "seq_model.summary()"
      ],
      "execution_count": 2,
      "outputs": [
        {
          "output_type": "stream",
          "name": "stdout",
          "text": [
            "Model: \"sequential\"\n",
            "_________________________________________________________________\n",
            "Layer (type)                 Output Shape              Param #   \n",
            "=================================================================\n",
            "dense_3 (Dense)              (None, 32)                2080      \n",
            "_________________________________________________________________\n",
            "dense_4 (Dense)              (None, 32)                1056      \n",
            "_________________________________________________________________\n",
            "dense_5 (Dense)              (None, 10)                330       \n",
            "=================================================================\n",
            "Total params: 3,466\n",
            "Trainable params: 3,466\n",
            "Non-trainable params: 0\n",
            "_________________________________________________________________\n"
          ]
        }
      ]
    },
    {
      "cell_type": "code",
      "metadata": {
        "colab": {
          "base_uri": "https://localhost:8080/"
        },
        "id": "iCi_zGHRDzP5",
        "outputId": "32441bea-8e73-495a-ea92-537c98163704"
      },
      "source": [
        "import numpy as np\n",
        "model.compile(optimizer='rmsprop',loss='categorical_crossentropy')\n",
        "\n",
        "x_train = np.random.random((1000,64))\n",
        "y_train = np.random.random((1000,10))\n",
        "\n",
        "model.fit(x_train,y_train, epochs=10, batch_size=128)\n",
        "score = model.evaluate(x_train,y_train)"
      ],
      "execution_count": 3,
      "outputs": [
        {
          "output_type": "stream",
          "name": "stdout",
          "text": [
            "Epoch 1/10\n",
            "8/8 [==============================] - 1s 2ms/step - loss: 12.1802\n",
            "Epoch 2/10\n",
            "8/8 [==============================] - 0s 1ms/step - loss: 13.7955\n",
            "Epoch 3/10\n",
            "8/8 [==============================] - 0s 1ms/step - loss: 16.9525\n",
            "Epoch 4/10\n",
            "8/8 [==============================] - 0s 1ms/step - loss: 21.2819\n",
            "Epoch 5/10\n",
            "8/8 [==============================] - 0s 1ms/step - loss: 26.8183\n",
            "Epoch 6/10\n",
            "8/8 [==============================] - 0s 1ms/step - loss: 33.0920\n",
            "Epoch 7/10\n",
            "8/8 [==============================] - 0s 1ms/step - loss: 39.8401\n",
            "Epoch 8/10\n",
            "8/8 [==============================] - 0s 1ms/step - loss: 47.4524\n",
            "Epoch 9/10\n",
            "8/8 [==============================] - 0s 1ms/step - loss: 55.9336\n",
            "Epoch 10/10\n",
            "8/8 [==============================] - 0s 1ms/step - loss: 64.8757\n",
            "32/32 [==============================] - 0s 763us/step - loss: 70.2861\n"
          ]
        }
      ]
    },
    {
      "cell_type": "code",
      "metadata": {
        "colab": {
          "base_uri": "https://localhost:8080/"
        },
        "id": "oYDrOC2bEksa",
        "outputId": "bcb58e3d-8198-4845-d1ee-79ff18f258ce"
      },
      "source": [
        "score"
      ],
      "execution_count": 4,
      "outputs": [
        {
          "output_type": "execute_result",
          "data": {
            "text/plain": [
              "70.28607940673828"
            ]
          },
          "metadata": {},
          "execution_count": 4
        }
      ]
    },
    {
      "cell_type": "code",
      "metadata": {
        "id": "GVHsnLdWEhx7"
      },
      "source": [
        "# 다중 입력모델\n",
        "\n",
        "from tensorflow.keras.models import Model\n",
        "from tensorflow.keras import layers\n",
        "from tensorflow.keras import Input\n",
        "\n",
        "text_vocabulary_size = 10000\n",
        "question_vocabulary_size = 10000\n",
        "answer_vocabulary_size = 500\n",
        "\n",
        "text_input = Input(shape=(None,),\n",
        "                   dtype='int32',\n",
        "                   name='text')\n",
        "embedded_text = layers.Embedding(\n",
        "    text_vocabulary_size,64)(text_input)\n",
        "\n",
        "encoded_text = layers.LSTM(32)(embedded_text)\n",
        "\n",
        "question_input = Input(shape=(None,),\n",
        "                       dtype='int32',\n",
        "                       name='question')\n",
        "embedded_question = layers.Embedding(\n",
        "    question_vocabulary_size,32)(question_input)\n",
        "encoded_question = layers.LSTM(16)(embedded_question)\n",
        "\n",
        "concatenated = layers.concatenate([encoded_text, encoded_question], axis=-1)\n",
        "\n",
        "answer = layers.Dense(answer_vocabulary_size, activation='softmax')(concatenated)\n",
        "\n",
        "model = Model([text_input,question_input], answer)\n",
        "model.compile(optimizer='rmsprop',\n",
        "              loss='categorical_crossentropy',\n",
        "              metrics=['acc'])"
      ],
      "execution_count": 11,
      "outputs": []
    },
    {
      "cell_type": "code",
      "metadata": {
        "colab": {
          "base_uri": "https://localhost:8080/"
        },
        "id": "30HPwpdCS4GC",
        "outputId": "127f5747-f39a-46a3-ef43-d3a31250cf70"
      },
      "source": [
        "import numpy as np\n",
        "text_vocabulary_size = 10000\n",
        "question_vocabulary_size = 10000\n",
        "answer_vocabulary_size = 500\n",
        "num_samples = 1000\n",
        "max_length = 100\n",
        "\n",
        "text = np.random.randint(1, text_vocabulary_size,\n",
        "                         size=(num_samples,max_length))\n",
        "text.shape"
      ],
      "execution_count": 12,
      "outputs": [
        {
          "output_type": "execute_result",
          "data": {
            "text/plain": [
              "(1000, 100)"
            ]
          },
          "metadata": {},
          "execution_count": 12
        }
      ]
    },
    {
      "cell_type": "code",
      "metadata": {
        "colab": {
          "base_uri": "https://localhost:8080/"
        },
        "id": "9ysq-2thS6zc",
        "outputId": "257a64c2-0e41-4f1d-fe57-b0925cbe5cfe"
      },
      "source": [
        "from tensorflow.keras.utils import to_categorical\n",
        "\n",
        "num_sample = 1000\n",
        "max_length = 100\n",
        "\n",
        "text = np.random.randint(1, text_vocabulary_size,\n",
        "                         size=(num_samples, max_length))\n",
        "\n",
        "question = np.random.randint(1,question_vocabulary_size,\n",
        "                             size=(num_samples, max_length))\n",
        "\n",
        "answers = np.random.randint(0, answer_vocabulary_size, size=num_samples)\n",
        "\n",
        "answers = to_categorical(answers)\n",
        "\n",
        "model.fit([text,question],answers,epochs=10,batch_size=128)"
      ],
      "execution_count": 13,
      "outputs": [
        {
          "output_type": "stream",
          "name": "stdout",
          "text": [
            "Epoch 1/10\n",
            "8/8 [==============================] - 3s 74ms/step - loss: 6.2147 - acc: 0.0020\n",
            "Epoch 2/10\n",
            "8/8 [==============================] - 1s 74ms/step - loss: 6.1929 - acc: 0.0270\n",
            "Epoch 3/10\n",
            "8/8 [==============================] - 1s 78ms/step - loss: 6.1048 - acc: 0.0050\n",
            "Epoch 4/10\n",
            "8/8 [==============================] - 1s 78ms/step - loss: 6.0311 - acc: 0.0060\n",
            "Epoch 5/10\n",
            "8/8 [==============================] - 1s 80ms/step - loss: 5.9784 - acc: 0.0080\n",
            "Epoch 6/10\n",
            "8/8 [==============================] - 1s 79ms/step - loss: 5.9029 - acc: 0.0080\n",
            "Epoch 7/10\n",
            "8/8 [==============================] - 1s 80ms/step - loss: 5.8346 - acc: 0.0110\n",
            "Epoch 8/10\n",
            "8/8 [==============================] - 1s 81ms/step - loss: 5.7522 - acc: 0.0160\n",
            "Epoch 9/10\n",
            "8/8 [==============================] - 1s 81ms/step - loss: 5.6688 - acc: 0.0160\n",
            "Epoch 10/10\n",
            "8/8 [==============================] - 1s 81ms/step - loss: 5.6141 - acc: 0.0210\n"
          ]
        },
        {
          "output_type": "execute_result",
          "data": {
            "text/plain": [
              "<keras.callbacks.History at 0x7f1d3dc0ea90>"
            ]
          },
          "metadata": {},
          "execution_count": 13
        }
      ]
    }
  ]
}