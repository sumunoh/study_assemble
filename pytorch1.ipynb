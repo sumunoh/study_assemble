{
  "nbformat": 4,
  "nbformat_minor": 0,
  "metadata": {
    "colab": {
      "name": "pytorch1.ipynb",
      "provenance": [],
      "collapsed_sections": [],
      "machine_shape": "hm",
      "mount_file_id": "1DoAEFaolK1r0-iX5gN_Dz3poNhO7nl-7",
      "authorship_tag": "ABX9TyM0raMoLcKeOHLqIixl56RZ",
      "include_colab_link": true
    },
    "kernelspec": {
      "name": "python3",
      "display_name": "Python 3"
    },
    "language_info": {
      "name": "python"
    },
    "accelerator": "GPU",
    "widgets": {
      "application/vnd.jupyter.widget-state+json": {
        "32d5024e74874708be3fa4d4d7e7a552": {
          "model_module": "@jupyter-widgets/controls",
          "model_name": "HBoxModel",
          "model_module_version": "1.5.0",
          "state": {
            "_view_name": "HBoxView",
            "_dom_classes": [],
            "_model_name": "HBoxModel",
            "_view_module": "@jupyter-widgets/controls",
            "_model_module_version": "1.5.0",
            "_view_count": null,
            "_view_module_version": "1.5.0",
            "box_style": "",
            "layout": "IPY_MODEL_50929278d9544863859247e8b08601fb",
            "_model_module": "@jupyter-widgets/controls",
            "children": [
              "IPY_MODEL_0aa4ee08d28d44918d25e99ced9a6a8c",
              "IPY_MODEL_0903f2b8f613466e8ab73b322021bfa7",
              "IPY_MODEL_11674cd5b9374c398fca8858e4b1c5e0"
            ]
          }
        },
        "50929278d9544863859247e8b08601fb": {
          "model_module": "@jupyter-widgets/base",
          "model_name": "LayoutModel",
          "model_module_version": "1.2.0",
          "state": {
            "_view_name": "LayoutView",
            "grid_template_rows": null,
            "right": null,
            "justify_content": null,
            "_view_module": "@jupyter-widgets/base",
            "overflow": null,
            "_model_module_version": "1.2.0",
            "_view_count": null,
            "flex_flow": null,
            "width": null,
            "min_width": null,
            "border": null,
            "align_items": null,
            "bottom": null,
            "_model_module": "@jupyter-widgets/base",
            "top": null,
            "grid_column": null,
            "overflow_y": null,
            "overflow_x": null,
            "grid_auto_flow": null,
            "grid_area": null,
            "grid_template_columns": null,
            "flex": null,
            "_model_name": "LayoutModel",
            "justify_items": null,
            "grid_row": null,
            "max_height": null,
            "align_content": null,
            "visibility": null,
            "align_self": null,
            "height": null,
            "min_height": null,
            "padding": null,
            "grid_auto_rows": null,
            "grid_gap": null,
            "max_width": null,
            "order": null,
            "_view_module_version": "1.2.0",
            "grid_template_areas": null,
            "object_position": null,
            "object_fit": null,
            "grid_auto_columns": null,
            "margin": null,
            "display": null,
            "left": null
          }
        },
        "0aa4ee08d28d44918d25e99ced9a6a8c": {
          "model_module": "@jupyter-widgets/controls",
          "model_name": "HTMLModel",
          "model_module_version": "1.5.0",
          "state": {
            "_view_name": "HTMLView",
            "style": "IPY_MODEL_3ce98f804d85485297622d3c7cb64eed",
            "_dom_classes": [],
            "description": "",
            "_model_name": "HTMLModel",
            "placeholder": "​",
            "_view_module": "@jupyter-widgets/controls",
            "_model_module_version": "1.5.0",
            "value": "",
            "_view_count": null,
            "_view_module_version": "1.5.0",
            "description_tooltip": null,
            "_model_module": "@jupyter-widgets/controls",
            "layout": "IPY_MODEL_58e494ffb01143b4a1300255033f1227"
          }
        },
        "0903f2b8f613466e8ab73b322021bfa7": {
          "model_module": "@jupyter-widgets/controls",
          "model_name": "FloatProgressModel",
          "model_module_version": "1.5.0",
          "state": {
            "_view_name": "ProgressView",
            "style": "IPY_MODEL_271e11e4051d4c288f21638eb49ea2c0",
            "_dom_classes": [],
            "description": "",
            "_model_name": "FloatProgressModel",
            "bar_style": "success",
            "max": 9912422,
            "_view_module": "@jupyter-widgets/controls",
            "_model_module_version": "1.5.0",
            "value": 9912422,
            "_view_count": null,
            "_view_module_version": "1.5.0",
            "orientation": "horizontal",
            "min": 0,
            "description_tooltip": null,
            "_model_module": "@jupyter-widgets/controls",
            "layout": "IPY_MODEL_21977e84dddf462caeba717b2a6fffc7"
          }
        },
        "11674cd5b9374c398fca8858e4b1c5e0": {
          "model_module": "@jupyter-widgets/controls",
          "model_name": "HTMLModel",
          "model_module_version": "1.5.0",
          "state": {
            "_view_name": "HTMLView",
            "style": "IPY_MODEL_9b582975f49948e8ac3f9d636486a618",
            "_dom_classes": [],
            "description": "",
            "_model_name": "HTMLModel",
            "placeholder": "​",
            "_view_module": "@jupyter-widgets/controls",
            "_model_module_version": "1.5.0",
            "value": " 9913344/? [00:00&lt;00:00, 55680168.03it/s]",
            "_view_count": null,
            "_view_module_version": "1.5.0",
            "description_tooltip": null,
            "_model_module": "@jupyter-widgets/controls",
            "layout": "IPY_MODEL_34b899691f1c42268b694f3e12f3129a"
          }
        },
        "3ce98f804d85485297622d3c7cb64eed": {
          "model_module": "@jupyter-widgets/controls",
          "model_name": "DescriptionStyleModel",
          "model_module_version": "1.5.0",
          "state": {
            "_view_name": "StyleView",
            "_model_name": "DescriptionStyleModel",
            "description_width": "",
            "_view_module": "@jupyter-widgets/base",
            "_model_module_version": "1.5.0",
            "_view_count": null,
            "_view_module_version": "1.2.0",
            "_model_module": "@jupyter-widgets/controls"
          }
        },
        "58e494ffb01143b4a1300255033f1227": {
          "model_module": "@jupyter-widgets/base",
          "model_name": "LayoutModel",
          "model_module_version": "1.2.0",
          "state": {
            "_view_name": "LayoutView",
            "grid_template_rows": null,
            "right": null,
            "justify_content": null,
            "_view_module": "@jupyter-widgets/base",
            "overflow": null,
            "_model_module_version": "1.2.0",
            "_view_count": null,
            "flex_flow": null,
            "width": null,
            "min_width": null,
            "border": null,
            "align_items": null,
            "bottom": null,
            "_model_module": "@jupyter-widgets/base",
            "top": null,
            "grid_column": null,
            "overflow_y": null,
            "overflow_x": null,
            "grid_auto_flow": null,
            "grid_area": null,
            "grid_template_columns": null,
            "flex": null,
            "_model_name": "LayoutModel",
            "justify_items": null,
            "grid_row": null,
            "max_height": null,
            "align_content": null,
            "visibility": null,
            "align_self": null,
            "height": null,
            "min_height": null,
            "padding": null,
            "grid_auto_rows": null,
            "grid_gap": null,
            "max_width": null,
            "order": null,
            "_view_module_version": "1.2.0",
            "grid_template_areas": null,
            "object_position": null,
            "object_fit": null,
            "grid_auto_columns": null,
            "margin": null,
            "display": null,
            "left": null
          }
        },
        "271e11e4051d4c288f21638eb49ea2c0": {
          "model_module": "@jupyter-widgets/controls",
          "model_name": "ProgressStyleModel",
          "model_module_version": "1.5.0",
          "state": {
            "_view_name": "StyleView",
            "_model_name": "ProgressStyleModel",
            "description_width": "",
            "_view_module": "@jupyter-widgets/base",
            "_model_module_version": "1.5.0",
            "_view_count": null,
            "_view_module_version": "1.2.0",
            "bar_color": null,
            "_model_module": "@jupyter-widgets/controls"
          }
        },
        "21977e84dddf462caeba717b2a6fffc7": {
          "model_module": "@jupyter-widgets/base",
          "model_name": "LayoutModel",
          "model_module_version": "1.2.0",
          "state": {
            "_view_name": "LayoutView",
            "grid_template_rows": null,
            "right": null,
            "justify_content": null,
            "_view_module": "@jupyter-widgets/base",
            "overflow": null,
            "_model_module_version": "1.2.0",
            "_view_count": null,
            "flex_flow": null,
            "width": null,
            "min_width": null,
            "border": null,
            "align_items": null,
            "bottom": null,
            "_model_module": "@jupyter-widgets/base",
            "top": null,
            "grid_column": null,
            "overflow_y": null,
            "overflow_x": null,
            "grid_auto_flow": null,
            "grid_area": null,
            "grid_template_columns": null,
            "flex": null,
            "_model_name": "LayoutModel",
            "justify_items": null,
            "grid_row": null,
            "max_height": null,
            "align_content": null,
            "visibility": null,
            "align_self": null,
            "height": null,
            "min_height": null,
            "padding": null,
            "grid_auto_rows": null,
            "grid_gap": null,
            "max_width": null,
            "order": null,
            "_view_module_version": "1.2.0",
            "grid_template_areas": null,
            "object_position": null,
            "object_fit": null,
            "grid_auto_columns": null,
            "margin": null,
            "display": null,
            "left": null
          }
        },
        "9b582975f49948e8ac3f9d636486a618": {
          "model_module": "@jupyter-widgets/controls",
          "model_name": "DescriptionStyleModel",
          "model_module_version": "1.5.0",
          "state": {
            "_view_name": "StyleView",
            "_model_name": "DescriptionStyleModel",
            "description_width": "",
            "_view_module": "@jupyter-widgets/base",
            "_model_module_version": "1.5.0",
            "_view_count": null,
            "_view_module_version": "1.2.0",
            "_model_module": "@jupyter-widgets/controls"
          }
        },
        "34b899691f1c42268b694f3e12f3129a": {
          "model_module": "@jupyter-widgets/base",
          "model_name": "LayoutModel",
          "model_module_version": "1.2.0",
          "state": {
            "_view_name": "LayoutView",
            "grid_template_rows": null,
            "right": null,
            "justify_content": null,
            "_view_module": "@jupyter-widgets/base",
            "overflow": null,
            "_model_module_version": "1.2.0",
            "_view_count": null,
            "flex_flow": null,
            "width": null,
            "min_width": null,
            "border": null,
            "align_items": null,
            "bottom": null,
            "_model_module": "@jupyter-widgets/base",
            "top": null,
            "grid_column": null,
            "overflow_y": null,
            "overflow_x": null,
            "grid_auto_flow": null,
            "grid_area": null,
            "grid_template_columns": null,
            "flex": null,
            "_model_name": "LayoutModel",
            "justify_items": null,
            "grid_row": null,
            "max_height": null,
            "align_content": null,
            "visibility": null,
            "align_self": null,
            "height": null,
            "min_height": null,
            "padding": null,
            "grid_auto_rows": null,
            "grid_gap": null,
            "max_width": null,
            "order": null,
            "_view_module_version": "1.2.0",
            "grid_template_areas": null,
            "object_position": null,
            "object_fit": null,
            "grid_auto_columns": null,
            "margin": null,
            "display": null,
            "left": null
          }
        },
        "c7911aa87deb4198a7e348039965991c": {
          "model_module": "@jupyter-widgets/controls",
          "model_name": "HBoxModel",
          "model_module_version": "1.5.0",
          "state": {
            "_view_name": "HBoxView",
            "_dom_classes": [],
            "_model_name": "HBoxModel",
            "_view_module": "@jupyter-widgets/controls",
            "_model_module_version": "1.5.0",
            "_view_count": null,
            "_view_module_version": "1.5.0",
            "box_style": "",
            "layout": "IPY_MODEL_9c87f845997344be8d2baa3e84efb7f6",
            "_model_module": "@jupyter-widgets/controls",
            "children": [
              "IPY_MODEL_b27aece2b5d94935a5d9cdd89e44376d",
              "IPY_MODEL_d1cb8848ce3d4314911c43d8aa6059e5",
              "IPY_MODEL_d94cdd567124490282cb0f260715ccb9"
            ]
          }
        },
        "9c87f845997344be8d2baa3e84efb7f6": {
          "model_module": "@jupyter-widgets/base",
          "model_name": "LayoutModel",
          "model_module_version": "1.2.0",
          "state": {
            "_view_name": "LayoutView",
            "grid_template_rows": null,
            "right": null,
            "justify_content": null,
            "_view_module": "@jupyter-widgets/base",
            "overflow": null,
            "_model_module_version": "1.2.0",
            "_view_count": null,
            "flex_flow": null,
            "width": null,
            "min_width": null,
            "border": null,
            "align_items": null,
            "bottom": null,
            "_model_module": "@jupyter-widgets/base",
            "top": null,
            "grid_column": null,
            "overflow_y": null,
            "overflow_x": null,
            "grid_auto_flow": null,
            "grid_area": null,
            "grid_template_columns": null,
            "flex": null,
            "_model_name": "LayoutModel",
            "justify_items": null,
            "grid_row": null,
            "max_height": null,
            "align_content": null,
            "visibility": null,
            "align_self": null,
            "height": null,
            "min_height": null,
            "padding": null,
            "grid_auto_rows": null,
            "grid_gap": null,
            "max_width": null,
            "order": null,
            "_view_module_version": "1.2.0",
            "grid_template_areas": null,
            "object_position": null,
            "object_fit": null,
            "grid_auto_columns": null,
            "margin": null,
            "display": null,
            "left": null
          }
        },
        "b27aece2b5d94935a5d9cdd89e44376d": {
          "model_module": "@jupyter-widgets/controls",
          "model_name": "HTMLModel",
          "model_module_version": "1.5.0",
          "state": {
            "_view_name": "HTMLView",
            "style": "IPY_MODEL_a0226a00058b4b878fdcc9a59dd1b817",
            "_dom_classes": [],
            "description": "",
            "_model_name": "HTMLModel",
            "placeholder": "​",
            "_view_module": "@jupyter-widgets/controls",
            "_model_module_version": "1.5.0",
            "value": "",
            "_view_count": null,
            "_view_module_version": "1.5.0",
            "description_tooltip": null,
            "_model_module": "@jupyter-widgets/controls",
            "layout": "IPY_MODEL_6c19ae72a4b44555bce53bfd71a37265"
          }
        },
        "d1cb8848ce3d4314911c43d8aa6059e5": {
          "model_module": "@jupyter-widgets/controls",
          "model_name": "FloatProgressModel",
          "model_module_version": "1.5.0",
          "state": {
            "_view_name": "ProgressView",
            "style": "IPY_MODEL_34da24d5910b4304b48bba704dbbe449",
            "_dom_classes": [],
            "description": "",
            "_model_name": "FloatProgressModel",
            "bar_style": "success",
            "max": 28881,
            "_view_module": "@jupyter-widgets/controls",
            "_model_module_version": "1.5.0",
            "value": 28881,
            "_view_count": null,
            "_view_module_version": "1.5.0",
            "orientation": "horizontal",
            "min": 0,
            "description_tooltip": null,
            "_model_module": "@jupyter-widgets/controls",
            "layout": "IPY_MODEL_03a8b1cbaeba480a9ba26f2e8b8e6903"
          }
        },
        "d94cdd567124490282cb0f260715ccb9": {
          "model_module": "@jupyter-widgets/controls",
          "model_name": "HTMLModel",
          "model_module_version": "1.5.0",
          "state": {
            "_view_name": "HTMLView",
            "style": "IPY_MODEL_666050d9091148298683e32d3c23a1b5",
            "_dom_classes": [],
            "description": "",
            "_model_name": "HTMLModel",
            "placeholder": "​",
            "_view_module": "@jupyter-widgets/controls",
            "_model_module_version": "1.5.0",
            "value": " 29696/? [00:00&lt;00:00, 1295104.15it/s]",
            "_view_count": null,
            "_view_module_version": "1.5.0",
            "description_tooltip": null,
            "_model_module": "@jupyter-widgets/controls",
            "layout": "IPY_MODEL_660bf36a5bf64673994cb5d3c4c6d424"
          }
        },
        "a0226a00058b4b878fdcc9a59dd1b817": {
          "model_module": "@jupyter-widgets/controls",
          "model_name": "DescriptionStyleModel",
          "model_module_version": "1.5.0",
          "state": {
            "_view_name": "StyleView",
            "_model_name": "DescriptionStyleModel",
            "description_width": "",
            "_view_module": "@jupyter-widgets/base",
            "_model_module_version": "1.5.0",
            "_view_count": null,
            "_view_module_version": "1.2.0",
            "_model_module": "@jupyter-widgets/controls"
          }
        },
        "6c19ae72a4b44555bce53bfd71a37265": {
          "model_module": "@jupyter-widgets/base",
          "model_name": "LayoutModel",
          "model_module_version": "1.2.0",
          "state": {
            "_view_name": "LayoutView",
            "grid_template_rows": null,
            "right": null,
            "justify_content": null,
            "_view_module": "@jupyter-widgets/base",
            "overflow": null,
            "_model_module_version": "1.2.0",
            "_view_count": null,
            "flex_flow": null,
            "width": null,
            "min_width": null,
            "border": null,
            "align_items": null,
            "bottom": null,
            "_model_module": "@jupyter-widgets/base",
            "top": null,
            "grid_column": null,
            "overflow_y": null,
            "overflow_x": null,
            "grid_auto_flow": null,
            "grid_area": null,
            "grid_template_columns": null,
            "flex": null,
            "_model_name": "LayoutModel",
            "justify_items": null,
            "grid_row": null,
            "max_height": null,
            "align_content": null,
            "visibility": null,
            "align_self": null,
            "height": null,
            "min_height": null,
            "padding": null,
            "grid_auto_rows": null,
            "grid_gap": null,
            "max_width": null,
            "order": null,
            "_view_module_version": "1.2.0",
            "grid_template_areas": null,
            "object_position": null,
            "object_fit": null,
            "grid_auto_columns": null,
            "margin": null,
            "display": null,
            "left": null
          }
        },
        "34da24d5910b4304b48bba704dbbe449": {
          "model_module": "@jupyter-widgets/controls",
          "model_name": "ProgressStyleModel",
          "model_module_version": "1.5.0",
          "state": {
            "_view_name": "StyleView",
            "_model_name": "ProgressStyleModel",
            "description_width": "",
            "_view_module": "@jupyter-widgets/base",
            "_model_module_version": "1.5.0",
            "_view_count": null,
            "_view_module_version": "1.2.0",
            "bar_color": null,
            "_model_module": "@jupyter-widgets/controls"
          }
        },
        "03a8b1cbaeba480a9ba26f2e8b8e6903": {
          "model_module": "@jupyter-widgets/base",
          "model_name": "LayoutModel",
          "model_module_version": "1.2.0",
          "state": {
            "_view_name": "LayoutView",
            "grid_template_rows": null,
            "right": null,
            "justify_content": null,
            "_view_module": "@jupyter-widgets/base",
            "overflow": null,
            "_model_module_version": "1.2.0",
            "_view_count": null,
            "flex_flow": null,
            "width": null,
            "min_width": null,
            "border": null,
            "align_items": null,
            "bottom": null,
            "_model_module": "@jupyter-widgets/base",
            "top": null,
            "grid_column": null,
            "overflow_y": null,
            "overflow_x": null,
            "grid_auto_flow": null,
            "grid_area": null,
            "grid_template_columns": null,
            "flex": null,
            "_model_name": "LayoutModel",
            "justify_items": null,
            "grid_row": null,
            "max_height": null,
            "align_content": null,
            "visibility": null,
            "align_self": null,
            "height": null,
            "min_height": null,
            "padding": null,
            "grid_auto_rows": null,
            "grid_gap": null,
            "max_width": null,
            "order": null,
            "_view_module_version": "1.2.0",
            "grid_template_areas": null,
            "object_position": null,
            "object_fit": null,
            "grid_auto_columns": null,
            "margin": null,
            "display": null,
            "left": null
          }
        },
        "666050d9091148298683e32d3c23a1b5": {
          "model_module": "@jupyter-widgets/controls",
          "model_name": "DescriptionStyleModel",
          "model_module_version": "1.5.0",
          "state": {
            "_view_name": "StyleView",
            "_model_name": "DescriptionStyleModel",
            "description_width": "",
            "_view_module": "@jupyter-widgets/base",
            "_model_module_version": "1.5.0",
            "_view_count": null,
            "_view_module_version": "1.2.0",
            "_model_module": "@jupyter-widgets/controls"
          }
        },
        "660bf36a5bf64673994cb5d3c4c6d424": {
          "model_module": "@jupyter-widgets/base",
          "model_name": "LayoutModel",
          "model_module_version": "1.2.0",
          "state": {
            "_view_name": "LayoutView",
            "grid_template_rows": null,
            "right": null,
            "justify_content": null,
            "_view_module": "@jupyter-widgets/base",
            "overflow": null,
            "_model_module_version": "1.2.0",
            "_view_count": null,
            "flex_flow": null,
            "width": null,
            "min_width": null,
            "border": null,
            "align_items": null,
            "bottom": null,
            "_model_module": "@jupyter-widgets/base",
            "top": null,
            "grid_column": null,
            "overflow_y": null,
            "overflow_x": null,
            "grid_auto_flow": null,
            "grid_area": null,
            "grid_template_columns": null,
            "flex": null,
            "_model_name": "LayoutModel",
            "justify_items": null,
            "grid_row": null,
            "max_height": null,
            "align_content": null,
            "visibility": null,
            "align_self": null,
            "height": null,
            "min_height": null,
            "padding": null,
            "grid_auto_rows": null,
            "grid_gap": null,
            "max_width": null,
            "order": null,
            "_view_module_version": "1.2.0",
            "grid_template_areas": null,
            "object_position": null,
            "object_fit": null,
            "grid_auto_columns": null,
            "margin": null,
            "display": null,
            "left": null
          }
        },
        "1c722a20a5cb49d1bab686e9c14fc363": {
          "model_module": "@jupyter-widgets/controls",
          "model_name": "HBoxModel",
          "model_module_version": "1.5.0",
          "state": {
            "_view_name": "HBoxView",
            "_dom_classes": [],
            "_model_name": "HBoxModel",
            "_view_module": "@jupyter-widgets/controls",
            "_model_module_version": "1.5.0",
            "_view_count": null,
            "_view_module_version": "1.5.0",
            "box_style": "",
            "layout": "IPY_MODEL_c434a9f2be80454689a1f2e5835028eb",
            "_model_module": "@jupyter-widgets/controls",
            "children": [
              "IPY_MODEL_f50b12195a9243639f588d11bc49a82c",
              "IPY_MODEL_596752374a6946c2862e280448be215a",
              "IPY_MODEL_525c01ab98d143aba57d2e3a7bf85bd3"
            ]
          }
        },
        "c434a9f2be80454689a1f2e5835028eb": {
          "model_module": "@jupyter-widgets/base",
          "model_name": "LayoutModel",
          "model_module_version": "1.2.0",
          "state": {
            "_view_name": "LayoutView",
            "grid_template_rows": null,
            "right": null,
            "justify_content": null,
            "_view_module": "@jupyter-widgets/base",
            "overflow": null,
            "_model_module_version": "1.2.0",
            "_view_count": null,
            "flex_flow": null,
            "width": null,
            "min_width": null,
            "border": null,
            "align_items": null,
            "bottom": null,
            "_model_module": "@jupyter-widgets/base",
            "top": null,
            "grid_column": null,
            "overflow_y": null,
            "overflow_x": null,
            "grid_auto_flow": null,
            "grid_area": null,
            "grid_template_columns": null,
            "flex": null,
            "_model_name": "LayoutModel",
            "justify_items": null,
            "grid_row": null,
            "max_height": null,
            "align_content": null,
            "visibility": null,
            "align_self": null,
            "height": null,
            "min_height": null,
            "padding": null,
            "grid_auto_rows": null,
            "grid_gap": null,
            "max_width": null,
            "order": null,
            "_view_module_version": "1.2.0",
            "grid_template_areas": null,
            "object_position": null,
            "object_fit": null,
            "grid_auto_columns": null,
            "margin": null,
            "display": null,
            "left": null
          }
        },
        "f50b12195a9243639f588d11bc49a82c": {
          "model_module": "@jupyter-widgets/controls",
          "model_name": "HTMLModel",
          "model_module_version": "1.5.0",
          "state": {
            "_view_name": "HTMLView",
            "style": "IPY_MODEL_cdc1752733424da7832aa43101162595",
            "_dom_classes": [],
            "description": "",
            "_model_name": "HTMLModel",
            "placeholder": "​",
            "_view_module": "@jupyter-widgets/controls",
            "_model_module_version": "1.5.0",
            "value": "",
            "_view_count": null,
            "_view_module_version": "1.5.0",
            "description_tooltip": null,
            "_model_module": "@jupyter-widgets/controls",
            "layout": "IPY_MODEL_b6376d74cae042209cccc7c3e5762928"
          }
        },
        "596752374a6946c2862e280448be215a": {
          "model_module": "@jupyter-widgets/controls",
          "model_name": "FloatProgressModel",
          "model_module_version": "1.5.0",
          "state": {
            "_view_name": "ProgressView",
            "style": "IPY_MODEL_acac966865344affb1aeb00e05e69859",
            "_dom_classes": [],
            "description": "",
            "_model_name": "FloatProgressModel",
            "bar_style": "success",
            "max": 1648877,
            "_view_module": "@jupyter-widgets/controls",
            "_model_module_version": "1.5.0",
            "value": 1648877,
            "_view_count": null,
            "_view_module_version": "1.5.0",
            "orientation": "horizontal",
            "min": 0,
            "description_tooltip": null,
            "_model_module": "@jupyter-widgets/controls",
            "layout": "IPY_MODEL_873bb6a82d714964b0c058b2213f9a8e"
          }
        },
        "525c01ab98d143aba57d2e3a7bf85bd3": {
          "model_module": "@jupyter-widgets/controls",
          "model_name": "HTMLModel",
          "model_module_version": "1.5.0",
          "state": {
            "_view_name": "HTMLView",
            "style": "IPY_MODEL_0e05dd68f8e342648ac4f610794b29a9",
            "_dom_classes": [],
            "description": "",
            "_model_name": "HTMLModel",
            "placeholder": "​",
            "_view_module": "@jupyter-widgets/controls",
            "_model_module_version": "1.5.0",
            "value": " 1649664/? [00:00&lt;00:00, 7373500.74it/s]",
            "_view_count": null,
            "_view_module_version": "1.5.0",
            "description_tooltip": null,
            "_model_module": "@jupyter-widgets/controls",
            "layout": "IPY_MODEL_a1d2730f71b241a482b5c72cf6f2ab59"
          }
        },
        "cdc1752733424da7832aa43101162595": {
          "model_module": "@jupyter-widgets/controls",
          "model_name": "DescriptionStyleModel",
          "model_module_version": "1.5.0",
          "state": {
            "_view_name": "StyleView",
            "_model_name": "DescriptionStyleModel",
            "description_width": "",
            "_view_module": "@jupyter-widgets/base",
            "_model_module_version": "1.5.0",
            "_view_count": null,
            "_view_module_version": "1.2.0",
            "_model_module": "@jupyter-widgets/controls"
          }
        },
        "b6376d74cae042209cccc7c3e5762928": {
          "model_module": "@jupyter-widgets/base",
          "model_name": "LayoutModel",
          "model_module_version": "1.2.0",
          "state": {
            "_view_name": "LayoutView",
            "grid_template_rows": null,
            "right": null,
            "justify_content": null,
            "_view_module": "@jupyter-widgets/base",
            "overflow": null,
            "_model_module_version": "1.2.0",
            "_view_count": null,
            "flex_flow": null,
            "width": null,
            "min_width": null,
            "border": null,
            "align_items": null,
            "bottom": null,
            "_model_module": "@jupyter-widgets/base",
            "top": null,
            "grid_column": null,
            "overflow_y": null,
            "overflow_x": null,
            "grid_auto_flow": null,
            "grid_area": null,
            "grid_template_columns": null,
            "flex": null,
            "_model_name": "LayoutModel",
            "justify_items": null,
            "grid_row": null,
            "max_height": null,
            "align_content": null,
            "visibility": null,
            "align_self": null,
            "height": null,
            "min_height": null,
            "padding": null,
            "grid_auto_rows": null,
            "grid_gap": null,
            "max_width": null,
            "order": null,
            "_view_module_version": "1.2.0",
            "grid_template_areas": null,
            "object_position": null,
            "object_fit": null,
            "grid_auto_columns": null,
            "margin": null,
            "display": null,
            "left": null
          }
        },
        "acac966865344affb1aeb00e05e69859": {
          "model_module": "@jupyter-widgets/controls",
          "model_name": "ProgressStyleModel",
          "model_module_version": "1.5.0",
          "state": {
            "_view_name": "StyleView",
            "_model_name": "ProgressStyleModel",
            "description_width": "",
            "_view_module": "@jupyter-widgets/base",
            "_model_module_version": "1.5.0",
            "_view_count": null,
            "_view_module_version": "1.2.0",
            "bar_color": null,
            "_model_module": "@jupyter-widgets/controls"
          }
        },
        "873bb6a82d714964b0c058b2213f9a8e": {
          "model_module": "@jupyter-widgets/base",
          "model_name": "LayoutModel",
          "model_module_version": "1.2.0",
          "state": {
            "_view_name": "LayoutView",
            "grid_template_rows": null,
            "right": null,
            "justify_content": null,
            "_view_module": "@jupyter-widgets/base",
            "overflow": null,
            "_model_module_version": "1.2.0",
            "_view_count": null,
            "flex_flow": null,
            "width": null,
            "min_width": null,
            "border": null,
            "align_items": null,
            "bottom": null,
            "_model_module": "@jupyter-widgets/base",
            "top": null,
            "grid_column": null,
            "overflow_y": null,
            "overflow_x": null,
            "grid_auto_flow": null,
            "grid_area": null,
            "grid_template_columns": null,
            "flex": null,
            "_model_name": "LayoutModel",
            "justify_items": null,
            "grid_row": null,
            "max_height": null,
            "align_content": null,
            "visibility": null,
            "align_self": null,
            "height": null,
            "min_height": null,
            "padding": null,
            "grid_auto_rows": null,
            "grid_gap": null,
            "max_width": null,
            "order": null,
            "_view_module_version": "1.2.0",
            "grid_template_areas": null,
            "object_position": null,
            "object_fit": null,
            "grid_auto_columns": null,
            "margin": null,
            "display": null,
            "left": null
          }
        },
        "0e05dd68f8e342648ac4f610794b29a9": {
          "model_module": "@jupyter-widgets/controls",
          "model_name": "DescriptionStyleModel",
          "model_module_version": "1.5.0",
          "state": {
            "_view_name": "StyleView",
            "_model_name": "DescriptionStyleModel",
            "description_width": "",
            "_view_module": "@jupyter-widgets/base",
            "_model_module_version": "1.5.0",
            "_view_count": null,
            "_view_module_version": "1.2.0",
            "_model_module": "@jupyter-widgets/controls"
          }
        },
        "a1d2730f71b241a482b5c72cf6f2ab59": {
          "model_module": "@jupyter-widgets/base",
          "model_name": "LayoutModel",
          "model_module_version": "1.2.0",
          "state": {
            "_view_name": "LayoutView",
            "grid_template_rows": null,
            "right": null,
            "justify_content": null,
            "_view_module": "@jupyter-widgets/base",
            "overflow": null,
            "_model_module_version": "1.2.0",
            "_view_count": null,
            "flex_flow": null,
            "width": null,
            "min_width": null,
            "border": null,
            "align_items": null,
            "bottom": null,
            "_model_module": "@jupyter-widgets/base",
            "top": null,
            "grid_column": null,
            "overflow_y": null,
            "overflow_x": null,
            "grid_auto_flow": null,
            "grid_area": null,
            "grid_template_columns": null,
            "flex": null,
            "_model_name": "LayoutModel",
            "justify_items": null,
            "grid_row": null,
            "max_height": null,
            "align_content": null,
            "visibility": null,
            "align_self": null,
            "height": null,
            "min_height": null,
            "padding": null,
            "grid_auto_rows": null,
            "grid_gap": null,
            "max_width": null,
            "order": null,
            "_view_module_version": "1.2.0",
            "grid_template_areas": null,
            "object_position": null,
            "object_fit": null,
            "grid_auto_columns": null,
            "margin": null,
            "display": null,
            "left": null
          }
        },
        "e2c9c83f90d743c0aa10a78311e73cf7": {
          "model_module": "@jupyter-widgets/controls",
          "model_name": "HBoxModel",
          "model_module_version": "1.5.0",
          "state": {
            "_view_name": "HBoxView",
            "_dom_classes": [],
            "_model_name": "HBoxModel",
            "_view_module": "@jupyter-widgets/controls",
            "_model_module_version": "1.5.0",
            "_view_count": null,
            "_view_module_version": "1.5.0",
            "box_style": "",
            "layout": "IPY_MODEL_cd3898ffce624b47ae58c8f3d4b4086d",
            "_model_module": "@jupyter-widgets/controls",
            "children": [
              "IPY_MODEL_8f76a292467f479a8ca7a03d63387673",
              "IPY_MODEL_fa2933578ce44f108e7e9c4ec0bd1a39",
              "IPY_MODEL_2bd1d499a4fd4ac487270c8bcb9260e2"
            ]
          }
        },
        "cd3898ffce624b47ae58c8f3d4b4086d": {
          "model_module": "@jupyter-widgets/base",
          "model_name": "LayoutModel",
          "model_module_version": "1.2.0",
          "state": {
            "_view_name": "LayoutView",
            "grid_template_rows": null,
            "right": null,
            "justify_content": null,
            "_view_module": "@jupyter-widgets/base",
            "overflow": null,
            "_model_module_version": "1.2.0",
            "_view_count": null,
            "flex_flow": null,
            "width": null,
            "min_width": null,
            "border": null,
            "align_items": null,
            "bottom": null,
            "_model_module": "@jupyter-widgets/base",
            "top": null,
            "grid_column": null,
            "overflow_y": null,
            "overflow_x": null,
            "grid_auto_flow": null,
            "grid_area": null,
            "grid_template_columns": null,
            "flex": null,
            "_model_name": "LayoutModel",
            "justify_items": null,
            "grid_row": null,
            "max_height": null,
            "align_content": null,
            "visibility": null,
            "align_self": null,
            "height": null,
            "min_height": null,
            "padding": null,
            "grid_auto_rows": null,
            "grid_gap": null,
            "max_width": null,
            "order": null,
            "_view_module_version": "1.2.0",
            "grid_template_areas": null,
            "object_position": null,
            "object_fit": null,
            "grid_auto_columns": null,
            "margin": null,
            "display": null,
            "left": null
          }
        },
        "8f76a292467f479a8ca7a03d63387673": {
          "model_module": "@jupyter-widgets/controls",
          "model_name": "HTMLModel",
          "model_module_version": "1.5.0",
          "state": {
            "_view_name": "HTMLView",
            "style": "IPY_MODEL_77b46e00788346229fc77f95a4da475a",
            "_dom_classes": [],
            "description": "",
            "_model_name": "HTMLModel",
            "placeholder": "​",
            "_view_module": "@jupyter-widgets/controls",
            "_model_module_version": "1.5.0",
            "value": "",
            "_view_count": null,
            "_view_module_version": "1.5.0",
            "description_tooltip": null,
            "_model_module": "@jupyter-widgets/controls",
            "layout": "IPY_MODEL_aa77adfe0e474e82bf2c60bb5b1c2b23"
          }
        },
        "fa2933578ce44f108e7e9c4ec0bd1a39": {
          "model_module": "@jupyter-widgets/controls",
          "model_name": "FloatProgressModel",
          "model_module_version": "1.5.0",
          "state": {
            "_view_name": "ProgressView",
            "style": "IPY_MODEL_20a9c0ca00b94056a936f28c9e2ab99b",
            "_dom_classes": [],
            "description": "",
            "_model_name": "FloatProgressModel",
            "bar_style": "success",
            "max": 4542,
            "_view_module": "@jupyter-widgets/controls",
            "_model_module_version": "1.5.0",
            "value": 4542,
            "_view_count": null,
            "_view_module_version": "1.5.0",
            "orientation": "horizontal",
            "min": 0,
            "description_tooltip": null,
            "_model_module": "@jupyter-widgets/controls",
            "layout": "IPY_MODEL_96e8d853202e4b348fafb4d6f0709d1c"
          }
        },
        "2bd1d499a4fd4ac487270c8bcb9260e2": {
          "model_module": "@jupyter-widgets/controls",
          "model_name": "HTMLModel",
          "model_module_version": "1.5.0",
          "state": {
            "_view_name": "HTMLView",
            "style": "IPY_MODEL_28b7de4add514ebeb10d96777f647084",
            "_dom_classes": [],
            "description": "",
            "_model_name": "HTMLModel",
            "placeholder": "​",
            "_view_module": "@jupyter-widgets/controls",
            "_model_module_version": "1.5.0",
            "value": " 5120/? [00:00&lt;00:00, 226891.60it/s]",
            "_view_count": null,
            "_view_module_version": "1.5.0",
            "description_tooltip": null,
            "_model_module": "@jupyter-widgets/controls",
            "layout": "IPY_MODEL_9992d92557794bc1932dc78b4bfb4fee"
          }
        },
        "77b46e00788346229fc77f95a4da475a": {
          "model_module": "@jupyter-widgets/controls",
          "model_name": "DescriptionStyleModel",
          "model_module_version": "1.5.0",
          "state": {
            "_view_name": "StyleView",
            "_model_name": "DescriptionStyleModel",
            "description_width": "",
            "_view_module": "@jupyter-widgets/base",
            "_model_module_version": "1.5.0",
            "_view_count": null,
            "_view_module_version": "1.2.0",
            "_model_module": "@jupyter-widgets/controls"
          }
        },
        "aa77adfe0e474e82bf2c60bb5b1c2b23": {
          "model_module": "@jupyter-widgets/base",
          "model_name": "LayoutModel",
          "model_module_version": "1.2.0",
          "state": {
            "_view_name": "LayoutView",
            "grid_template_rows": null,
            "right": null,
            "justify_content": null,
            "_view_module": "@jupyter-widgets/base",
            "overflow": null,
            "_model_module_version": "1.2.0",
            "_view_count": null,
            "flex_flow": null,
            "width": null,
            "min_width": null,
            "border": null,
            "align_items": null,
            "bottom": null,
            "_model_module": "@jupyter-widgets/base",
            "top": null,
            "grid_column": null,
            "overflow_y": null,
            "overflow_x": null,
            "grid_auto_flow": null,
            "grid_area": null,
            "grid_template_columns": null,
            "flex": null,
            "_model_name": "LayoutModel",
            "justify_items": null,
            "grid_row": null,
            "max_height": null,
            "align_content": null,
            "visibility": null,
            "align_self": null,
            "height": null,
            "min_height": null,
            "padding": null,
            "grid_auto_rows": null,
            "grid_gap": null,
            "max_width": null,
            "order": null,
            "_view_module_version": "1.2.0",
            "grid_template_areas": null,
            "object_position": null,
            "object_fit": null,
            "grid_auto_columns": null,
            "margin": null,
            "display": null,
            "left": null
          }
        },
        "20a9c0ca00b94056a936f28c9e2ab99b": {
          "model_module": "@jupyter-widgets/controls",
          "model_name": "ProgressStyleModel",
          "model_module_version": "1.5.0",
          "state": {
            "_view_name": "StyleView",
            "_model_name": "ProgressStyleModel",
            "description_width": "",
            "_view_module": "@jupyter-widgets/base",
            "_model_module_version": "1.5.0",
            "_view_count": null,
            "_view_module_version": "1.2.0",
            "bar_color": null,
            "_model_module": "@jupyter-widgets/controls"
          }
        },
        "96e8d853202e4b348fafb4d6f0709d1c": {
          "model_module": "@jupyter-widgets/base",
          "model_name": "LayoutModel",
          "model_module_version": "1.2.0",
          "state": {
            "_view_name": "LayoutView",
            "grid_template_rows": null,
            "right": null,
            "justify_content": null,
            "_view_module": "@jupyter-widgets/base",
            "overflow": null,
            "_model_module_version": "1.2.0",
            "_view_count": null,
            "flex_flow": null,
            "width": null,
            "min_width": null,
            "border": null,
            "align_items": null,
            "bottom": null,
            "_model_module": "@jupyter-widgets/base",
            "top": null,
            "grid_column": null,
            "overflow_y": null,
            "overflow_x": null,
            "grid_auto_flow": null,
            "grid_area": null,
            "grid_template_columns": null,
            "flex": null,
            "_model_name": "LayoutModel",
            "justify_items": null,
            "grid_row": null,
            "max_height": null,
            "align_content": null,
            "visibility": null,
            "align_self": null,
            "height": null,
            "min_height": null,
            "padding": null,
            "grid_auto_rows": null,
            "grid_gap": null,
            "max_width": null,
            "order": null,
            "_view_module_version": "1.2.0",
            "grid_template_areas": null,
            "object_position": null,
            "object_fit": null,
            "grid_auto_columns": null,
            "margin": null,
            "display": null,
            "left": null
          }
        },
        "28b7de4add514ebeb10d96777f647084": {
          "model_module": "@jupyter-widgets/controls",
          "model_name": "DescriptionStyleModel",
          "model_module_version": "1.5.0",
          "state": {
            "_view_name": "StyleView",
            "_model_name": "DescriptionStyleModel",
            "description_width": "",
            "_view_module": "@jupyter-widgets/base",
            "_model_module_version": "1.5.0",
            "_view_count": null,
            "_view_module_version": "1.2.0",
            "_model_module": "@jupyter-widgets/controls"
          }
        },
        "9992d92557794bc1932dc78b4bfb4fee": {
          "model_module": "@jupyter-widgets/base",
          "model_name": "LayoutModel",
          "model_module_version": "1.2.0",
          "state": {
            "_view_name": "LayoutView",
            "grid_template_rows": null,
            "right": null,
            "justify_content": null,
            "_view_module": "@jupyter-widgets/base",
            "overflow": null,
            "_model_module_version": "1.2.0",
            "_view_count": null,
            "flex_flow": null,
            "width": null,
            "min_width": null,
            "border": null,
            "align_items": null,
            "bottom": null,
            "_model_module": "@jupyter-widgets/base",
            "top": null,
            "grid_column": null,
            "overflow_y": null,
            "overflow_x": null,
            "grid_auto_flow": null,
            "grid_area": null,
            "grid_template_columns": null,
            "flex": null,
            "_model_name": "LayoutModel",
            "justify_items": null,
            "grid_row": null,
            "max_height": null,
            "align_content": null,
            "visibility": null,
            "align_self": null,
            "height": null,
            "min_height": null,
            "padding": null,
            "grid_auto_rows": null,
            "grid_gap": null,
            "max_width": null,
            "order": null,
            "_view_module_version": "1.2.0",
            "grid_template_areas": null,
            "object_position": null,
            "object_fit": null,
            "grid_auto_columns": null,
            "margin": null,
            "display": null,
            "left": null
          }
        }
      }
    }
  },
  "cells": [
    {
      "cell_type": "markdown",
      "metadata": {
        "id": "view-in-github",
        "colab_type": "text"
      },
      "source": [
        "<a href=\"https://colab.research.google.com/github/sumunoh/study_assemble/blob/main/pytorch1.ipynb\" target=\"_parent\"><img src=\"https://colab.research.google.com/assets/colab-badge.svg\" alt=\"Open In Colab\"/></a>"
      ]
    },
    {
      "cell_type": "markdown",
      "metadata": {
        "id": "f9Xx-jP92OgP"
      },
      "source": [
        "# 파이토치(PyTorch)\n",
        "\n",
        "<img src=\"https://img1.daumcdn.net/thumb/R800x0/?scode=mtistory2&fname=https%3A%2F%2Fblog.kakaocdn.net%2Fdn%2FbuUgoV%2FbtqwWZvcHHX%2Fd6XzIFBEfiuFb0UvyV4A50%2Fimg.jpg\" width=\"300\">\n",
        "\n",
        "- 코드 출처: https://pytorch.org/tutorials/"
      ]
    },
    {
      "cell_type": "markdown",
      "metadata": {
        "id": "3cxreguz2sL0"
      },
      "source": [
        "## 파이토치의 구성요소\n",
        "\n",
        "- `torch`: 텐서를 생성하는 라이브러리\n",
        "\n",
        "- `torch.autograd`: 자동미분 기능을 제공하는 라이브러리\n",
        "\n",
        "- `torch.nn`: 신경망을 생성하는 라이브러리\n",
        "\n",
        "- `torch.multiprocessing`: 병럴처리 기능을 제공하는 라이브러리\n",
        "\n",
        "- `torch.utils`: 데이터 조작 등 유틸리티 기능 제공\n",
        "\n",
        "- `torch.legacy`(./nn/.optim): Torch로부터 포팅해온 코드\n",
        "\n",
        "- `torch.onnx`: ONNX(Open Neural Network Exchange)\n",
        "\n",
        "  - 서로 다른 프레임워크 간의 모델을 공유할 때 사용"
      ]
    },
    {
      "cell_type": "markdown",
      "metadata": {
        "id": "gb5O_aSvtHvb"
      },
      "source": [
        "## 텐서(Tensors)\n",
        "- 넘파이(NumPy)의 ndarray와 유사\n",
        "\n",
        "- GPU를 사용한 연산 가속도 가능"
      ]
    },
    {
      "cell_type": "code",
      "metadata": {
        "id": "CmKIvnx0s8G6"
      },
      "source": [
        "import torch"
      ],
      "execution_count": 29,
      "outputs": []
    },
    {
      "cell_type": "code",
      "metadata": {
        "id": "49IHV-qJE5FI",
        "colab": {
          "base_uri": "https://localhost:8080/",
          "height": 35
        },
        "outputId": "26c37468-47e1-4f6a-d427-f9e592f43049"
      },
      "source": [
        "torch.__version__"
      ],
      "execution_count": 30,
      "outputs": [
        {
          "output_type": "execute_result",
          "data": {
            "application/vnd.google.colaboratory.intrinsic+json": {
              "type": "string"
            },
            "text/plain": [
              "'1.10.0+cu111'"
            ]
          },
          "metadata": {},
          "execution_count": 30
        }
      ]
    },
    {
      "cell_type": "markdown",
      "metadata": {
        "id": "isUHVy-gtZeT"
      },
      "source": [
        "### 초기화 되지 않은 행렬 "
      ]
    },
    {
      "cell_type": "code",
      "metadata": {
        "id": "3PqY3cZatU0D",
        "colab": {
          "base_uri": "https://localhost:8080/"
        },
        "outputId": "c75e88f9-22ab-4b74-a54e-4a235a815c7f"
      },
      "source": [
        "x = torch.empty(4,2)\n",
        "print(x)"
      ],
      "execution_count": 31,
      "outputs": [
        {
          "output_type": "stream",
          "name": "stdout",
          "text": [
            "tensor([[-3.2440e-17,  3.0780e-41],\n",
            "        [ 3.3631e-44,  0.0000e+00],\n",
            "        [        nan,  0.0000e+00],\n",
            "        [ 4.4721e+21,  1.5956e+25]])\n"
          ]
        }
      ]
    },
    {
      "cell_type": "markdown",
      "metadata": {
        "id": "zPCIJ2pNteZv"
      },
      "source": [
        "### 무작위로 초기화된 행렬"
      ]
    },
    {
      "cell_type": "code",
      "metadata": {
        "id": "h6oPj2Q9tdYx",
        "colab": {
          "base_uri": "https://localhost:8080/"
        },
        "outputId": "532209b4-6039-4ec9-f75e-f1e52150da5b"
      },
      "source": [
        "x = torch.rand(4,2)\n",
        "print(x)"
      ],
      "execution_count": 32,
      "outputs": [
        {
          "output_type": "stream",
          "name": "stdout",
          "text": [
            "tensor([[0.0162, 0.1521],\n",
            "        [0.1238, 0.9322],\n",
            "        [0.3174, 0.8683],\n",
            "        [0.6401, 0.7035]])\n"
          ]
        }
      ]
    },
    {
      "cell_type": "markdown",
      "metadata": {
        "id": "A5aHphIHtiJk"
      },
      "source": [
        "### dtype이 long, 0으로 채워진 텐서"
      ]
    },
    {
      "cell_type": "code",
      "metadata": {
        "id": "4zykN8aMthXk",
        "colab": {
          "base_uri": "https://localhost:8080/"
        },
        "outputId": "f4c647fc-3c1c-4613-95d8-d5dc0a5759d8"
      },
      "source": [
        "x = torch.zeros(4,2, dtype=torch.long)\n",
        "print(x)"
      ],
      "execution_count": 33,
      "outputs": [
        {
          "output_type": "stream",
          "name": "stdout",
          "text": [
            "tensor([[0, 0],\n",
            "        [0, 0],\n",
            "        [0, 0],\n",
            "        [0, 0]])\n"
          ]
        }
      ]
    },
    {
      "cell_type": "code",
      "metadata": {
        "id": "W4VL8C_ctu8b",
        "colab": {
          "base_uri": "https://localhost:8080/"
        },
        "outputId": "e83c91ff-0a39-4802-8ad2-1858121387c1"
      },
      "source": [
        "x = torch.tensor([3, 2.3])\n",
        "print(x)"
      ],
      "execution_count": 34,
      "outputs": [
        {
          "output_type": "stream",
          "name": "stdout",
          "text": [
            "tensor([3.0000, 2.3000])\n"
          ]
        }
      ]
    },
    {
      "cell_type": "code",
      "metadata": {
        "id": "4RmVBVtIt46M",
        "colab": {
          "base_uri": "https://localhost:8080/"
        },
        "outputId": "7782e8ab-b87b-4f65-ac46-25cc4265135d"
      },
      "source": [
        "x = x.new_ones(2, 4, dtype=torch.double)\n",
        "print(x)"
      ],
      "execution_count": 35,
      "outputs": [
        {
          "output_type": "stream",
          "name": "stdout",
          "text": [
            "tensor([[1., 1., 1., 1.],\n",
            "        [1., 1., 1., 1.]], dtype=torch.float64)\n"
          ]
        }
      ]
    },
    {
      "cell_type": "code",
      "metadata": {
        "id": "xxskTUfGuPUe",
        "colab": {
          "base_uri": "https://localhost:8080/"
        },
        "outputId": "c91eab78-88f0-4907-fd3d-d001d166b7da"
      },
      "source": [
        "x = torch.randn_like(x, dtype=torch.float)\n",
        "print(x)"
      ],
      "execution_count": 36,
      "outputs": [
        {
          "output_type": "stream",
          "name": "stdout",
          "text": [
            "tensor([[-0.1155, -0.4540, -0.6778,  1.5572],\n",
            "        [ 0.0410, -1.2255,  0.3931,  0.3418]])\n"
          ]
        }
      ]
    },
    {
      "cell_type": "markdown",
      "metadata": {
        "id": "7j5sGxGvucpH"
      },
      "source": [
        "### 텐서의 크기"
      ]
    },
    {
      "cell_type": "code",
      "metadata": {
        "id": "yy-JbqKEuYIR",
        "colab": {
          "base_uri": "https://localhost:8080/"
        },
        "outputId": "5d4a1e83-a2d0-49ee-d3b7-cdbf95011327"
      },
      "source": [
        "print(x.size())"
      ],
      "execution_count": 37,
      "outputs": [
        {
          "output_type": "stream",
          "name": "stdout",
          "text": [
            "torch.Size([2, 4])\n"
          ]
        }
      ]
    },
    {
      "cell_type": "markdown",
      "metadata": {
        "id": "ehOg0eDwufru"
      },
      "source": [
        "## 텐서의 연산(operations)"
      ]
    },
    {
      "cell_type": "markdown",
      "metadata": {
        "id": "j8Doc_37uh3G"
      },
      "source": [
        "### 덧셈 1"
      ]
    },
    {
      "cell_type": "code",
      "metadata": {
        "id": "Rw4JCYkYuef9",
        "colab": {
          "base_uri": "https://localhost:8080/"
        },
        "outputId": "252f516f-ef5d-4a9a-dacc-bd44d1e85ba7"
      },
      "source": [
        "print(x)"
      ],
      "execution_count": 38,
      "outputs": [
        {
          "output_type": "stream",
          "name": "stdout",
          "text": [
            "tensor([[-0.1155, -0.4540, -0.6778,  1.5572],\n",
            "        [ 0.0410, -1.2255,  0.3931,  0.3418]])\n"
          ]
        }
      ]
    },
    {
      "cell_type": "code",
      "metadata": {
        "id": "Wa44ur1Nuj5U",
        "colab": {
          "base_uri": "https://localhost:8080/"
        },
        "outputId": "86861055-0b1a-4b1e-b553-e7fce3de6c68"
      },
      "source": [
        "y = torch.rand(2,4)\n",
        "print(y)\n",
        "print(x+y)"
      ],
      "execution_count": 39,
      "outputs": [
        {
          "output_type": "stream",
          "name": "stdout",
          "text": [
            "tensor([[0.8254, 0.6429, 0.5906, 0.2575],\n",
            "        [0.2833, 0.2868, 0.2456, 0.9772]])\n",
            "tensor([[ 0.7099,  0.1889, -0.0872,  1.8147],\n",
            "        [ 0.3243, -0.9387,  0.6388,  1.3191]])\n"
          ]
        }
      ]
    },
    {
      "cell_type": "markdown",
      "metadata": {
        "id": "E5gcOo-Ouo9B"
      },
      "source": [
        "### 덧셈2"
      ]
    },
    {
      "cell_type": "code",
      "metadata": {
        "id": "Qx-NzJhhumZx",
        "colab": {
          "base_uri": "https://localhost:8080/"
        },
        "outputId": "be72b134-b0ab-4cec-e0ce-519d91521d65"
      },
      "source": [
        "print(torch.add(x,y))"
      ],
      "execution_count": 40,
      "outputs": [
        {
          "output_type": "stream",
          "name": "stdout",
          "text": [
            "tensor([[ 0.7099,  0.1889, -0.0872,  1.8147],\n",
            "        [ 0.3243, -0.9387,  0.6388,  1.3191]])\n"
          ]
        }
      ]
    },
    {
      "cell_type": "markdown",
      "metadata": {
        "id": "RlvrQhLuuuIr"
      },
      "source": [
        "### 덧셈3\n",
        "- 결과 텐서를 인자로 제공"
      ]
    },
    {
      "cell_type": "code",
      "metadata": {
        "id": "lUsLAOTcur1-",
        "colab": {
          "base_uri": "https://localhost:8080/"
        },
        "outputId": "21903ba6-e28e-442b-e099-194a73540b27"
      },
      "source": [
        "result = torch.empty(2,4)\n",
        "torch.add(x,y,out=result)\n",
        "print(result)"
      ],
      "execution_count": 41,
      "outputs": [
        {
          "output_type": "stream",
          "name": "stdout",
          "text": [
            "tensor([[ 0.7099,  0.1889, -0.0872,  1.8147],\n",
            "        [ 0.3243, -0.9387,  0.6388,  1.3191]])\n"
          ]
        }
      ]
    },
    {
      "cell_type": "markdown",
      "metadata": {
        "id": "V6BdyZFSu2Ei"
      },
      "source": [
        "### 덧셈4\n",
        "- `in-place` 방식\n",
        "\n",
        "- (참고) in-place 방식\n",
        "  - in-place방식으로 텐서의 값을 변경하는 연산 뒤에는 _''가 붙음\n",
        "  - `x.copy_(y), x.t_()`"
      ]
    },
    {
      "cell_type": "code",
      "metadata": {
        "id": "lu8rR4WVu0wQ",
        "colab": {
          "base_uri": "https://localhost:8080/"
        },
        "outputId": "8b9663ea-a722-46f2-9247-9d73ac6616f0"
      },
      "source": [
        "print(x)\n",
        "print(y)\n",
        "y.add_(x)\n",
        "print(y)"
      ],
      "execution_count": 42,
      "outputs": [
        {
          "output_type": "stream",
          "name": "stdout",
          "text": [
            "tensor([[-0.1155, -0.4540, -0.6778,  1.5572],\n",
            "        [ 0.0410, -1.2255,  0.3931,  0.3418]])\n",
            "tensor([[0.8254, 0.6429, 0.5906, 0.2575],\n",
            "        [0.2833, 0.2868, 0.2456, 0.9772]])\n",
            "tensor([[ 0.7099,  0.1889, -0.0872,  1.8147],\n",
            "        [ 0.3243, -0.9387,  0.6388,  1.3191]])\n"
          ]
        }
      ]
    },
    {
      "cell_type": "markdown",
      "metadata": {
        "id": "Uo8nsrGjOw6W"
      },
      "source": [
        "### 그 외의 연산\n",
        "- `torch.sub` : 뺄셈\n",
        "\n",
        "- `torch.mul` : 곱셉\n",
        "\n",
        "- `torch.div` : 나눗셈\n",
        "\n",
        "- `torch.mm` : 내적(dot product)"
      ]
    },
    {
      "cell_type": "code",
      "metadata": {
        "id": "S51kxzPTO1ER",
        "colab": {
          "base_uri": "https://localhost:8080/"
        },
        "outputId": "93da9c57-0fff-4c80-e46b-67b5fac1f940"
      },
      "source": [
        "x = torch.Tensor([[1,3],\n",
        "                  [5,7]])\n",
        "y = torch.Tensor([[2,4],\n",
        "                  [6,8]])\n",
        "print(x-y)\n",
        "print(torch.sub(x,y))\n",
        "print(x.sub(y))"
      ],
      "execution_count": 43,
      "outputs": [
        {
          "output_type": "stream",
          "name": "stdout",
          "text": [
            "tensor([[-1., -1.],\n",
            "        [-1., -1.]])\n",
            "tensor([[-1., -1.],\n",
            "        [-1., -1.]])\n",
            "tensor([[-1., -1.],\n",
            "        [-1., -1.]])\n"
          ]
        }
      ]
    },
    {
      "cell_type": "code",
      "metadata": {
        "id": "ou0dY8mkPR24",
        "colab": {
          "base_uri": "https://localhost:8080/"
        },
        "outputId": "a58be06e-76fd-4b38-9abc-6fad707fac98"
      },
      "source": [
        "x = torch.Tensor([[1,3],\n",
        "                  [5,7]])\n",
        "y = torch.Tensor([[2,4],\n",
        "                  [6,8]])\n",
        "print(x*y)\n",
        "print(torch.mul(x,y))\n",
        "print(x.mul(y))"
      ],
      "execution_count": 44,
      "outputs": [
        {
          "output_type": "stream",
          "name": "stdout",
          "text": [
            "tensor([[ 2., 12.],\n",
            "        [30., 56.]])\n",
            "tensor([[ 2., 12.],\n",
            "        [30., 56.]])\n",
            "tensor([[ 2., 12.],\n",
            "        [30., 56.]])\n"
          ]
        }
      ]
    },
    {
      "cell_type": "code",
      "metadata": {
        "id": "6RlZZBp3PbE4",
        "colab": {
          "base_uri": "https://localhost:8080/"
        },
        "outputId": "477aadfd-41a1-4db9-b304-28ec15c91d14"
      },
      "source": [
        "x = torch.Tensor([[1,3],\n",
        "                  [5,7]])\n",
        "y = torch.Tensor([[2,4],\n",
        "                  [6,8]])\n",
        "print(x/y)\n",
        "print(torch.div(x,y))\n",
        "print(x.div(y))"
      ],
      "execution_count": 45,
      "outputs": [
        {
          "output_type": "stream",
          "name": "stdout",
          "text": [
            "tensor([[0.5000, 0.7500],\n",
            "        [0.8333, 0.8750]])\n",
            "tensor([[0.5000, 0.7500],\n",
            "        [0.8333, 0.8750]])\n",
            "tensor([[0.5000, 0.7500],\n",
            "        [0.8333, 0.8750]])\n"
          ]
        }
      ]
    },
    {
      "cell_type": "code",
      "metadata": {
        "id": "7MR-ofE5P7VC",
        "colab": {
          "base_uri": "https://localhost:8080/"
        },
        "outputId": "562b7c70-d2ff-4da9-d655-32ad4b065056"
      },
      "source": [
        "# 행렬곱\n",
        "x = torch.Tensor([[1,3],\n",
        "                  [5,7]])\n",
        "y = torch.Tensor([[2,4],\n",
        "                  [6,8]])\n",
        "print(torch.mm(x,y))"
      ],
      "execution_count": 46,
      "outputs": [
        {
          "output_type": "stream",
          "name": "stdout",
          "text": [
            "tensor([[20., 28.],\n",
            "        [52., 76.]])\n"
          ]
        }
      ]
    },
    {
      "cell_type": "markdown",
      "metadata": {
        "id": "8URGwHE_NjDi"
      },
      "source": [
        "## 텐서의 조작(manipulations)"
      ]
    },
    {
      "cell_type": "markdown",
      "metadata": {
        "id": "uCsdZIPTvG53"
      },
      "source": [
        "### 인덱싱\n",
        "- 넘파이처럼 인덱싱 사용가능"
      ]
    },
    {
      "cell_type": "code",
      "metadata": {
        "id": "jF2DE8kzvOs3",
        "colab": {
          "base_uri": "https://localhost:8080/"
        },
        "outputId": "b5b587af-8e40-4db6-8513-1405379f906b"
      },
      "source": [
        "print(x)"
      ],
      "execution_count": 47,
      "outputs": [
        {
          "output_type": "stream",
          "name": "stdout",
          "text": [
            "tensor([[1., 3.],\n",
            "        [5., 7.]])\n"
          ]
        }
      ]
    },
    {
      "cell_type": "code",
      "metadata": {
        "id": "GQtBH3r3u7c3",
        "colab": {
          "base_uri": "https://localhost:8080/"
        },
        "outputId": "300bc2b0-64eb-49d1-ef88-b78a413fb6c3"
      },
      "source": [
        "print(x[:, 1])"
      ],
      "execution_count": 48,
      "outputs": [
        {
          "output_type": "stream",
          "name": "stdout",
          "text": [
            "tensor([3., 7.])\n"
          ]
        }
      ]
    },
    {
      "cell_type": "markdown",
      "metadata": {
        "id": "jEscXddKvQ5l"
      },
      "source": [
        "### view\n",
        "- 텐서의 크기(size)나 모양(shape)을 변경"
      ]
    },
    {
      "cell_type": "code",
      "metadata": {
        "id": "xwhWeqhLvKKj",
        "colab": {
          "base_uri": "https://localhost:8080/"
        },
        "outputId": "81ab0c30-ddf7-482e-d548-4e7c76b0c9dd"
      },
      "source": [
        "x = torch.randn(4, 5)\n",
        "y = x.view(20)\n",
        "z = x.view(5, -1)\n",
        "\n",
        "print(x)\n",
        "print(y)\n",
        "print(z)"
      ],
      "execution_count": 49,
      "outputs": [
        {
          "output_type": "stream",
          "name": "stdout",
          "text": [
            "tensor([[ 1.5020, -0.0425,  0.2846,  1.0376, -0.2547],\n",
            "        [ 0.7216, -0.0931, -0.6556, -0.5550,  1.1451],\n",
            "        [ 0.0859,  0.2413,  0.7387,  1.9930, -0.7801],\n",
            "        [ 0.5768,  1.5846,  0.8124,  1.4189, -0.2176]])\n",
            "tensor([ 1.5020, -0.0425,  0.2846,  1.0376, -0.2547,  0.7216, -0.0931, -0.6556,\n",
            "        -0.5550,  1.1451,  0.0859,  0.2413,  0.7387,  1.9930, -0.7801,  0.5768,\n",
            "         1.5846,  0.8124,  1.4189, -0.2176])\n",
            "tensor([[ 1.5020, -0.0425,  0.2846,  1.0376],\n",
            "        [-0.2547,  0.7216, -0.0931, -0.6556],\n",
            "        [-0.5550,  1.1451,  0.0859,  0.2413],\n",
            "        [ 0.7387,  1.9930, -0.7801,  0.5768],\n",
            "        [ 1.5846,  0.8124,  1.4189, -0.2176]])\n"
          ]
        }
      ]
    },
    {
      "cell_type": "markdown",
      "metadata": {
        "id": "iBY_wuIRvf5j"
      },
      "source": [
        "### item\n",
        "- 텐서에 값이 단 하나라도 존재하면 숫자값을 얻을 수 있음\n"
      ]
    },
    {
      "cell_type": "code",
      "metadata": {
        "id": "E0W24QqpvcmV",
        "colab": {
          "base_uri": "https://localhost:8080/"
        },
        "outputId": "72e82bac-66e5-425e-a4ee-460873c13d80"
      },
      "source": [
        "x = torch.randn(1)\n",
        "print(x)\n",
        "print(x.item()) # 실제값 출력\n",
        "print(x.dtype)"
      ],
      "execution_count": 50,
      "outputs": [
        {
          "output_type": "stream",
          "name": "stdout",
          "text": [
            "tensor([0.1676])\n",
            "0.1676102727651596\n",
            "torch.float32\n"
          ]
        }
      ]
    },
    {
      "cell_type": "markdown",
      "metadata": {
        "id": "V1sCUVwC3Nua"
      },
      "source": [
        "- 스칼라값 하나만 존재해야함"
      ]
    },
    {
      "cell_type": "code",
      "metadata": {
        "id": "jl4_FAgd3Lt9",
        "colab": {
          "base_uri": "https://localhost:8080/"
        },
        "outputId": "cf1c68bb-ba6a-43fc-cbfa-b5e981a3f68c"
      },
      "source": [
        "x = torch.randn(2)\n",
        "print(x)\n",
        "#print(x.item())\n",
        "print(x.dtype)"
      ],
      "execution_count": 51,
      "outputs": [
        {
          "output_type": "stream",
          "name": "stdout",
          "text": [
            "tensor([ 0.2881, -0.4904])\n",
            "torch.float32\n"
          ]
        }
      ]
    },
    {
      "cell_type": "markdown",
      "metadata": {
        "id": "uThndsy5M6wM"
      },
      "source": [
        "### squeeze \n",
        "- 차원을 축소(제거)"
      ]
    },
    {
      "cell_type": "code",
      "metadata": {
        "id": "OF3rOavnRxgM",
        "colab": {
          "base_uri": "https://localhost:8080/"
        },
        "outputId": "914633ef-8e09-4c92-82a5-9d211e5beace"
      },
      "source": [
        "tensor = torch.rand(1,3,3)\n",
        "print(tensor)\n",
        "tensor.shape"
      ],
      "execution_count": 52,
      "outputs": [
        {
          "output_type": "stream",
          "name": "stdout",
          "text": [
            "tensor([[[0.5299, 0.7437, 0.4784],\n",
            "         [0.8243, 0.0922, 0.2742],\n",
            "         [0.8393, 0.9693, 0.2086]]])\n"
          ]
        },
        {
          "output_type": "execute_result",
          "data": {
            "text/plain": [
              "torch.Size([1, 3, 3])"
            ]
          },
          "metadata": {},
          "execution_count": 52
        }
      ]
    },
    {
      "cell_type": "code",
      "metadata": {
        "id": "Y2jq0jHJR5Jw",
        "colab": {
          "base_uri": "https://localhost:8080/"
        },
        "outputId": "ef9bb51e-1024-4c80-d981-ed48f8da2575"
      },
      "source": [
        "t = tensor.squeeze()\n",
        "\n",
        "print(t)\n",
        "print(t.shape)"
      ],
      "execution_count": 53,
      "outputs": [
        {
          "output_type": "stream",
          "name": "stdout",
          "text": [
            "tensor([[0.5299, 0.7437, 0.4784],\n",
            "        [0.8243, 0.0922, 0.2742],\n",
            "        [0.8393, 0.9693, 0.2086]])\n",
            "torch.Size([3, 3])\n"
          ]
        }
      ]
    },
    {
      "cell_type": "markdown",
      "metadata": {
        "id": "COv-dnTYNJ8Z"
      },
      "source": [
        "### unsqueeze\n",
        "- 차원을 증가(생성)"
      ]
    },
    {
      "cell_type": "code",
      "metadata": {
        "id": "PFxaHGY1NOBo",
        "colab": {
          "base_uri": "https://localhost:8080/"
        },
        "outputId": "92e4e952-bee0-41ae-bd67-ef5db7342330"
      },
      "source": [
        "tensor = torch.rand(1,3,3)\n",
        "print(tensor)\n",
        "print(tensor.shape)"
      ],
      "execution_count": 54,
      "outputs": [
        {
          "output_type": "stream",
          "name": "stdout",
          "text": [
            "tensor([[[4.2681e-01, 4.6690e-02, 4.7871e-01],\n",
            "         [2.0237e-01, 6.2012e-01, 1.0738e-02],\n",
            "         [4.7988e-01, 3.3706e-04, 9.9344e-01]]])\n",
            "torch.Size([1, 3, 3])\n"
          ]
        }
      ]
    },
    {
      "cell_type": "code",
      "metadata": {
        "id": "b6sa4tJ7SA8G",
        "colab": {
          "base_uri": "https://localhost:8080/"
        },
        "outputId": "3c6dae81-3182-4047-8c83-e30a1b9c3069"
      },
      "source": [
        "t = tensor.unsqueeze(dim=0)\n",
        "\n",
        "print(t)\n",
        "print(t.shape)"
      ],
      "execution_count": 55,
      "outputs": [
        {
          "output_type": "stream",
          "name": "stdout",
          "text": [
            "tensor([[[[4.2681e-01, 4.6690e-02, 4.7871e-01],\n",
            "          [2.0237e-01, 6.2012e-01, 1.0738e-02],\n",
            "          [4.7988e-01, 3.3706e-04, 9.9344e-01]]]])\n",
            "torch.Size([1, 1, 3, 3])\n"
          ]
        }
      ]
    },
    {
      "cell_type": "markdown",
      "metadata": {
        "id": "_C_oa9JANOa6"
      },
      "source": [
        "### stack\n",
        "- 텐서간 결합"
      ]
    },
    {
      "cell_type": "code",
      "metadata": {
        "id": "f3x_XaUYNOuc",
        "colab": {
          "base_uri": "https://localhost:8080/"
        },
        "outputId": "aff905b1-4932-413d-ee38-ce15194a0d4f"
      },
      "source": [
        "x = torch.FloatTensor([1, 4])\n",
        "y = torch.FloatTensor([2, 5])\n",
        "z = torch.FloatTensor([3, 6])\n",
        "\n",
        "print(torch.stack([x,y,z]))"
      ],
      "execution_count": 56,
      "outputs": [
        {
          "output_type": "stream",
          "name": "stdout",
          "text": [
            "tensor([[1., 4.],\n",
            "        [2., 5.],\n",
            "        [3., 6.]])\n"
          ]
        }
      ]
    },
    {
      "cell_type": "markdown",
      "metadata": {
        "id": "XmJscbfg35-c"
      },
      "source": [
        "### cat\n",
        "- 텐서를 결합하는 메소드(concatenate)\n",
        "\n",
        "- 넘파이의 `stack`과 유사하지만, 쌓을 dim이 존재해야함\n",
        "  - 예를 들어, 해당 차원을 늘려준 후 결합\n"
      ]
    },
    {
      "cell_type": "code",
      "metadata": {
        "id": "Mv3zlaNm37P1",
        "colab": {
          "base_uri": "https://localhost:8080/"
        },
        "outputId": "d26887cf-63fd-48eb-e1b8-6837b73169db"
      },
      "source": [
        "a = torch.randn(1,3,3)\n",
        "b = torch.randn(1,3,3)\n",
        "c = torch.cat((a,b), dim=1)\n",
        "\n",
        "print(c)\n",
        "print(c.size())"
      ],
      "execution_count": 57,
      "outputs": [
        {
          "output_type": "stream",
          "name": "stdout",
          "text": [
            "tensor([[[ 0.3094, -1.0249,  0.6884],\n",
            "         [ 1.5908,  0.7143,  0.0670],\n",
            "         [-0.9544, -1.2799, -0.4082],\n",
            "         [ 0.8107, -0.1715,  0.5256],\n",
            "         [ 0.7149, -0.7340, -0.3360],\n",
            "         [-1.2282, -0.3442, -1.6217]]])\n",
            "torch.Size([1, 6, 3])\n"
          ]
        }
      ]
    },
    {
      "cell_type": "markdown",
      "metadata": {
        "id": "7gGXnOAqQTmG"
      },
      "source": [
        "### chuck\n",
        "- 텐서를 여러 개로 나눌 때 사용\n",
        "\n",
        "- 몇 개의 텐서로 나눌 것이냐"
      ]
    },
    {
      "cell_type": "code",
      "metadata": {
        "id": "pNV80VzPQZgG",
        "colab": {
          "base_uri": "https://localhost:8080/"
        },
        "outputId": "447d4f57-c40b-4066-ca4f-ada8190f3460"
      },
      "source": [
        "tensor = torch.rand(3, 6)\n",
        "t1, t2, t3 = torch.chunk(tensor, 3, dim=1)\n",
        "\n",
        "print(tensor)\n",
        "print(t1)\n",
        "print(t2)\n",
        "print(t3)"
      ],
      "execution_count": 58,
      "outputs": [
        {
          "output_type": "stream",
          "name": "stdout",
          "text": [
            "tensor([[0.3740, 0.1265, 0.7858, 0.8664, 0.3064, 0.7469],\n",
            "        [0.7231, 0.3144, 0.7861, 0.0217, 0.5353, 0.1060],\n",
            "        [0.3425, 0.7365, 0.8740, 0.0567, 0.9622, 0.0730]])\n",
            "tensor([[0.3740, 0.1265],\n",
            "        [0.7231, 0.3144],\n",
            "        [0.3425, 0.7365]])\n",
            "tensor([[0.7858, 0.8664],\n",
            "        [0.7861, 0.0217],\n",
            "        [0.8740, 0.0567]])\n",
            "tensor([[0.3064, 0.7469],\n",
            "        [0.5353, 0.1060],\n",
            "        [0.9622, 0.0730]])\n"
          ]
        }
      ]
    },
    {
      "cell_type": "markdown",
      "metadata": {
        "id": "7U0Qb0jWQgm-"
      },
      "source": [
        "### split\n",
        "- `chunck`와 동일한 기능이지만 조금 다름\n",
        "\n",
        "- 하나의 텐서당 크기가 얼마이냐"
      ]
    },
    {
      "cell_type": "code",
      "metadata": {
        "id": "1V6DDnLVQqxz",
        "colab": {
          "base_uri": "https://localhost:8080/"
        },
        "outputId": "e0bdfb73-42a6-41a1-9e84-4bcf5444a306"
      },
      "source": [
        "tensor = torch.rand(3,6)\n",
        "t1, t2 = torch.split(tensor, 3, dim=1)\n",
        "\n",
        "print(tensor)\n",
        "print(t1)\n",
        "print(t2)"
      ],
      "execution_count": 59,
      "outputs": [
        {
          "output_type": "stream",
          "name": "stdout",
          "text": [
            "tensor([[0.1008, 0.7035, 0.1338, 0.2387, 0.3634, 0.9025],\n",
            "        [0.7439, 0.6135, 0.8221, 0.3167, 0.8453, 0.0639],\n",
            "        [0.6608, 0.9405, 0.7685, 0.0059, 0.6214, 0.5139]])\n",
            "tensor([[0.1008, 0.7035, 0.1338],\n",
            "        [0.7439, 0.6135, 0.8221],\n",
            "        [0.6608, 0.9405, 0.7685]])\n",
            "tensor([[0.2387, 0.3634, 0.9025],\n",
            "        [0.3167, 0.8453, 0.0639],\n",
            "        [0.0059, 0.6214, 0.5139]])\n"
          ]
        }
      ]
    },
    {
      "cell_type": "markdown",
      "metadata": {
        "id": "estSwhCgvta6"
      },
      "source": [
        "### torch ↔ numpy\n",
        "- Torch Tensor(텐서)를 Numpy array(배열)로 변환 가능\n",
        "\n",
        "  - `numpy()`\n",
        "  - `from_numpy()`\n",
        "\n",
        "- (참고)\n",
        "  - Tensor가 CPU상에 있다면 Numpy 배열은 메모리 공간을 공유하므로 하나가 변하면, 다른 하나도 변함"
      ]
    },
    {
      "cell_type": "code",
      "metadata": {
        "id": "VxHI7c_yvmAT",
        "colab": {
          "base_uri": "https://localhost:8080/"
        },
        "outputId": "63e4008f-9b55-485a-a4e3-e27d9460db3c"
      },
      "source": [
        "a = torch.ones(7)\n",
        "print(a)"
      ],
      "execution_count": 60,
      "outputs": [
        {
          "output_type": "stream",
          "name": "stdout",
          "text": [
            "tensor([1., 1., 1., 1., 1., 1., 1.])\n"
          ]
        }
      ]
    },
    {
      "cell_type": "code",
      "metadata": {
        "id": "whbrhokHwJ3A",
        "colab": {
          "base_uri": "https://localhost:8080/"
        },
        "outputId": "8fb9dd45-2a05-4cc4-aaa7-1f271f7d8244"
      },
      "source": [
        "b = a.numpy()\n",
        "print(b)"
      ],
      "execution_count": 61,
      "outputs": [
        {
          "output_type": "stream",
          "name": "stdout",
          "text": [
            "[1. 1. 1. 1. 1. 1. 1.]\n"
          ]
        }
      ]
    },
    {
      "cell_type": "code",
      "metadata": {
        "id": "5StIhUWDwQjA",
        "colab": {
          "base_uri": "https://localhost:8080/"
        },
        "outputId": "24f5af8e-fd03-49ea-8769-50abebe209ee"
      },
      "source": [
        "a.add_(1)\n",
        "print(a)\n",
        "print(b)"
      ],
      "execution_count": 62,
      "outputs": [
        {
          "output_type": "stream",
          "name": "stdout",
          "text": [
            "tensor([2., 2., 2., 2., 2., 2., 2.])\n",
            "[2. 2. 2. 2. 2. 2. 2.]\n"
          ]
        }
      ]
    },
    {
      "cell_type": "code",
      "metadata": {
        "id": "3RNS5-cRwTt8",
        "colab": {
          "base_uri": "https://localhost:8080/"
        },
        "outputId": "55a601aa-9ce0-459e-83c7-0e0a65ac01c0"
      },
      "source": [
        "import numpy as np\n",
        "\n",
        "a = np.ones(7)\n",
        "b = torch.from_numpy(a)\n",
        "np.add(a, 1, out=a)\n",
        "print(a)\n",
        "print(b)"
      ],
      "execution_count": 63,
      "outputs": [
        {
          "output_type": "stream",
          "name": "stdout",
          "text": [
            "[2. 2. 2. 2. 2. 2. 2.]\n",
            "tensor([2., 2., 2., 2., 2., 2., 2.], dtype=torch.float64)\n"
          ]
        }
      ]
    },
    {
      "cell_type": "markdown",
      "metadata": {
        "id": "v-ZaxSvLxEej"
      },
      "source": [
        "## CUDA Tensors\n",
        "- `.to` 메소드를 사용하여 텐서를 어떠한 장치로도 옮길 수 있음\n",
        "  - 예) cpu, gpu"
      ]
    },
    {
      "cell_type": "code",
      "metadata": {
        "id": "xkaQznCRxpUj"
      },
      "source": [
        "import torch"
      ],
      "execution_count": 64,
      "outputs": []
    },
    {
      "cell_type": "code",
      "metadata": {
        "id": "SCnC0x2Rxpbk",
        "colab": {
          "base_uri": "https://localhost:8080/"
        },
        "outputId": "4076ef6b-eb66-41ac-adb8-c4e4f54601a4"
      },
      "source": [
        "x = torch.randn(1)\n",
        "print(x)\n",
        "print(x.item())\n",
        "print(x.dtype)"
      ],
      "execution_count": 65,
      "outputs": [
        {
          "output_type": "stream",
          "name": "stdout",
          "text": [
            "tensor([-1.7116])\n",
            "-1.7116228342056274\n",
            "torch.float32\n"
          ]
        }
      ]
    },
    {
      "cell_type": "code",
      "metadata": {
        "id": "GcSsFLkDw-nI",
        "colab": {
          "base_uri": "https://localhost:8080/"
        },
        "outputId": "8348428c-1322-4150-e8ae-ada44ab448b1"
      },
      "source": [
        "device = torch.device('cuda' if torch.cuda.is_available() else 'cpu')\n",
        "\n",
        "y = torch.ones_like(x, device=device)\n",
        "x = x.to(device)\n",
        "z = x + y\n",
        "print(device)\n",
        "print(z)\n",
        "print(z.to('cpu', torch.double))"
      ],
      "execution_count": 66,
      "outputs": [
        {
          "output_type": "stream",
          "name": "stdout",
          "text": [
            "cuda\n",
            "tensor([-0.7116], device='cuda:0')\n",
            "tensor([-0.7116], dtype=torch.float64)\n"
          ]
        }
      ]
    },
    {
      "cell_type": "markdown",
      "metadata": {
        "id": "NKqiGvLWx2nk"
      },
      "source": [
        "## AUTOGRAD (자동미분)\n",
        "- autograd 패키지는 Tensor의 모든 연산에 대해 **자동 미분** 제공\n",
        "\n",
        "- 이는 코드를 어떻게 작성하여 실행하느냐에 따라 역전파가 정의된다는 뜻\n",
        "\n",
        "- backprop를 위한 미분값을 자동으로 계산\n",
        "\n",
        "\n",
        "-----------------------------------------------36:00"
      ]
    },
    {
      "cell_type": "markdown",
      "metadata": {
        "id": "0zH41l-MyMHi"
      },
      "source": [
        "### Tensor\n",
        "\n",
        "- data: tensor형태의 데이터\n",
        "\n",
        "- grad: data가 거쳐온 layer에 대한 미분값 저장\n",
        "\n",
        "- grad_fn: 미분값을 계산한 함수에 대한 정보 저장 (어떤 함수에 대해서 backprop 했는지)\n",
        "\n",
        "- `requires_grad` 속성을 `True`로 설정하면, 해당 텐서에서 이루어지는 모든 연산들을 추적하기 시작\n",
        "\n",
        "- 계산이 완료된 후, `.backward()`를 호출하면 자동으로 `gradient`를 계산할 수 있으며, `.grad` 속성에 누적됨\n",
        "\n",
        "- 기록을 추적하는 것을 중단하게 하려면, `.detach()`를 호출하여 연산기록으로부터 분리\n",
        "\n",
        "- 기록을 추적하는 것을 방지하기 위해 코드 블럭을 `with torch.no_grad():`로 감싸면 `gradient`는 필요없지만, `requires_grad=True`로 설정되어 학습 가능한 매개변수를 갖는 모델을 평가(evaluate)할 때 유용\n",
        "\n",
        "- Autograd 구현에서 매우 중요한 클래스 : `Function` 클래스"
      ]
    },
    {
      "cell_type": "code",
      "metadata": {
        "id": "ipdk_1jfx47I"
      },
      "source": [
        "import torch"
      ],
      "execution_count": 67,
      "outputs": []
    },
    {
      "cell_type": "markdown",
      "source": [
        ""
      ],
      "metadata": {
        "id": "S8oNfUh6Kqtp"
      }
    },
    {
      "cell_type": "code",
      "metadata": {
        "id": "ljNU-r9p0Rpo",
        "colab": {
          "base_uri": "https://localhost:8080/"
        },
        "outputId": "988baf14-911b-46f3-e948-d8a05675f056"
      },
      "source": [
        "x = torch.ones(3, 3, requires_grad=True)\n",
        "print(x)"
      ],
      "execution_count": 68,
      "outputs": [
        {
          "output_type": "stream",
          "name": "stdout",
          "text": [
            "tensor([[1., 1., 1.],\n",
            "        [1., 1., 1.],\n",
            "        [1., 1., 1.]], requires_grad=True)\n"
          ]
        }
      ]
    },
    {
      "cell_type": "code",
      "metadata": {
        "id": "or6sQ4EB0UYz",
        "colab": {
          "base_uri": "https://localhost:8080/"
        },
        "outputId": "ac96bc61-434b-44a6-dff6-6312f8809d3b"
      },
      "source": [
        "y =x + 5\n",
        "print(y)"
      ],
      "execution_count": 69,
      "outputs": [
        {
          "output_type": "stream",
          "name": "stdout",
          "text": [
            "tensor([[6., 6., 6.],\n",
            "        [6., 6., 6.],\n",
            "        [6., 6., 6.]], grad_fn=<AddBackward0>)\n"
          ]
        }
      ]
    },
    {
      "cell_type": "code",
      "metadata": {
        "id": "PuQ7xDmu0Wpj",
        "colab": {
          "base_uri": "https://localhost:8080/"
        },
        "outputId": "27b28f5d-87a5-4603-cb5d-b15da97fd1c3"
      },
      "source": [
        "print(y.grad_fn)"
      ],
      "execution_count": 70,
      "outputs": [
        {
          "output_type": "stream",
          "name": "stdout",
          "text": [
            "<AddBackward0 object at 0x7f61341622d0>\n"
          ]
        }
      ]
    },
    {
      "cell_type": "code",
      "metadata": {
        "id": "6_2iM-Zq0ZdG",
        "colab": {
          "base_uri": "https://localhost:8080/"
        },
        "outputId": "40be2c36-a3ba-4dc6-a7e5-150cd5764ead"
      },
      "source": [
        "z = y * y * 2\n",
        "out = z.mean()\n",
        "\n",
        "print(z, out)"
      ],
      "execution_count": 71,
      "outputs": [
        {
          "output_type": "stream",
          "name": "stdout",
          "text": [
            "tensor([[72., 72., 72.],\n",
            "        [72., 72., 72.],\n",
            "        [72., 72., 72.]], grad_fn=<MulBackward0>) tensor(72., grad_fn=<MeanBackward0>)\n"
          ]
        }
      ]
    },
    {
      "cell_type": "markdown",
      "metadata": {
        "id": "2aZ8SWn_0nqt"
      },
      "source": [
        "- `requires_grad_(...)`는 기존 텐서의 `requires_grad`값을 바꿔치기(`in-place`)하여 변경"
      ]
    },
    {
      "cell_type": "code",
      "metadata": {
        "id": "mHGROgrM0ebO",
        "colab": {
          "base_uri": "https://localhost:8080/"
        },
        "outputId": "5cadeb39-d0e6-4174-e0f7-b42f29e04db3"
      },
      "source": [
        "a = torch.randn(3,3)\n",
        "a = ((a*3)/(a-1))\n",
        "print(a.requires_grad)\n",
        "\n",
        "a.requires_grad_(True)\n",
        "print(a.requires_grad)\n",
        "\n",
        "b = (a*a).sum()\n",
        "print(b.grad_fn)"
      ],
      "execution_count": 72,
      "outputs": [
        {
          "output_type": "stream",
          "name": "stdout",
          "text": [
            "False\n",
            "True\n",
            "<SumBackward0 object at 0x7f613391e1d0>\n"
          ]
        }
      ]
    },
    {
      "cell_type": "markdown",
      "metadata": {
        "id": "KiEn_stZ1VgU"
      },
      "source": [
        "### 기울기(Gradient)\n",
        "- 역전파: `.backward()`를 통해 역전파 계산 가능"
      ]
    },
    {
      "cell_type": "code",
      "metadata": {
        "id": "1tdoN9p-1kn4"
      },
      "source": [
        "out.backward()"
      ],
      "execution_count": 73,
      "outputs": []
    },
    {
      "cell_type": "code",
      "metadata": {
        "id": "CixGTXbV1B9p",
        "colab": {
          "base_uri": "https://localhost:8080/"
        },
        "outputId": "619b5eb4-5b2c-43b3-983c-c3d5ed83da8a"
      },
      "source": [
        "print(x.grad)"
      ],
      "execution_count": 74,
      "outputs": [
        {
          "output_type": "stream",
          "name": "stdout",
          "text": [
            "tensor([[2.6667, 2.6667, 2.6667],\n",
            "        [2.6667, 2.6667, 2.6667],\n",
            "        [2.6667, 2.6667, 2.6667]])\n"
          ]
        }
      ]
    },
    {
      "cell_type": "code",
      "metadata": {
        "id": "SY63Mcc-1iNI",
        "colab": {
          "base_uri": "https://localhost:8080/"
        },
        "outputId": "4412c827-6d7e-483e-8179-3144d80cdd52"
      },
      "source": [
        "x = torch.randn(3, requires_grad=True)\n",
        "\n",
        "y= x+2\n",
        "while y.data.norm() < 1000:\n",
        "  y = y* 2\n",
        "\n",
        "  print(y)"
      ],
      "execution_count": 75,
      "outputs": [
        {
          "output_type": "stream",
          "name": "stdout",
          "text": [
            "tensor([3.5017, 5.6419, 3.3382], grad_fn=<MulBackward0>)\n",
            "tensor([ 7.0033, 11.2837,  6.6763], grad_fn=<MulBackward0>)\n",
            "tensor([14.0066, 22.5675, 13.3527], grad_fn=<MulBackward0>)\n",
            "tensor([28.0133, 45.1349, 26.7053], grad_fn=<MulBackward0>)\n",
            "tensor([56.0266, 90.2699, 53.4106], grad_fn=<MulBackward0>)\n",
            "tensor([112.0532, 180.5397, 106.8212], grad_fn=<MulBackward0>)\n",
            "tensor([224.1064, 361.0794, 213.6425], grad_fn=<MulBackward0>)\n",
            "tensor([448.2128, 722.1588, 427.2850], grad_fn=<MulBackward0>)\n",
            "tensor([ 896.4255, 1444.3176,  854.5699], grad_fn=<MulBackward0>)\n"
          ]
        }
      ]
    },
    {
      "cell_type": "code",
      "metadata": {
        "id": "YPaVAbIT3gx_",
        "colab": {
          "base_uri": "https://localhost:8080/"
        },
        "outputId": "2aaad89d-be3c-4ca8-b332-4ab6fe7d033c"
      },
      "source": [
        "v = torch.tensor([0.1, 1.0, 0.0001], dtype=torch.float)\n",
        "y.backward(v)\n",
        "\n",
        "print(x.grad)"
      ],
      "execution_count": 76,
      "outputs": [
        {
          "output_type": "stream",
          "name": "stdout",
          "text": [
            "tensor([5.1200e+01, 5.1200e+02, 5.1200e-02])\n"
          ]
        }
      ]
    },
    {
      "cell_type": "markdown",
      "metadata": {
        "id": "0b9amArPXtcX"
      },
      "source": [
        "- `with torch.no_grad()`를 사용하여 gradient의 업데이트를 하지 않음"
      ]
    },
    {
      "cell_type": "code",
      "metadata": {
        "id": "weeIe5_Z3jVe",
        "colab": {
          "base_uri": "https://localhost:8080/"
        },
        "outputId": "452af42b-778f-4766-937e-ba0958c7ffaa"
      },
      "source": [
        "print(x.requires_grad)\n",
        "print((x ** 2).requires_grad)\n",
        "\n",
        "with torch.no_grad():\n",
        "  print((x ** 2).requires_grad)"
      ],
      "execution_count": 77,
      "outputs": [
        {
          "output_type": "stream",
          "name": "stdout",
          "text": [
            "True\n",
            "True\n",
            "False\n"
          ]
        }
      ]
    },
    {
      "cell_type": "markdown",
      "metadata": {
        "id": "bLcTLVRSmCdH"
      },
      "source": [
        "- `detach()`: 내용물(content)은 같지만 require_grad가 다른 새로운 Tensor를 가져올 때"
      ]
    },
    {
      "cell_type": "code",
      "metadata": {
        "id": "ALcth7Ew3l7H",
        "colab": {
          "base_uri": "https://localhost:8080/"
        },
        "outputId": "d4aadd22-fdc8-46eb-e0ac-1688ed10075a"
      },
      "source": [
        "print(x.requires_grad)\n",
        "y = x.detach()\n",
        "print(y.requires_grad)\n",
        "print(x.eq(y).all())"
      ],
      "execution_count": 78,
      "outputs": [
        {
          "output_type": "stream",
          "name": "stdout",
          "text": [
            "True\n",
            "False\n",
            "tensor(True)\n"
          ]
        }
      ]
    },
    {
      "cell_type": "markdown",
      "metadata": {
        "id": "NSarysrqBh9D"
      },
      "source": [
        "### 자동 미분 흐름 다시 보기(1)\n",
        "- 계산 흐름  \n",
        "  $a \\rightarrow b  \\rightarrow c  \\rightarrow out $\n",
        "\n",
        "<br>\n",
        "\n",
        "## $\\quad \\frac{\\partial out}{\\partial a} = ?$\n",
        "- `backward()`를 통해  \n",
        "  $a \\leftarrow b  \\leftarrow c  \\leftarrow out $을 계산하면  \n",
        "    $\\frac{\\partial out}{\\partial a}$값이 `a.grad`에 채워짐\n"
      ]
    },
    {
      "cell_type": "code",
      "metadata": {
        "id": "NUAc1etP3oBc"
      },
      "source": [
        "import torch"
      ],
      "execution_count": 79,
      "outputs": []
    },
    {
      "cell_type": "code",
      "metadata": {
        "id": "tCW7dq9uB89T",
        "colab": {
          "base_uri": "https://localhost:8080/"
        },
        "outputId": "acd9adad-a138-451a-9401-9e90b0826d7f"
      },
      "source": [
        "a = torch.ones(2,2)\n",
        "print(a)"
      ],
      "execution_count": 80,
      "outputs": [
        {
          "output_type": "stream",
          "name": "stdout",
          "text": [
            "tensor([[1., 1.],\n",
            "        [1., 1.]])\n"
          ]
        }
      ]
    },
    {
      "cell_type": "code",
      "metadata": {
        "id": "-AyyGy49FLz9",
        "colab": {
          "base_uri": "https://localhost:8080/"
        },
        "outputId": "3b6d7f8c-7c38-4eb1-9ec4-7b70c9cfcc2c"
      },
      "source": [
        "a = torch.ones(2,2,requires_grad=True)\n",
        "print(a)"
      ],
      "execution_count": 81,
      "outputs": [
        {
          "output_type": "stream",
          "name": "stdout",
          "text": [
            "tensor([[1., 1.],\n",
            "        [1., 1.]], requires_grad=True)\n"
          ]
        }
      ]
    },
    {
      "cell_type": "code",
      "metadata": {
        "id": "SmmJa-hvFPGH",
        "colab": {
          "base_uri": "https://localhost:8080/"
        },
        "outputId": "95d1fdfd-dfa4-4634-cdc5-58b7583dbb0d"
      },
      "source": [
        "print(\"a.data:\", a)\n",
        "print(\"a.grad:\", a.grad)\n",
        "print(\"a.grad_fn:\", a.grad_fn)"
      ],
      "execution_count": 82,
      "outputs": [
        {
          "output_type": "stream",
          "name": "stdout",
          "text": [
            "a.data: tensor([[1., 1.],\n",
            "        [1., 1.]], requires_grad=True)\n",
            "a.grad: None\n",
            "a.grad_fn: None\n"
          ]
        }
      ]
    },
    {
      "cell_type": "markdown",
      "metadata": {
        "id": "BCwhTsiHGCmG"
      },
      "source": [
        "- $b = a + 2$"
      ]
    },
    {
      "cell_type": "code",
      "metadata": {
        "id": "iUPt042iF9V1",
        "colab": {
          "base_uri": "https://localhost:8080/"
        },
        "outputId": "719a1804-6e80-45dd-ea65-1494dba60ef3"
      },
      "source": [
        "b = a + 2 \n",
        "print(b)"
      ],
      "execution_count": 83,
      "outputs": [
        {
          "output_type": "stream",
          "name": "stdout",
          "text": [
            "tensor([[3., 3.],\n",
            "        [3., 3.]], grad_fn=<AddBackward0>)\n"
          ]
        }
      ]
    },
    {
      "cell_type": "markdown",
      "metadata": {
        "id": "6cw2zoq9GHLF"
      },
      "source": [
        "- $c = b^2$ "
      ]
    },
    {
      "cell_type": "code",
      "metadata": {
        "id": "FRDS6gP0GFZG",
        "colab": {
          "base_uri": "https://localhost:8080/"
        },
        "outputId": "58216fda-7171-4832-8447-71552d9d185c"
      },
      "source": [
        "c = b**2\n",
        "print(c)"
      ],
      "execution_count": 84,
      "outputs": [
        {
          "output_type": "stream",
          "name": "stdout",
          "text": [
            "tensor([[9., 9.],\n",
            "        [9., 9.]], grad_fn=<PowBackward0>)\n"
          ]
        }
      ]
    },
    {
      "cell_type": "code",
      "metadata": {
        "id": "VynoiUywGSwh",
        "colab": {
          "base_uri": "https://localhost:8080/"
        },
        "outputId": "f0856989-1631-4206-9854-51dd11e2e4d7"
      },
      "source": [
        "out = c.sum()\n",
        "print(out)"
      ],
      "execution_count": 85,
      "outputs": [
        {
          "output_type": "stream",
          "name": "stdout",
          "text": [
            "tensor(36., grad_fn=<SumBackward0>)\n"
          ]
        }
      ]
    },
    {
      "cell_type": "code",
      "metadata": {
        "id": "v3ryJon9GeMn",
        "colab": {
          "base_uri": "https://localhost:8080/"
        },
        "outputId": "a18e6876-5beb-406e-aa1d-47de77698dd2"
      },
      "source": [
        "print(out)\n",
        "out.backward()"
      ],
      "execution_count": 86,
      "outputs": [
        {
          "output_type": "stream",
          "name": "stdout",
          "text": [
            "tensor(36., grad_fn=<SumBackward0>)\n"
          ]
        }
      ]
    },
    {
      "cell_type": "markdown",
      "metadata": {
        "id": "f0aoNsPDHsoG"
      },
      "source": [
        "- a의 `grad_fn`이 None인 이유  \n",
        "  직접적으로 계산한 부분이 없었기 때문"
      ]
    },
    {
      "cell_type": "code",
      "metadata": {
        "id": "bccI4vIWGgqj",
        "colab": {
          "base_uri": "https://localhost:8080/"
        },
        "outputId": "965657e7-c5e1-411e-f6c9-cd926785a477"
      },
      "source": [
        "print(\"a.data:\", a.data)\n",
        "print(\"a.grad:\", a.grad)\n",
        "print(\"a.grad_fn:\", a.grad_fn)"
      ],
      "execution_count": 87,
      "outputs": [
        {
          "output_type": "stream",
          "name": "stdout",
          "text": [
            "a.data: tensor([[1., 1.],\n",
            "        [1., 1.]])\n",
            "a.grad: tensor([[6., 6.],\n",
            "        [6., 6.]])\n",
            "a.grad_fn: None\n"
          ]
        }
      ]
    },
    {
      "cell_type": "code",
      "metadata": {
        "id": "oka1mkadHq-N",
        "colab": {
          "base_uri": "https://localhost:8080/"
        },
        "outputId": "37c42aa9-87cd-4a5c-8ca7-5c36105c3b79"
      },
      "source": [
        "print(\"b.data:\", b.data)\n",
        "print(\"b.grad:\", b.grad)\n",
        "print(\"b.grad_fn:\", b.grad_fn)"
      ],
      "execution_count": 88,
      "outputs": [
        {
          "output_type": "stream",
          "name": "stdout",
          "text": [
            "b.data: tensor([[3., 3.],\n",
            "        [3., 3.]])\n",
            "b.grad: None\n",
            "b.grad_fn: <AddBackward0 object at 0x7f6134177710>\n"
          ]
        },
        {
          "output_type": "stream",
          "name": "stderr",
          "text": [
            "/usr/local/lib/python3.7/dist-packages/torch/_tensor.py:1013: UserWarning: The .grad attribute of a Tensor that is not a leaf Tensor is being accessed. Its .grad attribute won't be populated during autograd.backward(). If you indeed want the .grad field to be populated for a non-leaf Tensor, use .retain_grad() on the non-leaf Tensor. If you access the non-leaf Tensor by mistake, make sure you access the leaf Tensor instead. See github.com/pytorch/pytorch/pull/30531 for more informations. (Triggered internally at  aten/src/ATen/core/TensorBody.h:417.)\n",
            "  return self._grad\n"
          ]
        }
      ]
    },
    {
      "cell_type": "code",
      "metadata": {
        "id": "ZiYNajdLccUF",
        "colab": {
          "base_uri": "https://localhost:8080/"
        },
        "outputId": "a0b613ff-fd93-4eb1-8d6a-d4f957662e0d"
      },
      "source": [
        "print(\"c.data:\", c.data)\n",
        "print(\"c.grad:\", c.grad)\n",
        "print(\"c.grad_fn:\", c.grad_fn)"
      ],
      "execution_count": 89,
      "outputs": [
        {
          "output_type": "stream",
          "name": "stdout",
          "text": [
            "c.data: tensor([[9., 9.],\n",
            "        [9., 9.]])\n",
            "c.grad: None\n",
            "c.grad_fn: <PowBackward0 object at 0x7f6134192d10>\n"
          ]
        },
        {
          "output_type": "stream",
          "name": "stderr",
          "text": [
            "/usr/local/lib/python3.7/dist-packages/torch/_tensor.py:1013: UserWarning: The .grad attribute of a Tensor that is not a leaf Tensor is being accessed. Its .grad attribute won't be populated during autograd.backward(). If you indeed want the .grad field to be populated for a non-leaf Tensor, use .retain_grad() on the non-leaf Tensor. If you access the non-leaf Tensor by mistake, make sure you access the leaf Tensor instead. See github.com/pytorch/pytorch/pull/30531 for more informations. (Triggered internally at  aten/src/ATen/core/TensorBody.h:417.)\n",
            "  return self._grad\n"
          ]
        }
      ]
    },
    {
      "cell_type": "code",
      "metadata": {
        "id": "BcLoMYite0vU",
        "colab": {
          "base_uri": "https://localhost:8080/"
        },
        "outputId": "674da891-423f-4018-9108-72281fadb5ed"
      },
      "source": [
        "print(\"out.data:\", out.data)\n",
        "print(\"out.grad:\", out.grad)\n",
        "print(\"out.grad_fn:\", out.grad_fn)"
      ],
      "execution_count": 90,
      "outputs": [
        {
          "output_type": "stream",
          "name": "stdout",
          "text": [
            "out.data: tensor(36.)\n",
            "out.grad: None\n",
            "out.grad_fn: <SumBackward0 object at 0x7f61341926d0>\n"
          ]
        },
        {
          "output_type": "stream",
          "name": "stderr",
          "text": [
            "/usr/local/lib/python3.7/dist-packages/torch/_tensor.py:1013: UserWarning: The .grad attribute of a Tensor that is not a leaf Tensor is being accessed. Its .grad attribute won't be populated during autograd.backward(). If you indeed want the .grad field to be populated for a non-leaf Tensor, use .retain_grad() on the non-leaf Tensor. If you access the non-leaf Tensor by mistake, make sure you access the leaf Tensor instead. See github.com/pytorch/pytorch/pull/30531 for more informations. (Triggered internally at  aten/src/ATen/core/TensorBody.h:417.)\n",
            "  return self._grad\n"
          ]
        }
      ]
    },
    {
      "cell_type": "markdown",
      "metadata": {
        "id": "qZXgwviHfovj"
      },
      "source": [
        "### 자동 미분 흐름 다시 보기(2)\n",
        "- `grad`값을 넣어서 `backward`\n",
        "\n",
        "- 아래의 코드에서 `.grad`값이 None은 gradient값이 필요하지 않기 때문"
      ]
    },
    {
      "cell_type": "code",
      "metadata": {
        "id": "bB6DCYXRfcI_",
        "colab": {
          "base_uri": "https://localhost:8080/"
        },
        "outputId": "9b5d5654-5e5f-4b2a-a0a4-e7b755857503"
      },
      "source": [
        "x = torch.ones(3, requires_grad=True)\n",
        "y = (x ** 2)\n",
        "z = y ** 2 + x\n",
        "out = z.sum()\n",
        "print(out)"
      ],
      "execution_count": 91,
      "outputs": [
        {
          "output_type": "stream",
          "name": "stdout",
          "text": [
            "tensor(6., grad_fn=<SumBackward0>)\n"
          ]
        }
      ]
    },
    {
      "cell_type": "code",
      "metadata": {
        "id": "AVo-glm8fvFv"
      },
      "source": [
        "grad = torch.Tensor([0.1, 1, 100])\n",
        "z.backward(grad)"
      ],
      "execution_count": 92,
      "outputs": []
    },
    {
      "cell_type": "code",
      "metadata": {
        "id": "tdBklrepf2qq",
        "colab": {
          "base_uri": "https://localhost:8080/"
        },
        "outputId": "c718afae-f3ab-4b09-dda7-2914b4092039"
      },
      "source": [
        "print(\"x.data:\", x.data)\n",
        "print(\"x.grad:\", x.grad)\n",
        "print(\"x.grad_fn:\", x.grad_fn)"
      ],
      "execution_count": 93,
      "outputs": [
        {
          "output_type": "stream",
          "name": "stdout",
          "text": [
            "x.data: tensor([1., 1., 1.])\n",
            "x.grad: tensor([  0.5000,   5.0000, 500.0000])\n",
            "x.grad_fn: None\n"
          ]
        }
      ]
    },
    {
      "cell_type": "code",
      "metadata": {
        "id": "HQvUGlfRf7jU",
        "colab": {
          "base_uri": "https://localhost:8080/"
        },
        "outputId": "820296c7-845c-4b58-957f-95c6281f75b6"
      },
      "source": [
        "print(\"y.data:\", y.data)\n",
        "print(\"y.grad:\", y.grad)\n",
        "print(\"y.grad_fn:\", y.grad_fn)"
      ],
      "execution_count": 94,
      "outputs": [
        {
          "output_type": "stream",
          "name": "stdout",
          "text": [
            "y.data: tensor([1., 1., 1.])\n",
            "y.grad: None\n",
            "y.grad_fn: <PowBackward0 object at 0x7f6133946e90>\n"
          ]
        },
        {
          "output_type": "stream",
          "name": "stderr",
          "text": [
            "/usr/local/lib/python3.7/dist-packages/torch/_tensor.py:1013: UserWarning: The .grad attribute of a Tensor that is not a leaf Tensor is being accessed. Its .grad attribute won't be populated during autograd.backward(). If you indeed want the .grad field to be populated for a non-leaf Tensor, use .retain_grad() on the non-leaf Tensor. If you access the non-leaf Tensor by mistake, make sure you access the leaf Tensor instead. See github.com/pytorch/pytorch/pull/30531 for more informations. (Triggered internally at  aten/src/ATen/core/TensorBody.h:417.)\n",
            "  return self._grad\n"
          ]
        }
      ]
    },
    {
      "cell_type": "code",
      "metadata": {
        "id": "h7TFHdMfgxvW",
        "colab": {
          "base_uri": "https://localhost:8080/"
        },
        "outputId": "26e9f506-50d3-435f-ff1a-1cb25deb4a41"
      },
      "source": [
        "print(\"z.data:\", z.data)\n",
        "print(\"z.grad:\", z.grad)\n",
        "print(\"z.grad_fn:\", z.grad_fn)"
      ],
      "execution_count": 95,
      "outputs": [
        {
          "output_type": "stream",
          "name": "stdout",
          "text": [
            "z.data: tensor([2., 2., 2.])\n",
            "z.grad: None\n",
            "z.grad_fn: <AddBackward0 object at 0x7f6133946d50>\n"
          ]
        },
        {
          "output_type": "stream",
          "name": "stderr",
          "text": [
            "/usr/local/lib/python3.7/dist-packages/torch/_tensor.py:1013: UserWarning: The .grad attribute of a Tensor that is not a leaf Tensor is being accessed. Its .grad attribute won't be populated during autograd.backward(). If you indeed want the .grad field to be populated for a non-leaf Tensor, use .retain_grad() on the non-leaf Tensor. If you access the non-leaf Tensor by mistake, make sure you access the leaf Tensor instead. See github.com/pytorch/pytorch/pull/30531 for more informations. (Triggered internally at  aten/src/ATen/core/TensorBody.h:417.)\n",
            "  return self._grad\n"
          ]
        }
      ]
    },
    {
      "cell_type": "markdown",
      "metadata": {
        "id": "DKv-osmNmWiA"
      },
      "source": [
        "## nn & nn.functional\n",
        "\n",
        "- 두 패키지가 같은 기능이지만 방식이 조금 다름\n",
        "\n",
        "- 위의 `autograd` 관련 작업들을 두 패키지를 통해 진행할 수 있음\n",
        "\n",
        "- 텐서를 직접 다룰 때 `requires_grad`와 같은 방식으로 진행할 수 있음\n",
        "\n",
        "- 결론적으로, `torch.nn`은 attribute를 활용해 state를 저장하고 활용하고,  \n",
        "  `torch.nn.functional`로 구현한 함수의 경우에는 인스턴스화 시킬 필요 없이 사용이 가능\n",
        " \n"
      ]
    },
    {
      "cell_type": "markdown",
      "metadata": {
        "id": "jk8fkKq3nWP1"
      },
      "source": [
        "### nn 패키지\n",
        "\n",
        "- 주로 가중치(weights), 편향(bias)값들이 내부에서 자동으로 생성되는 레이어들을 사용할 때  \n",
        "  - 따라서, `weight`값들을 직접 선언 안함\n",
        "\n",
        "- 예시\n",
        "  - Containers\n",
        "\n",
        "  - Convolution Layers\n",
        "\n",
        "  - Pooling layers\n",
        "\n",
        "  - Padding Layers\n",
        "\n",
        "  - Non-linear Activations (weighted sum, nonlinearity)\n",
        "\n",
        "  - Non-linear Activations (other)\n",
        "\n",
        "  - Normalization Layers\n",
        "\n",
        "  - Recurrent Layers\n",
        "\n",
        "  - Transformer Layers\n",
        "\n",
        "  - Linear Layers\n",
        "\n",
        "  - Dropout Layers\n",
        "\n",
        "  - Sparse Layers\n",
        "\n",
        "  - Distance Functions\n",
        "\n",
        "  - Loss Functions\n",
        "\n",
        "  - ..\n",
        "- https://pytorch.org/docs/stable/nn.html\n",
        "\n"
      ]
    },
    {
      "cell_type": "code",
      "metadata": {
        "id": "8tEtWHAsmZMy"
      },
      "source": [
        "import torch\n",
        "import torch.nn as nn"
      ],
      "execution_count": 96,
      "outputs": []
    },
    {
      "cell_type": "markdown",
      "metadata": {
        "id": "NcjCbeEQqPSI"
      },
      "source": [
        "- Convolution Layer 예시 (1)\n"
      ]
    },
    {
      "cell_type": "code",
      "metadata": {
        "id": "NQ7Y0tCOpkhM",
        "colab": {
          "base_uri": "https://localhost:8080/"
        },
        "outputId": "29114ff2-0cfe-49a9-bffc-9941864ada5f"
      },
      "source": [
        "m = nn.Conv2d(16, 33, 3, stride=2)\n",
        "\n",
        "m = nn.Conv2d(16, 33, (3, 5), stride= (2,1), padding=(4,2))\n",
        "\n",
        "m = nn.Conv2d(16, 33, (3, 5), stride= (2,1), padding=(4,2), dilation=(3,1))\n",
        "\n",
        "input = torch.randn(20, 16, 50, 100)\n",
        "print(input)\n",
        "output = m(input)"
      ],
      "execution_count": 97,
      "outputs": [
        {
          "output_type": "stream",
          "name": "stdout",
          "text": [
            "tensor([[[[ 1.2107e+00, -8.9721e-01,  1.7030e+00,  ..., -2.4119e-01,\n",
            "           -1.1372e+00, -4.6238e-01],\n",
            "          [-3.4082e+00,  6.6958e-01, -3.8466e-01,  ..., -8.3866e-01,\n",
            "            1.1558e+00, -9.3928e-01],\n",
            "          [ 6.2403e-01, -2.3749e+00, -2.6285e-01,  ...,  1.7329e+00,\n",
            "            4.7746e-01, -9.9036e-01],\n",
            "          ...,\n",
            "          [ 3.2132e-01, -1.1086e-01, -3.4489e-01,  ..., -2.8381e+00,\n",
            "           -6.0794e-01, -1.2603e+00],\n",
            "          [ 2.8058e-01, -1.2274e+00, -2.8049e-02,  ...,  1.0078e-01,\n",
            "           -2.8819e-01, -4.0672e-01],\n",
            "          [ 1.7681e+00, -7.2928e-02, -2.6010e-01,  ..., -5.1353e-02,\n",
            "           -1.0918e+00, -2.3113e+00]],\n",
            "\n",
            "         [[-8.1234e-01, -8.1805e-01,  7.1764e-01,  ...,  9.9341e-01,\n",
            "            3.1110e-01,  1.0334e-02],\n",
            "          [-1.3506e+00, -7.0597e-02, -8.1445e-01,  ..., -1.7108e+00,\n",
            "            1.6139e-01, -1.9666e-01],\n",
            "          [ 1.3713e+00,  1.0921e+00, -1.5951e+00,  ...,  1.1742e-01,\n",
            "            8.1828e-01,  6.6516e-01],\n",
            "          ...,\n",
            "          [ 3.1740e-01,  3.0018e-01,  6.8348e-01,  ..., -9.1886e-01,\n",
            "           -1.8764e+00,  1.0999e+00],\n",
            "          [-1.5630e-01, -3.1362e-01, -2.1711e-01,  ..., -2.3668e+00,\n",
            "            1.2216e+00, -2.4919e-01],\n",
            "          [-8.9492e-01,  3.8661e-01, -1.2268e+00,  ..., -6.4520e-01,\n",
            "           -1.3092e+00, -1.9483e+00]],\n",
            "\n",
            "         [[ 6.1010e-01, -1.7095e-01,  1.7157e+00,  ...,  8.6802e-01,\n",
            "           -3.7116e-01, -1.0909e+00],\n",
            "          [-5.0962e-02, -2.5408e+00,  6.1719e-01,  ...,  5.7542e-01,\n",
            "           -7.0662e-01,  7.0759e-01],\n",
            "          [ 5.1090e-01,  4.4095e-01,  1.4196e+00,  ..., -4.7177e-01,\n",
            "           -4.4620e-02,  1.0791e-01],\n",
            "          ...,\n",
            "          [-1.7775e-01,  2.6855e-01,  1.5323e+00,  ...,  7.2794e-04,\n",
            "            1.3933e+00,  8.2863e-01],\n",
            "          [-8.3000e-01, -4.4649e-01, -2.3953e+00,  ..., -1.8413e+00,\n",
            "            3.2246e-01, -1.0127e+00],\n",
            "          [ 9.7483e-02, -4.0407e-01, -1.6810e+00,  ..., -5.6489e-01,\n",
            "            4.1070e-01, -8.1054e-01]],\n",
            "\n",
            "         ...,\n",
            "\n",
            "         [[ 6.2735e-01,  6.3109e-01, -2.6355e-01,  ...,  1.3156e+00,\n",
            "           -1.6195e+00,  1.9361e+00],\n",
            "          [ 9.3264e-01, -7.5672e-02, -9.1087e-01,  ..., -1.4381e+00,\n",
            "           -9.2491e-01,  9.6279e-01],\n",
            "          [-3.1182e-01, -1.4540e+00,  2.8547e-01,  ...,  1.2961e-01,\n",
            "           -2.9758e-01, -1.1141e+00],\n",
            "          ...,\n",
            "          [-3.6614e-01, -9.7870e-01,  8.5774e-01,  ..., -4.1361e-01,\n",
            "            1.8302e-01,  1.5448e-01],\n",
            "          [ 4.6477e-01,  5.4484e-01, -2.2736e-01,  ...,  5.1848e-01,\n",
            "           -9.1943e-01,  8.9304e-02],\n",
            "          [ 4.8453e-01, -5.0232e-01,  4.5532e-01,  ...,  7.2711e-01,\n",
            "           -8.3849e-01, -1.5705e+00]],\n",
            "\n",
            "         [[-2.2244e-02, -1.3821e+00,  8.9299e-01,  ...,  4.6801e-01,\n",
            "           -4.0442e-01, -9.0243e-02],\n",
            "          [-1.0998e+00,  1.7683e-01, -1.1340e+00,  ..., -1.0775e+00,\n",
            "            1.6933e+00, -3.8102e-01],\n",
            "          [ 3.1331e+00, -1.2914e+00, -4.1764e-02,  ..., -2.3792e+00,\n",
            "           -7.7187e-01, -2.9505e-01],\n",
            "          ...,\n",
            "          [ 4.5530e-01, -9.1979e-01, -4.6367e-01,  ...,  1.3803e+00,\n",
            "            6.3505e-01, -3.4813e-01],\n",
            "          [-1.8100e-01, -1.0782e+00, -9.3361e-01,  ..., -9.9845e-02,\n",
            "           -4.9841e-01, -1.4210e+00],\n",
            "          [-1.5702e-01, -6.9110e-01, -1.3187e+00,  ..., -1.8126e-01,\n",
            "            3.1978e-01,  5.1024e-01]],\n",
            "\n",
            "         [[-6.4370e-01,  1.3916e+00,  1.3899e-02,  ...,  1.5355e+00,\n",
            "            1.8180e+00, -1.0075e+00],\n",
            "          [-2.4531e-01,  9.7491e-01, -1.0306e+00,  ..., -9.3622e-01,\n",
            "            7.2435e-01, -1.1140e+00],\n",
            "          [-2.7060e-01,  1.0932e-01,  1.0508e+00,  ...,  8.8541e-01,\n",
            "            5.2437e-02,  1.5663e+00],\n",
            "          ...,\n",
            "          [-3.9940e-01,  3.6825e-01, -4.2024e-01,  ..., -1.5870e+00,\n",
            "           -9.3737e-01, -2.0834e+00],\n",
            "          [ 5.7652e-02, -1.8734e-01, -6.7565e-01,  ...,  1.4053e+00,\n",
            "            1.2345e+00, -4.2413e-01],\n",
            "          [-1.3943e+00,  1.5479e+00,  1.4794e+00,  ..., -1.5149e+00,\n",
            "           -3.8883e-01, -7.0562e-01]]],\n",
            "\n",
            "\n",
            "        [[[-7.1932e-01, -1.2749e+00, -6.0089e-01,  ..., -1.5487e-01,\n",
            "           -9.4826e-01, -1.7517e+00],\n",
            "          [-1.4915e+00, -1.9181e-01, -1.0739e+00,  ...,  1.4696e+00,\n",
            "            1.6160e+00, -6.7241e-01],\n",
            "          [ 2.4936e-01,  1.8298e-02,  5.3310e-01,  ...,  8.0860e-01,\n",
            "            6.6424e-01, -1.0582e+00],\n",
            "          ...,\n",
            "          [-1.7132e+00,  9.5220e-01,  3.2824e-01,  ..., -3.7105e-01,\n",
            "            3.0116e-01,  1.0214e+00],\n",
            "          [ 6.5444e-01, -7.6735e-02,  3.5172e-01,  ...,  4.2375e-01,\n",
            "            5.6183e-01,  8.5930e-01],\n",
            "          [ 8.6347e-02, -1.3313e+00, -2.1081e-01,  ..., -2.4399e-01,\n",
            "            3.8150e-01,  5.1928e-01]],\n",
            "\n",
            "         [[ 3.5525e-01, -4.1900e-01, -1.0264e-01,  ...,  2.2157e-01,\n",
            "            1.0589e+00, -6.5920e-01],\n",
            "          [-1.0890e+00,  4.6602e-01,  4.9591e-01,  ..., -1.7185e+00,\n",
            "            3.9775e-01,  2.1766e-01],\n",
            "          [-5.2875e-01, -7.4369e-01, -8.2727e-01,  ...,  1.0726e+00,\n",
            "            3.7147e-01,  3.6276e-01],\n",
            "          ...,\n",
            "          [-6.1363e-01, -5.2688e-01, -9.0376e-01,  ..., -1.0172e+00,\n",
            "            9.7904e-01, -5.7378e-01],\n",
            "          [ 7.1372e-01, -4.8939e-01, -6.8150e-01,  ..., -1.0607e+00,\n",
            "            7.0459e-01,  6.3082e-01],\n",
            "          [ 1.4354e+00, -6.7807e-01, -1.0278e+00,  ...,  9.1779e-01,\n",
            "            2.7847e-01,  1.5484e+00]],\n",
            "\n",
            "         [[ 1.2262e+00, -5.7654e-01, -1.2750e+00,  ..., -8.2794e-01,\n",
            "           -1.3975e-01, -6.4887e-01],\n",
            "          [-8.8324e-01, -5.6986e-01, -3.9524e-01,  ...,  5.0655e-01,\n",
            "           -4.3916e-01, -5.9606e-01],\n",
            "          [ 1.2553e+00, -4.9596e-01, -1.1670e+00,  ..., -1.4556e-01,\n",
            "           -1.3562e+00,  1.8225e+00],\n",
            "          ...,\n",
            "          [ 1.2238e+00,  5.9266e-02,  6.5089e-01,  ..., -6.2119e-02,\n",
            "           -1.8073e-01,  1.5119e+00],\n",
            "          [-9.2099e-01, -3.5316e-01, -3.8731e-01,  ...,  5.2999e-01,\n",
            "           -1.2875e+00,  5.3920e-01],\n",
            "          [ 6.5173e-01,  4.7909e-01, -7.4115e-01,  ..., -6.3316e-01,\n",
            "           -9.5619e-01, -1.1052e-01]],\n",
            "\n",
            "         ...,\n",
            "\n",
            "         [[-1.3070e+00,  1.3609e-01, -5.0974e-01,  ..., -2.0027e+00,\n",
            "           -1.9613e+00, -1.6771e-01],\n",
            "          [-6.7560e-01,  1.7959e+00, -2.1391e+00,  ..., -1.0081e+00,\n",
            "           -3.7789e-01, -2.5388e+00],\n",
            "          [ 5.9640e-01,  9.4622e-01, -4.7231e-01,  ..., -2.4820e-01,\n",
            "            7.3341e-01,  1.7511e-01],\n",
            "          ...,\n",
            "          [-7.6915e-01,  1.0805e+00,  3.1451e-01,  ..., -5.4734e-02,\n",
            "            1.1306e+00, -6.1259e-01],\n",
            "          [-3.1683e-01,  1.3658e+00, -4.7632e-01,  ...,  1.9868e+00,\n",
            "            1.5907e-01,  1.8271e-01],\n",
            "          [-3.0267e-01, -6.4587e-01, -1.2035e+00,  ..., -1.6065e-01,\n",
            "            2.0273e-01,  9.1682e-01]],\n",
            "\n",
            "         [[ 5.0035e-01, -2.1935e-01,  2.4302e+00,  ..., -3.4101e-01,\n",
            "            7.2879e-01,  2.4376e+00],\n",
            "          [ 8.3022e-01, -1.2357e-01,  7.9020e-01,  ..., -8.1826e-01,\n",
            "            1.3299e+00,  7.7640e-01],\n",
            "          [-6.8036e-01, -1.6964e-02, -1.9595e+00,  ..., -9.8242e-03,\n",
            "            7.2138e-01,  1.3080e+00],\n",
            "          ...,\n",
            "          [-5.0996e-01, -9.7381e-01, -8.4200e-01,  ...,  4.0277e-01,\n",
            "           -4.5462e-01, -3.8839e-02],\n",
            "          [-1.0902e+00, -4.6753e-01, -9.4005e-02,  ..., -2.0831e-01,\n",
            "            1.3049e+00, -5.5907e-01],\n",
            "          [ 3.5300e-01, -3.7167e-01,  1.1475e+00,  ...,  1.8907e-01,\n",
            "           -4.4555e-01,  1.4517e+00]],\n",
            "\n",
            "         [[ 5.6635e-01, -9.0189e-01,  1.1347e+00,  ...,  2.0412e+00,\n",
            "           -7.4722e-01, -1.5693e+00],\n",
            "          [-5.2131e-01, -4.0111e-01,  9.0551e-01,  ..., -3.1277e-01,\n",
            "            6.7844e-01, -2.8999e-01],\n",
            "          [-8.0507e-01, -1.6745e+00,  2.6976e-01,  ..., -2.5123e-01,\n",
            "           -1.1413e+00,  1.0725e-01],\n",
            "          ...,\n",
            "          [-2.8006e+00, -9.0743e-01,  3.4369e-02,  ...,  1.7431e+00,\n",
            "           -4.0890e-01, -1.8955e-01],\n",
            "          [-7.1149e-02,  1.0960e+00, -4.6240e-01,  ..., -5.2690e-01,\n",
            "            6.5158e-01,  1.4619e+00],\n",
            "          [ 9.7307e-01, -1.5835e-01,  4.4247e-01,  ...,  6.3212e-01,\n",
            "            3.5287e-02, -1.3856e+00]]],\n",
            "\n",
            "\n",
            "        [[[ 6.0515e-01,  1.5746e+00,  2.3051e-01,  ...,  1.2719e-01,\n",
            "           -1.2737e+00,  1.9863e+00],\n",
            "          [ 5.3636e-01,  1.1589e-01,  7.8187e-01,  ..., -7.0258e-01,\n",
            "           -1.6832e+00,  8.0464e-02],\n",
            "          [-1.1721e+00, -1.5747e+00,  6.8162e-01,  ..., -3.9368e-01,\n",
            "           -5.1036e-01, -6.6186e-01],\n",
            "          ...,\n",
            "          [-1.0325e+00, -8.3309e-01, -2.4283e-01,  ...,  8.0549e-01,\n",
            "           -1.1627e+00,  7.8755e-01],\n",
            "          [ 9.3272e-01,  7.8476e-01, -3.5997e-01,  ...,  2.6659e-01,\n",
            "           -1.4499e-01,  7.5279e-01],\n",
            "          [ 3.0180e-01, -4.5637e-01, -9.9630e-01,  ...,  7.3568e-01,\n",
            "            1.4458e-01,  6.1133e-01]],\n",
            "\n",
            "         [[ 1.7665e+00,  3.0983e-01, -1.5356e+00,  ..., -1.9641e+00,\n",
            "            2.2652e-01, -8.5446e-01],\n",
            "          [ 3.9648e-02, -3.9778e-01, -6.4670e-01,  ...,  1.0499e-02,\n",
            "            9.7352e-01, -6.4047e-01],\n",
            "          [ 1.4275e+00,  1.9787e+00,  1.3056e-01,  ..., -1.3074e+00,\n",
            "           -3.5023e-01, -1.4030e+00],\n",
            "          ...,\n",
            "          [-8.5829e-01,  2.1360e-01,  9.2644e-01,  ..., -5.3806e-01,\n",
            "            5.7063e-01, -3.8204e-01],\n",
            "          [ 2.6696e+00,  1.7539e+00, -1.9146e-01,  ..., -5.7757e-01,\n",
            "           -8.5997e-02, -2.1336e+00],\n",
            "          [-1.8522e-01, -1.9039e+00, -3.2658e-01,  ...,  8.8253e-01,\n",
            "           -1.3272e+00,  1.0269e+00]],\n",
            "\n",
            "         [[ 2.8244e-01, -1.0151e+00,  4.5175e-01,  ..., -8.2546e-01,\n",
            "            1.0688e+00,  7.9698e-01],\n",
            "          [ 1.4156e+00, -2.2389e-01,  4.7344e-01,  ...,  2.8575e-01,\n",
            "            6.3185e-01,  1.3749e+00],\n",
            "          [ 4.9081e-01,  2.4281e-01, -3.2271e-01,  ...,  9.7809e-01,\n",
            "            3.1510e-01, -1.5739e+00],\n",
            "          ...,\n",
            "          [-2.2410e-01, -8.2818e-01, -1.2696e+00,  ..., -1.1938e+00,\n",
            "           -5.2671e-01,  1.6488e-01],\n",
            "          [-8.7282e-01,  1.1355e+00,  4.1232e-01,  ...,  5.3467e-01,\n",
            "            7.4376e-01,  7.9949e-01],\n",
            "          [ 5.1700e-02, -6.6229e-01,  1.3375e+00,  ...,  1.2212e+00,\n",
            "           -3.1573e-01,  5.3384e-01]],\n",
            "\n",
            "         ...,\n",
            "\n",
            "         [[-1.0022e-01, -9.9775e-01,  4.1560e-02,  ...,  2.9359e-01,\n",
            "           -1.6266e-01, -1.4163e+00],\n",
            "          [ 4.6201e-01, -2.2628e+00,  2.1500e-02,  ..., -1.1419e-01,\n",
            "            8.6488e-01,  1.0769e-01],\n",
            "          [-2.1595e-01,  1.5100e+00,  1.1600e+00,  ..., -1.9450e+00,\n",
            "            7.3164e-01, -9.5163e-01],\n",
            "          ...,\n",
            "          [-1.3877e+00,  1.5762e+00,  4.0500e-01,  ..., -1.1114e+00,\n",
            "           -2.8466e+00,  2.0613e-01],\n",
            "          [ 7.7671e-01, -6.7910e-01, -3.6007e-01,  ..., -7.4281e-01,\n",
            "            1.7434e-02,  9.3266e-03],\n",
            "          [ 1.5271e+00, -5.3113e-01,  2.7906e-01,  ...,  9.0180e-01,\n",
            "           -1.5121e+00,  1.5864e+00]],\n",
            "\n",
            "         [[ 1.8467e+00,  1.6411e+00, -5.8489e-01,  ..., -3.3123e-01,\n",
            "           -8.7239e-01, -4.3429e-02],\n",
            "          [-6.9010e-01, -8.2448e-01, -1.9919e+00,  ..., -1.0196e-01,\n",
            "            6.7973e-03,  4.7452e-02],\n",
            "          [ 2.2447e+00,  1.1595e+00,  2.2535e+00,  ..., -1.7541e+00,\n",
            "           -6.7742e-01, -5.3018e-01],\n",
            "          ...,\n",
            "          [ 6.5292e-01,  1.1438e+00, -1.9136e+00,  ...,  1.6857e-01,\n",
            "            4.4119e-01, -7.1841e-01],\n",
            "          [-1.4031e+00, -3.4154e-01, -1.0632e+00,  ..., -7.9360e-01,\n",
            "            3.0712e-01,  2.0579e+00],\n",
            "          [-3.4201e-01, -3.6069e-01, -1.6827e-01,  ...,  2.1816e+00,\n",
            "           -1.8604e-01,  6.0756e-01]],\n",
            "\n",
            "         [[ 9.5766e-01, -3.3771e-01, -4.8140e-02,  ..., -9.6435e-01,\n",
            "           -1.4165e+00,  6.2868e-01],\n",
            "          [-1.8960e-01, -1.0814e+00,  3.8366e-01,  ..., -1.0789e+00,\n",
            "           -5.5954e-02,  1.6486e+00],\n",
            "          [-1.4073e+00,  3.2508e-01, -2.3517e+00,  ..., -1.6500e+00,\n",
            "            2.7418e-02,  9.8762e-01],\n",
            "          ...,\n",
            "          [ 7.4993e-01, -7.6199e-01, -2.0038e+00,  ...,  1.1783e-01,\n",
            "            4.4233e-01, -2.4243e+00],\n",
            "          [-4.1066e-01,  1.2491e+00,  3.2340e-01,  ...,  1.0584e-01,\n",
            "            1.1632e+00,  7.3244e-01],\n",
            "          [ 2.9960e-01,  1.0699e+00,  4.1451e-01,  ...,  1.5173e-02,\n",
            "           -1.0629e+00,  5.4900e-01]]],\n",
            "\n",
            "\n",
            "        ...,\n",
            "\n",
            "\n",
            "        [[[-6.6249e-01,  8.3006e-01,  4.9567e-01,  ...,  2.2933e+00,\n",
            "           -1.0820e+00, -1.1075e-01],\n",
            "          [-6.3846e-01, -5.8667e-01,  2.4411e-01,  ..., -1.0853e+00,\n",
            "           -1.0026e+00, -1.5500e+00],\n",
            "          [-3.4659e-01, -7.8028e-01,  5.5030e-01,  ...,  2.1557e-01,\n",
            "            4.7345e-01,  1.1734e+00],\n",
            "          ...,\n",
            "          [-1.8432e+00,  5.4188e-01, -1.3874e+00,  ...,  1.4995e+00,\n",
            "            1.0108e+00,  1.0650e+00],\n",
            "          [ 1.9272e+00, -1.5635e+00, -2.8171e-01,  ...,  3.1420e-01,\n",
            "           -1.0704e+00,  3.9946e-01],\n",
            "          [ 1.4456e+00,  9.7750e-02,  1.1972e+00,  ...,  9.8882e-01,\n",
            "           -1.5127e+00,  1.6326e+00]],\n",
            "\n",
            "         [[ 3.0968e-01,  1.4043e+00,  1.9788e-01,  ...,  3.9066e-01,\n",
            "            5.9361e-01,  1.2130e+00],\n",
            "          [-8.0576e-01,  3.8686e-01, -2.1686e+00,  ...,  1.0008e+00,\n",
            "           -1.1908e+00, -1.1076e+00],\n",
            "          [ 8.8064e-01, -1.2576e+00,  7.5290e-01,  ..., -3.1901e-01,\n",
            "            1.0011e+00, -1.1981e+00],\n",
            "          ...,\n",
            "          [ 5.8211e-01, -9.3268e-01, -7.7036e-01,  ...,  3.7392e-01,\n",
            "           -2.0311e-01,  2.2081e-01],\n",
            "          [ 2.1109e-01, -6.9920e-01,  2.1072e-01,  ...,  9.3371e-01,\n",
            "           -1.5557e-01,  6.4598e-01],\n",
            "          [-3.2219e-01, -6.7708e-01,  8.2871e-02,  ...,  3.5394e-01,\n",
            "           -7.8003e-01, -3.4759e-01]],\n",
            "\n",
            "         [[ 7.1957e-01, -1.3017e-01,  1.1133e+00,  ...,  1.3182e+00,\n",
            "           -1.1853e+00,  5.7639e-02],\n",
            "          [ 1.8619e+00,  9.1960e-01, -3.2328e-01,  ...,  2.4331e-01,\n",
            "           -5.1321e-01,  1.2275e+00],\n",
            "          [ 1.5998e+00, -9.8786e-01,  1.5508e+00,  ..., -8.6348e-01,\n",
            "            8.5996e-01, -4.4836e-01],\n",
            "          ...,\n",
            "          [ 1.0774e+00,  4.5015e-01,  1.7004e+00,  ...,  1.3062e+00,\n",
            "            1.1309e+00,  2.1933e-01],\n",
            "          [-1.1953e+00, -1.8564e-01,  1.9674e+00,  ..., -9.9763e-01,\n",
            "           -1.0755e+00, -1.1109e-01],\n",
            "          [-1.0371e-01, -2.5242e+00, -1.3572e+00,  ..., -5.6388e-01,\n",
            "           -1.6826e+00,  7.9947e-01]],\n",
            "\n",
            "         ...,\n",
            "\n",
            "         [[-1.3079e+00, -4.7982e-01,  4.7338e-01,  ...,  1.2671e+00,\n",
            "            1.0138e+00,  8.2329e-01],\n",
            "          [-4.7241e-02, -7.7252e-02, -1.1264e-01,  ...,  8.3634e-01,\n",
            "            2.5859e-01,  2.8271e-01],\n",
            "          [-4.3657e-01,  1.8898e+00,  1.6848e+00,  ...,  1.3621e+00,\n",
            "           -1.5587e-01,  5.2867e-01],\n",
            "          ...,\n",
            "          [ 1.4114e+00, -2.5934e+00,  1.0542e-01,  ...,  7.0607e-01,\n",
            "            6.0819e-01, -6.2624e-01],\n",
            "          [-2.1681e-01,  8.5946e-01,  6.4842e-03,  ..., -3.4268e-01,\n",
            "            4.4457e-01,  5.3159e-01],\n",
            "          [ 4.4883e-01,  1.0322e+00,  1.2088e-01,  ..., -1.2930e-01,\n",
            "           -5.7127e-01,  2.7950e-01]],\n",
            "\n",
            "         [[-8.5895e-01,  1.0871e+00,  2.3717e+00,  ...,  1.8514e+00,\n",
            "           -1.6801e-01, -1.4506e-01],\n",
            "          [-6.8029e-01, -1.6939e+00,  7.8302e-01,  ...,  3.6665e-01,\n",
            "           -5.1790e-01, -8.0301e-01],\n",
            "          [ 8.4165e-01, -9.5449e-02,  2.2003e-01,  ...,  5.1846e-01,\n",
            "           -2.4651e-01,  1.8973e+00],\n",
            "          ...,\n",
            "          [-1.1940e+00,  1.6547e+00, -4.4338e-01,  ...,  2.2385e-01,\n",
            "           -8.2688e-01,  4.0949e-01],\n",
            "          [-1.5336e+00,  1.3940e+00,  9.5018e-01,  ...,  8.4181e-01,\n",
            "            9.0844e-01, -9.7129e-01],\n",
            "          [-3.4269e-01,  1.2445e-01,  1.1599e+00,  ...,  1.4998e+00,\n",
            "           -5.0168e-01, -1.3081e-01]],\n",
            "\n",
            "         [[ 1.6208e+00,  7.3224e-01,  3.5828e-01,  ...,  1.7935e-01,\n",
            "            5.6108e-01,  1.3562e+00],\n",
            "          [ 3.2123e-01,  3.5092e-01,  1.7146e+00,  ..., -1.1204e+00,\n",
            "            7.7439e-01, -1.5503e+00],\n",
            "          [ 4.0189e-01, -1.0916e+00, -6.4483e-02,  ..., -9.3658e-01,\n",
            "            1.1922e+00, -7.0246e-01],\n",
            "          ...,\n",
            "          [ 4.3909e-01, -5.3371e-01, -3.4189e-01,  ...,  1.0279e+00,\n",
            "            4.1337e-01, -1.3474e+00],\n",
            "          [ 7.7249e-01,  1.1954e-02, -1.4516e+00,  ...,  1.8447e+00,\n",
            "            1.0576e+00,  3.1698e-01],\n",
            "          [ 1.0742e+00,  2.6045e-01,  4.4611e-01,  ...,  1.2321e+00,\n",
            "           -1.0913e+00, -1.9426e-01]]],\n",
            "\n",
            "\n",
            "        [[[-2.4553e-01, -3.4844e-01, -1.0151e-01,  ...,  1.8218e+00,\n",
            "           -4.7886e-01, -7.4292e-01],\n",
            "          [-1.6470e-01, -3.8598e-01,  1.0774e+00,  ..., -7.0094e-01,\n",
            "            7.9302e-01, -7.8207e-01],\n",
            "          [-6.0381e-01,  2.0642e-01, -1.0513e+00,  ..., -5.1262e-02,\n",
            "            1.8519e-02,  3.6671e-01],\n",
            "          ...,\n",
            "          [-5.3159e-01, -1.0328e+00,  3.7378e-01,  ..., -7.4155e-02,\n",
            "            8.9525e-01, -7.1627e-01],\n",
            "          [-1.2039e+00, -4.4132e-01,  3.3073e-01,  ..., -6.5424e-01,\n",
            "            2.7426e-01, -5.2308e-01],\n",
            "          [ 1.1103e+00,  2.4052e-01,  1.2763e-01,  ...,  1.8886e+00,\n",
            "            3.5781e-01, -1.2524e+00]],\n",
            "\n",
            "         [[ 1.5118e+00, -1.8434e-01, -1.2482e+00,  ...,  1.0423e+00,\n",
            "            1.9659e+00, -4.4617e-01],\n",
            "          [-2.2681e+00, -1.9113e-01,  2.3349e+00,  ...,  7.8575e-02,\n",
            "            7.8405e-01, -1.1656e-01],\n",
            "          [-8.9622e-02,  1.0117e+00, -1.1027e+00,  ..., -4.2821e-01,\n",
            "            8.0339e-01, -3.9521e-01],\n",
            "          ...,\n",
            "          [ 1.0024e+00, -6.3823e-01, -1.2632e-01,  ...,  1.0493e-01,\n",
            "            9.4263e-01,  1.2305e+00],\n",
            "          [-8.5159e-01,  1.0469e+00, -8.1406e-01,  ..., -1.3039e-01,\n",
            "           -5.7185e-01, -8.3362e-02],\n",
            "          [ 5.0447e-01, -9.9284e-01, -2.3609e-01,  ..., -1.0149e-01,\n",
            "            8.6873e-01, -1.2608e+00]],\n",
            "\n",
            "         [[-1.6223e-01, -6.3969e-01, -3.1896e+00,  ...,  1.1769e+00,\n",
            "           -2.3665e-01, -2.5119e-01],\n",
            "          [-5.2354e-01,  2.3699e-01, -9.2349e-03,  ..., -1.2490e+00,\n",
            "            1.1425e-02, -1.6295e+00],\n",
            "          [-8.2853e-01,  3.7767e-01,  1.6784e+00,  ..., -1.9835e+00,\n",
            "           -6.1892e-01,  1.1843e+00],\n",
            "          ...,\n",
            "          [ 9.8504e-01, -5.0307e-01, -2.4477e-01,  ...,  1.1757e+00,\n",
            "            3.0972e-01, -1.6365e+00],\n",
            "          [-1.2969e+00,  6.9110e-01, -5.2361e-01,  ...,  3.3136e-01,\n",
            "            4.1760e-01, -8.8161e-01],\n",
            "          [ 9.8519e-01, -2.4238e-01,  1.3401e-01,  ..., -3.9666e-01,\n",
            "           -1.6288e+00,  5.0953e-01]],\n",
            "\n",
            "         ...,\n",
            "\n",
            "         [[ 1.2629e+00, -8.6333e-01, -9.2322e-01,  ...,  7.9042e-01,\n",
            "            3.4181e-01,  8.7634e-02],\n",
            "          [ 1.2306e+00, -2.6701e-01, -1.2086e+00,  ..., -7.9644e-01,\n",
            "           -2.0774e-01, -1.8053e-01],\n",
            "          [ 6.2459e-01,  1.0591e-01,  1.0802e-01,  ..., -3.8252e-01,\n",
            "            3.9357e-01, -3.4538e-01],\n",
            "          ...,\n",
            "          [ 1.2004e-01, -3.5270e-02, -4.9411e-01,  ...,  1.1741e+00,\n",
            "            5.5892e-01,  1.7669e+00],\n",
            "          [-4.4617e-01, -1.2753e-01, -4.8231e-01,  ...,  6.4372e-01,\n",
            "            4.5345e-01, -1.0627e+00],\n",
            "          [ 1.7074e+00, -8.8714e-01,  6.4851e-01,  ...,  4.4741e-02,\n",
            "            1.5790e+00,  2.8174e-03]],\n",
            "\n",
            "         [[ 2.7596e-01, -1.7245e-01,  2.5109e+00,  ..., -1.4687e+00,\n",
            "           -8.5011e-02,  5.9396e-01],\n",
            "          [ 5.2555e-01,  5.7401e-01,  1.7624e-01,  ...,  1.6368e-01,\n",
            "            4.6600e-01,  2.0451e-01],\n",
            "          [-6.5421e-01, -6.1202e-01,  8.5287e-01,  ...,  1.2801e+00,\n",
            "            3.6804e-01,  3.2460e-01],\n",
            "          ...,\n",
            "          [-1.5821e-01, -2.2827e-01, -3.7782e-01,  ..., -3.2237e-01,\n",
            "            8.7423e-01,  6.0343e-01],\n",
            "          [ 5.1221e-02,  1.0093e+00, -1.6300e-01,  ...,  8.1753e-02,\n",
            "            4.3005e-01, -1.6300e+00],\n",
            "          [-4.1626e-01,  4.3380e-01,  1.7851e-01,  ...,  2.7807e+00,\n",
            "           -3.8822e-01,  1.1113e+00]],\n",
            "\n",
            "         [[ 5.7471e-01,  2.8327e-03, -6.4436e-02,  ...,  3.9944e-01,\n",
            "           -5.3032e-01,  1.6519e+00],\n",
            "          [-5.0330e-01,  1.1081e+00,  1.8642e-01,  ..., -1.4757e+00,\n",
            "            1.9130e+00, -4.9976e-01],\n",
            "          [ 1.9937e-02, -3.3021e-02, -1.0543e-01,  ..., -1.9431e+00,\n",
            "            1.8973e+00,  1.3654e+00],\n",
            "          ...,\n",
            "          [-9.8531e-01, -2.7021e+00, -9.7256e-01,  ...,  4.5532e-01,\n",
            "            1.6278e+00,  3.2768e-01],\n",
            "          [-1.4571e+00,  1.3768e+00,  1.8679e+00,  ..., -1.0447e+00,\n",
            "            1.0429e+00,  4.3723e-02],\n",
            "          [ 1.5632e+00,  3.3643e-01,  4.7382e-02,  ..., -4.1578e-01,\n",
            "           -9.7192e-01, -1.1856e+00]]],\n",
            "\n",
            "\n",
            "        [[[ 2.0428e+00, -1.1986e+00, -1.3850e+00,  ..., -1.3872e+00,\n",
            "            4.2598e-01, -9.0408e-01],\n",
            "          [-2.3390e+00, -7.6408e-01,  1.8499e+00,  ..., -5.8414e-02,\n",
            "           -5.4326e-01,  1.0398e+00],\n",
            "          [-2.7117e-01, -1.5250e-01, -3.6240e-01,  ..., -1.8192e+00,\n",
            "            1.1940e-01,  8.5053e-01],\n",
            "          ...,\n",
            "          [ 1.6386e+00,  8.9526e-01, -7.4885e-01,  ...,  8.5629e-02,\n",
            "           -3.9029e-01,  1.2810e+00],\n",
            "          [-1.8369e+00, -1.1053e+00,  2.9490e-01,  ...,  8.0616e-01,\n",
            "           -1.2729e+00, -6.9687e-01],\n",
            "          [ 8.4884e-01,  3.5606e-01,  1.1710e+00,  ...,  2.2572e+00,\n",
            "            8.6701e-01, -3.3024e-01]],\n",
            "\n",
            "         [[-4.8814e-01,  5.2035e-01, -1.4335e+00,  ...,  1.9369e+00,\n",
            "           -4.4894e-01, -1.5775e+00],\n",
            "          [-7.4743e-02, -1.5662e+00,  1.1134e+00,  ...,  1.1934e+00,\n",
            "           -9.5839e-01,  1.0916e+00],\n",
            "          [ 6.2312e-01, -8.0792e-01, -1.4572e+00,  ..., -9.1224e-01,\n",
            "           -1.4136e-01, -1.8307e+00],\n",
            "          ...,\n",
            "          [ 2.3043e+00, -2.4498e-01,  3.4533e-01,  ...,  8.3320e-01,\n",
            "            6.8403e-01,  2.3716e-01],\n",
            "          [ 2.2616e+00,  2.9162e-01, -9.2622e-01,  ...,  3.3316e-01,\n",
            "           -3.4444e-03,  5.7154e-01],\n",
            "          [ 1.0014e+00, -7.9403e-02,  8.1432e-01,  ...,  1.2983e+00,\n",
            "            1.0184e+00,  5.9482e-01]],\n",
            "\n",
            "         [[-5.3084e-01, -5.0636e-02, -1.1299e+00,  ..., -5.3791e-01,\n",
            "           -1.1246e+00,  4.7560e-02],\n",
            "          [-2.9165e+00,  3.0666e-01,  9.5938e-01,  ..., -5.6412e-01,\n",
            "           -1.3228e+00,  1.5159e+00],\n",
            "          [ 8.0111e-01,  6.1158e-01,  7.2414e-01,  ...,  1.1478e+00,\n",
            "           -3.7120e-02, -3.5269e-01],\n",
            "          ...,\n",
            "          [-5.7147e-01, -2.8308e-01, -8.4805e-01,  ..., -2.3493e-01,\n",
            "           -6.0414e-01,  9.2135e-01],\n",
            "          [-6.0663e-01, -1.0366e+00, -6.8000e-01,  ...,  6.8560e-01,\n",
            "           -7.5326e-01, -7.6149e-01],\n",
            "          [-6.0422e-01,  1.6362e+00, -2.0764e-01,  ...,  7.1855e-01,\n",
            "            8.7690e-01,  1.0903e+00]],\n",
            "\n",
            "         ...,\n",
            "\n",
            "         [[-4.0119e+00,  1.8287e-01,  1.4313e+00,  ..., -6.4581e-01,\n",
            "            3.5005e-01,  5.8137e-02],\n",
            "          [-5.1689e-01, -1.1662e+00,  7.8317e-01,  ...,  9.2212e-01,\n",
            "            8.6873e-01,  3.5221e-02],\n",
            "          [-3.0457e-01, -1.4357e+00,  4.9099e-02,  ..., -9.8430e-01,\n",
            "            2.4786e-01,  3.1953e-01],\n",
            "          ...,\n",
            "          [-5.7764e-01,  2.2691e-01, -6.5802e-01,  ...,  1.1907e+00,\n",
            "            7.9677e-01,  2.6205e-01],\n",
            "          [ 1.8164e+00,  4.9058e-01, -4.6757e-01,  ..., -5.5090e-01,\n",
            "            3.4668e-01, -6.0314e-01],\n",
            "          [-8.3430e-02,  5.4311e-01, -2.8310e-01,  ..., -1.8020e-01,\n",
            "            9.0370e-01, -1.1571e-01]],\n",
            "\n",
            "         [[-4.3066e-01,  1.6190e-01, -1.2604e+00,  ..., -7.8173e-01,\n",
            "           -8.7077e-01,  5.7799e-01],\n",
            "          [ 1.0189e+00, -5.7785e-03,  9.5024e-01,  ..., -2.0828e-01,\n",
            "            1.1114e+00, -1.4582e-01],\n",
            "          [-5.4366e-01,  1.6236e+00, -3.4762e+00,  ..., -8.6520e-01,\n",
            "            8.7161e-01,  4.5648e-01],\n",
            "          ...,\n",
            "          [ 1.0099e+00,  1.6227e+00, -9.9968e-03,  ..., -1.5175e+00,\n",
            "            1.9898e-01,  1.1812e+00],\n",
            "          [ 3.7551e-01, -3.6625e-01, -9.3004e-01,  ..., -1.6681e+00,\n",
            "            1.0052e+00, -6.0048e-02],\n",
            "          [ 1.0808e+00, -1.0873e+00,  1.3687e+00,  ...,  5.2858e-01,\n",
            "           -3.2191e-01,  1.5305e+00]],\n",
            "\n",
            "         [[ 3.5021e-01,  2.1137e+00,  2.7197e-01,  ..., -3.7082e-01,\n",
            "            9.1079e-01,  9.8660e-01],\n",
            "          [ 6.9629e-01, -4.6949e-02,  4.9238e-01,  ..., -1.3001e+00,\n",
            "            1.0721e+00, -1.5187e+00],\n",
            "          [-8.4182e-02, -2.5481e+00, -1.0595e+00,  ...,  3.6670e-01,\n",
            "           -1.2368e+00,  1.5774e-01],\n",
            "          ...,\n",
            "          [-5.5367e-01,  1.3129e-01, -1.0800e+00,  ...,  2.6721e-01,\n",
            "            1.9067e-01, -5.6894e-01],\n",
            "          [-1.5944e+00,  5.9042e-01, -6.9776e-01,  ...,  1.1006e+00,\n",
            "           -1.1774e+00, -1.8077e+00],\n",
            "          [-4.3099e-01,  1.1951e+00, -8.9737e-01,  ..., -3.8692e-01,\n",
            "            3.4315e-01, -1.2584e+00]]]])\n"
          ]
        }
      ]
    },
    {
      "cell_type": "code",
      "source": [
        "print(output)"
      ],
      "metadata": {
        "colab": {
          "base_uri": "https://localhost:8080/"
        },
        "id": "x5hKfTuqjzMH",
        "outputId": "925f7515-7b73-4532-d7bf-c8fbfd2ee07e"
      },
      "execution_count": 98,
      "outputs": [
        {
          "output_type": "stream",
          "name": "stdout",
          "text": [
            "tensor([[[[-1.6649e-01, -6.6145e-02, -1.7634e-01,  ..., -4.3296e-01,\n",
            "            6.6629e-02,  4.8870e-01],\n",
            "          [ 8.8579e-01, -5.6675e-01,  3.2931e-01,  ...,  3.6401e-01,\n",
            "           -1.6509e-01,  2.1530e-01],\n",
            "          [-1.9703e-01, -2.5429e-01, -1.0370e-01,  ..., -2.6796e-01,\n",
            "           -4.2169e-01,  5.1241e-01],\n",
            "          ...,\n",
            "          [-7.3157e-01, -7.3845e-01, -8.7178e-01,  ...,  2.7668e-03,\n",
            "           -1.1870e+00,  1.9311e-01],\n",
            "          [-7.9481e-01,  1.7793e-01, -6.9413e-01,  ..., -1.1027e-01,\n",
            "            7.6722e-01,  6.7360e-02],\n",
            "          [ 2.4827e-01,  1.6229e-01,  3.6774e-01,  ..., -5.0038e-01,\n",
            "           -1.3534e-01,  6.2163e-01]],\n",
            "\n",
            "         [[ 1.4093e-01, -3.4099e-02,  2.5146e-01,  ..., -4.1909e-01,\n",
            "           -1.2858e-01, -1.8056e-01],\n",
            "          [-1.1962e-01,  1.8907e-01, -5.3579e-01,  ..., -2.2538e-01,\n",
            "            4.4342e-01,  7.7296e-01],\n",
            "          [ 5.0663e-01,  2.5251e-01,  7.7551e-01,  ..., -5.7427e-01,\n",
            "            9.5021e-01, -2.2268e-01],\n",
            "          ...,\n",
            "          [ 1.3931e-01,  9.2895e-01, -5.0636e-02,  ...,  6.6459e-01,\n",
            "            2.8352e-01, -2.0317e-01],\n",
            "          [ 5.5935e-01, -1.8781e-01, -1.3141e-01,  ..., -1.9141e-01,\n",
            "           -8.1934e-01,  4.8721e-01],\n",
            "          [ 1.2022e-01,  2.8728e-01, -4.8784e-01,  ..., -4.2014e-01,\n",
            "            1.5486e-01,  3.0486e-02]],\n",
            "\n",
            "         [[-1.4726e-01, -5.7252e-01, -2.6889e-01,  ...,  5.9371e-01,\n",
            "           -3.5071e-03, -2.1460e-01],\n",
            "          [ 5.1597e-01,  4.6952e-01,  3.5041e-01,  ..., -5.9277e-01,\n",
            "            1.8336e+00, -3.4326e-01],\n",
            "          [-2.1963e-01,  8.5306e-01,  1.9421e-01,  ..., -3.9424e-01,\n",
            "            5.1792e-02, -4.8164e-01],\n",
            "          ...,\n",
            "          [ 2.6310e-01, -9.1801e-01,  6.7777e-01,  ...,  1.1321e-01,\n",
            "           -6.4101e-01, -4.9756e-01],\n",
            "          [-8.5476e-02, -2.0292e-01, -1.0412e+00,  ...,  3.5065e-01,\n",
            "            1.1640e-01, -6.1983e-01],\n",
            "          [ 6.6327e-01, -3.1851e-01, -1.7970e-01,  ..., -6.6861e-01,\n",
            "            1.0210e-01,  1.6828e-01]],\n",
            "\n",
            "         ...,\n",
            "\n",
            "         [[-3.6508e-01,  4.3689e-01, -8.2506e-01,  ..., -3.6330e-02,\n",
            "            4.5195e-02,  2.0490e-01],\n",
            "          [-1.3461e-01, -9.3743e-02,  3.1505e-02,  ...,  5.5557e-01,\n",
            "            3.8998e-02, -9.8183e-02],\n",
            "          [ 8.9139e-01, -8.1511e-01,  1.3042e-01,  ..., -6.8825e-01,\n",
            "            5.5918e-01, -6.8746e-01],\n",
            "          ...,\n",
            "          [-7.6709e-01,  6.8571e-02, -3.7133e-01,  ..., -1.8461e-01,\n",
            "           -7.0695e-01, -2.8716e-01],\n",
            "          [-1.4523e-01,  8.6224e-02,  2.6712e-01,  ...,  8.1736e-01,\n",
            "            3.9546e-01,  3.8915e-01],\n",
            "          [-1.0097e-01,  8.8141e-01,  1.0560e-01,  ..., -9.3796e-02,\n",
            "            2.3648e-01,  2.2078e-01]],\n",
            "\n",
            "         [[-5.4393e-01, -3.5147e-01, -1.6153e-01,  ...,  3.9773e-01,\n",
            "           -2.3031e-01,  4.4236e-01],\n",
            "          [-2.8579e-01,  6.3344e-01, -2.1375e-01,  ...,  1.8784e-01,\n",
            "            6.0798e-01, -2.0578e-01],\n",
            "          [-8.3355e-01,  4.1500e-01, -3.9507e-01,  ...,  4.0076e-01,\n",
            "            5.6321e-01,  5.7927e-01],\n",
            "          ...,\n",
            "          [ 9.0282e-01,  3.3969e-03,  4.0580e-01,  ...,  7.7378e-01,\n",
            "            1.0922e+00,  6.3348e-01],\n",
            "          [-1.1798e-01, -3.1255e-02,  2.4229e-01,  ..., -5.6971e-02,\n",
            "           -6.0792e-01,  6.2898e-01],\n",
            "          [-3.6619e-01,  8.6377e-01,  3.3105e-01,  ..., -3.8889e-01,\n",
            "            5.8910e-01,  6.7423e-02]],\n",
            "\n",
            "         [[ 4.7762e-01,  1.6076e-01, -2.0837e-01,  ...,  1.2498e-01,\n",
            "           -2.6774e-01,  1.5737e-02],\n",
            "          [ 1.6543e-01, -1.0983e-02, -4.6760e-02,  ..., -3.2622e-01,\n",
            "            2.2438e-01,  2.3123e-02],\n",
            "          [-2.7890e-01,  1.2223e+00, -1.5907e-01,  ...,  7.2349e-01,\n",
            "            9.3930e-01, -3.9535e-01],\n",
            "          ...,\n",
            "          [-1.0146e-01, -2.4447e-01, -6.8239e-02,  ..., -3.4895e-02,\n",
            "            2.8534e-01, -1.3199e-01],\n",
            "          [ 7.5923e-02,  1.9110e-01, -4.7421e-01,  ...,  1.0461e-01,\n",
            "            1.5006e-01, -3.8457e-01],\n",
            "          [ 6.6290e-01,  9.8354e-01, -2.7030e-01,  ..., -5.1193e-01,\n",
            "            5.0892e-01, -3.3021e-01]]],\n",
            "\n",
            "\n",
            "        [[[-3.8801e-01, -5.4695e-01, -2.4469e-01,  ..., -1.1612e-01,\n",
            "            3.9172e-01,  6.1435e-01],\n",
            "          [-3.0253e-01,  5.5527e-01,  5.2052e-01,  ...,  8.4381e-02,\n",
            "           -2.4748e-01,  6.4949e-01],\n",
            "          [-4.5468e-01,  3.4761e-01,  4.7408e-01,  ..., -2.4476e-01,\n",
            "            4.5317e-01,  3.4641e-01],\n",
            "          ...,\n",
            "          [-1.6260e-01, -6.8394e-01,  2.4655e-01,  ...,  1.0388e+00,\n",
            "           -1.5999e-01,  4.2442e-01],\n",
            "          [ 9.6537e-02,  2.0812e-03, -1.0355e-01,  ..., -2.6172e-01,\n",
            "           -5.2731e-01,  4.2730e-01],\n",
            "          [-2.7745e-02,  7.3276e-01, -4.3130e-01,  ...,  2.2335e-01,\n",
            "            5.8306e-01, -5.1526e-03]],\n",
            "\n",
            "         [[-3.8731e-02, -2.0485e-01,  5.9501e-01,  ..., -7.1255e-01,\n",
            "            2.7184e-01, -2.3557e-01],\n",
            "          [-9.0546e-02,  5.9944e-02, -2.6690e-01,  ..., -3.4028e-01,\n",
            "           -1.9285e-01,  5.1259e-01],\n",
            "          [ 9.7197e-02,  3.1820e-01,  7.2169e-01,  ..., -6.9563e-01,\n",
            "           -2.9439e-01, -9.0206e-01],\n",
            "          ...,\n",
            "          [-1.6640e-01, -9.6967e-02,  4.2013e-01,  ..., -2.9339e-01,\n",
            "           -9.2786e-01,  3.2669e-01],\n",
            "          [ 3.5174e-01,  8.7513e-02, -3.8872e-01,  ..., -1.3570e-01,\n",
            "           -2.6868e-01, -1.1877e-01],\n",
            "          [-2.0557e-01,  2.4225e-02, -4.7168e-01,  ...,  1.8311e-01,\n",
            "           -1.8169e-01,  4.7753e-01]],\n",
            "\n",
            "         [[-3.8389e-01, -3.0239e-02,  6.4357e-02,  ..., -3.3358e-03,\n",
            "            2.2844e-01, -3.0474e-01],\n",
            "          [-3.8477e-01,  5.1915e-01, -7.5131e-01,  ..., -6.7200e-01,\n",
            "            4.7807e-01,  2.7351e-01],\n",
            "          [ 3.8382e-01, -6.0696e-01,  1.2972e-01,  ...,  1.2040e-01,\n",
            "           -3.1369e-01, -2.7460e-01],\n",
            "          ...,\n",
            "          [ 2.3578e-01, -6.9513e-01,  1.7913e+00,  ..., -2.6328e-01,\n",
            "           -5.4670e-01, -6.8753e-01],\n",
            "          [-4.0016e-01,  1.1942e-01, -2.3358e-01,  ..., -2.0858e-01,\n",
            "            8.9502e-02, -4.4220e-01],\n",
            "          [ 3.7218e-01, -6.1017e-02,  3.8408e-01,  ..., -2.2448e-01,\n",
            "           -1.1712e-01, -1.7617e-02]],\n",
            "\n",
            "         ...,\n",
            "\n",
            "         [[ 1.2680e-02,  2.9830e-01, -3.8053e-01,  ...,  6.0604e-02,\n",
            "           -5.4199e-01,  3.8456e-02],\n",
            "          [-9.6864e-03, -7.2257e-01,  6.2737e-01,  ..., -6.5832e-01,\n",
            "           -5.4368e-01, -1.4366e-01],\n",
            "          [-1.7468e-01,  1.7305e-01,  1.4176e-01,  ..., -1.1972e-01,\n",
            "            3.0738e-01, -1.2379e-01],\n",
            "          ...,\n",
            "          [-1.2188e+00, -6.6983e-02, -6.8638e-01,  ...,  4.3965e-01,\n",
            "           -8.9578e-02,  2.6662e-01],\n",
            "          [ 2.8445e-01, -6.4145e-01,  9.2870e-02,  ..., -7.1781e-01,\n",
            "           -7.2821e-03, -4.1429e-01],\n",
            "          [-3.7279e-01, -4.1561e-02,  5.4444e-01,  ...,  1.3121e-01,\n",
            "            5.0633e-01, -6.7576e-02]],\n",
            "\n",
            "         [[ 9.2068e-02,  1.3633e-01,  6.5159e-01,  ...,  4.5355e-02,\n",
            "           -1.3436e-01,  1.3531e-01],\n",
            "          [ 1.7625e-01,  6.9814e-01,  8.6804e-02,  ...,  4.6070e-01,\n",
            "            6.3679e-01,  5.2733e-01],\n",
            "          [ 8.1413e-01, -1.2722e-01,  2.3487e-01,  ..., -4.0429e-01,\n",
            "            5.4677e-01,  6.4003e-01],\n",
            "          ...,\n",
            "          [-8.2614e-01, -1.1642e-01, -3.7079e-01,  ..., -8.4173e-01,\n",
            "            4.8208e-01, -6.1328e-01],\n",
            "          [-7.7842e-02,  3.0381e-01,  5.0085e-01,  ..., -3.0541e-01,\n",
            "           -2.4642e-01, -6.4118e-02],\n",
            "          [-2.1704e-01, -5.4540e-02, -8.8299e-01,  ...,  3.2510e-01,\n",
            "           -6.5349e-01, -1.1036e-01]],\n",
            "\n",
            "         [[ 4.0963e-01, -1.7785e-01,  1.2570e-02,  ...,  4.6364e-01,\n",
            "            2.3774e-01,  4.0507e-01],\n",
            "          [ 5.4989e-02,  8.5610e-02, -1.9943e-01,  ..., -4.3746e-01,\n",
            "           -3.6651e-01, -3.8411e-01],\n",
            "          [ 5.8761e-01, -8.2004e-01, -4.5297e-03,  ...,  1.2066e+00,\n",
            "           -4.5670e-01, -2.0196e-01],\n",
            "          ...,\n",
            "          [-1.0176e-01,  2.2618e-01,  3.3873e-01,  ..., -9.3409e-01,\n",
            "           -1.2626e-01,  5.2503e-01],\n",
            "          [-1.2024e-01,  1.5622e-01,  5.8096e-01,  ...,  1.4989e-01,\n",
            "           -6.2682e-01, -1.7992e-01],\n",
            "          [-2.2287e-01, -3.0188e-01,  3.0588e-02,  ...,  5.2353e-01,\n",
            "            1.4100e-02,  6.2223e-02]]],\n",
            "\n",
            "\n",
            "        [[[ 3.6193e-01,  2.8353e-01,  5.3091e-01,  ..., -8.9544e-02,\n",
            "           -2.7459e-02,  1.6508e-02],\n",
            "          [-6.0780e-01, -3.7795e-02,  1.0261e+00,  ..., -1.9279e-01,\n",
            "           -4.8638e-01,  1.9844e-01],\n",
            "          [ 1.1541e+00, -4.3889e-02, -1.5962e-01,  ..., -1.1672e+00,\n",
            "           -4.7900e-01,  9.5109e-01],\n",
            "          ...,\n",
            "          [-3.4248e-01, -7.0425e-01, -1.7882e-02,  ..., -5.8106e-02,\n",
            "            6.0294e-01, -1.7620e-01],\n",
            "          [-1.9665e-01, -3.7089e-01, -2.7006e-01,  ...,  8.4474e-02,\n",
            "           -1.9708e-01,  3.8253e-01],\n",
            "          [-1.0747e+00, -4.0359e-02,  5.6181e-01,  ...,  1.0546e-01,\n",
            "           -7.7199e-01, -7.2887e-01]],\n",
            "\n",
            "         [[-2.6988e-01, -7.1207e-01, -2.2358e-01,  ...,  6.0570e-01,\n",
            "           -1.7615e-01,  3.1796e-01],\n",
            "          [-3.2598e-01, -7.0858e-04, -1.2223e+00,  ...,  3.4829e-01,\n",
            "            1.1949e-01,  1.0600e-01],\n",
            "          [-8.4040e-02, -5.2940e-01,  4.4306e-01,  ..., -8.3404e-01,\n",
            "           -7.8626e-01,  4.9055e-01],\n",
            "          ...,\n",
            "          [ 2.8337e-01,  1.7449e-01, -9.8783e-02,  ...,  8.9015e-01,\n",
            "           -8.0629e-01, -4.0935e-01],\n",
            "          [-1.4196e-01,  8.9382e-03,  4.4447e-02,  ...,  6.8671e-02,\n",
            "           -9.0255e-01,  2.2578e-01],\n",
            "          [ 1.2390e+00,  3.7845e-01,  9.7856e-01,  ...,  1.0484e+00,\n",
            "           -3.4054e-01,  1.0942e-01]],\n",
            "\n",
            "         [[-5.0945e-01, -5.0450e-01, -2.2963e-01,  ..., -4.6861e-01,\n",
            "            7.1915e-01, -1.3256e-01],\n",
            "          [-6.1469e-02, -1.7444e-01,  1.5152e-01,  ..., -1.2222e-01,\n",
            "           -7.0127e-02,  1.6516e-01],\n",
            "          [ 3.4395e-01,  4.5030e-01, -3.6543e-01,  ...,  1.1153e-01,\n",
            "           -5.7134e-01,  2.0665e-01],\n",
            "          ...,\n",
            "          [ 1.9150e-02, -3.2244e-01, -6.8348e-01,  ..., -8.8957e-01,\n",
            "            1.4297e+00, -3.5179e-01],\n",
            "          [-6.0279e-01,  2.3349e-01, -5.0824e-01,  ..., -1.2008e-02,\n",
            "            5.0324e-02, -5.6862e-02],\n",
            "          [-6.5345e-01,  6.2245e-01, -1.2468e-01,  ...,  4.0892e-01,\n",
            "           -6.5952e-01,  1.4391e-01]],\n",
            "\n",
            "         ...,\n",
            "\n",
            "         [[ 2.1038e-01,  1.2374e-01, -2.7857e-02,  ..., -1.6173e-01,\n",
            "           -1.8636e-01,  1.7278e-01],\n",
            "          [-3.8159e-01, -2.0235e-01, -6.7534e-01,  ..., -6.8778e-01,\n",
            "            1.0800e+00,  1.7338e-01],\n",
            "          [-1.7016e-01, -6.4560e-02, -1.3720e-01,  ..., -1.5183e-01,\n",
            "            5.4082e-01,  3.1221e-01],\n",
            "          ...,\n",
            "          [ 8.0847e-01, -1.8626e-01, -2.2654e-01,  ...,  3.5699e-01,\n",
            "            2.3303e-01,  2.5763e-01],\n",
            "          [ 1.6938e-01,  3.8491e-01, -9.9057e-01,  ...,  4.4331e-01,\n",
            "            5.8398e-01, -4.4223e-01],\n",
            "          [-2.9959e-01, -2.8526e-02,  3.8708e-01,  ...,  3.7333e-01,\n",
            "            4.1011e-01, -1.1933e-01]],\n",
            "\n",
            "         [[-3.5988e-01, -4.0608e-03, -5.2976e-01,  ..., -5.9587e-01,\n",
            "            1.1783e-01,  2.4467e-01],\n",
            "          [ 2.7550e-01,  2.2684e-01,  1.3948e+00,  ...,  3.0325e-01,\n",
            "           -3.6538e-01, -1.7390e-01],\n",
            "          [-5.5528e-02,  2.2052e-01, -6.4284e-01,  ..., -1.5333e-02,\n",
            "            8.0114e-02,  6.2741e-01],\n",
            "          ...,\n",
            "          [ 9.5432e-02,  9.2262e-02,  1.6040e-01,  ..., -6.9800e-01,\n",
            "            4.8767e-01,  9.2356e-02],\n",
            "          [-4.1469e-02, -3.3903e-01,  1.2284e-01,  ..., -6.9188e-02,\n",
            "           -3.2231e-02,  9.3866e-01],\n",
            "          [ 2.1150e-01, -1.2502e+00,  1.7530e+00,  ..., -6.6307e-02,\n",
            "           -9.6735e-02, -6.9646e-01]],\n",
            "\n",
            "         [[-1.0261e-01,  3.1124e-01,  1.6577e-01,  ...,  3.1601e-01,\n",
            "            1.1125e-01,  1.9404e-02],\n",
            "          [ 5.1056e-02, -3.5305e-01,  1.4395e-01,  ...,  3.0387e-01,\n",
            "            2.3830e-01,  2.6390e-01],\n",
            "          [ 1.3302e-01, -2.6903e-01, -2.4114e-01,  ...,  6.8142e-01,\n",
            "            4.5423e-01,  3.8871e-01],\n",
            "          ...,\n",
            "          [ 3.4318e-01,  4.0183e-01, -7.8618e-01,  ...,  5.6893e-01,\n",
            "           -3.7063e-01,  1.8299e-01],\n",
            "          [-1.7279e-01, -1.5187e-01, -6.5320e-01,  ..., -8.0079e-01,\n",
            "           -1.9172e-01, -3.5919e-01],\n",
            "          [-5.8285e-01, -6.6259e-04,  2.0214e-01,  ...,  2.3411e-01,\n",
            "            8.1439e-02, -5.7532e-01]]],\n",
            "\n",
            "\n",
            "        ...,\n",
            "\n",
            "\n",
            "        [[[ 1.4100e-01, -1.2861e-01,  2.3138e-01,  ..., -4.8773e-02,\n",
            "            1.3160e-01, -2.5077e-01],\n",
            "          [ 1.6609e-01, -2.2008e-01,  2.0801e-01,  ..., -1.1214e+00,\n",
            "            8.7786e-02, -4.2462e-01],\n",
            "          [ 3.4466e-01,  4.6412e-01, -8.7634e-01,  ..., -8.7560e-01,\n",
            "           -7.4012e-01,  9.0586e-02],\n",
            "          ...,\n",
            "          [ 1.2171e+00,  3.8008e-02,  6.8925e-01,  ..., -4.4243e-01,\n",
            "            1.1039e-01, -4.4101e-01],\n",
            "          [-2.7224e-02,  4.1402e-02,  1.4160e-01,  ...,  2.3798e-01,\n",
            "            9.6390e-02, -7.9532e-02],\n",
            "          [ 6.2575e-01, -4.5700e-02,  2.5551e-01,  ...,  2.1495e-01,\n",
            "           -2.2702e-01, -6.4011e-01]],\n",
            "\n",
            "         [[-2.6214e-01,  2.3161e-01, -2.9059e-02,  ..., -2.2957e-01,\n",
            "           -4.4023e-02,  1.7231e-01],\n",
            "          [-4.9692e-01, -2.2495e-01, -9.5984e-02,  ...,  8.7937e-01,\n",
            "            5.6405e-02,  1.0083e-02],\n",
            "          [ 8.3641e-02, -1.1932e-02, -6.7870e-01,  ...,  4.8154e-02,\n",
            "           -6.4845e-02,  1.6281e-01],\n",
            "          ...,\n",
            "          [ 3.1752e-01, -3.1319e-01, -3.6986e-01,  ...,  5.7425e-01,\n",
            "            2.5081e-01, -1.7928e-02],\n",
            "          [-1.9364e-01,  2.3921e-02,  1.1150e-01,  ..., -1.8160e-01,\n",
            "            1.0660e-02, -3.3163e-01],\n",
            "          [-2.7320e-01,  1.1794e-01,  4.4897e-02,  ...,  4.1630e-01,\n",
            "            5.4484e-02,  3.8409e-01]],\n",
            "\n",
            "         [[-4.0344e-01,  1.2498e-01,  3.7569e-01,  ..., -3.1175e-02,\n",
            "           -2.0941e-01,  7.7021e-02],\n",
            "          [-1.8427e-01,  2.2153e-01, -9.0700e-01,  ..., -3.5316e-01,\n",
            "            6.0715e-01, -9.6091e-03],\n",
            "          [-1.5633e-01, -1.5930e-01, -3.0442e-01,  ...,  1.0161e+00,\n",
            "           -1.9653e-01, -4.7028e-02],\n",
            "          ...,\n",
            "          [-8.8015e-02,  3.9230e-01, -6.5417e-01,  ...,  1.3867e-01,\n",
            "            2.7277e-01, -5.9837e-02],\n",
            "          [ 1.8452e-01,  4.2123e-01,  7.8302e-01,  ..., -6.8218e-01,\n",
            "            1.5719e-01, -2.9917e-01],\n",
            "          [-1.6784e-02, -1.6927e-01, -1.3516e-01,  ...,  8.1521e-01,\n",
            "           -6.2772e-01,  2.2813e-01]],\n",
            "\n",
            "         ...,\n",
            "\n",
            "         [[ 4.4678e-02, -5.0602e-01,  2.2217e-01,  ..., -1.5978e-02,\n",
            "           -1.4190e-01, -4.6494e-01],\n",
            "          [ 3.1671e-01,  7.9657e-02, -6.1832e-01,  ...,  1.4831e-01,\n",
            "           -4.0236e-02,  2.2091e-01],\n",
            "          [ 5.2921e-01, -4.8921e-01,  8.3974e-01,  ...,  1.4308e+00,\n",
            "           -1.3205e-01, -1.8792e-02],\n",
            "          ...,\n",
            "          [-2.3881e-01,  8.0712e-01,  1.2593e+00,  ...,  9.5812e-01,\n",
            "            5.3108e-01, -2.3503e-01],\n",
            "          [-2.1326e-01,  7.7633e-02, -1.3517e-01,  ...,  1.4034e-01,\n",
            "            6.4703e-01,  5.4809e-01],\n",
            "          [ 4.8878e-01, -6.2047e-02,  6.5973e-01,  ...,  1.2103e-01,\n",
            "            9.0169e-01, -7.4714e-01]],\n",
            "\n",
            "         [[-1.1970e-01, -4.8152e-02,  4.0966e-02,  ...,  4.1133e-01,\n",
            "            5.2674e-01, -1.7061e-01],\n",
            "          [-1.6687e-01,  1.7707e-03, -1.0644e-01,  ..., -7.0197e-01,\n",
            "           -4.2408e-01, -2.0020e-01],\n",
            "          [ 9.3002e-02,  1.6718e-01, -3.8357e-01,  ...,  2.1677e-01,\n",
            "           -1.0356e-01,  7.8290e-01],\n",
            "          ...,\n",
            "          [ 3.0832e-01, -3.6625e-01, -1.0118e-01,  ...,  6.2466e-02,\n",
            "           -2.4604e-01, -2.9916e-01],\n",
            "          [-6.2091e-02,  2.7853e-02, -1.7712e-01,  ..., -5.5845e-01,\n",
            "           -3.6829e-01, -4.8074e-02],\n",
            "          [-1.9059e-01,  1.4952e-01,  7.9862e-02,  ...,  4.1920e-01,\n",
            "           -1.0825e+00, -3.8896e-01]],\n",
            "\n",
            "         [[ 2.4670e-01, -5.2667e-03, -5.3788e-02,  ..., -1.9460e-01,\n",
            "            1.7843e-02, -3.9622e-01],\n",
            "          [ 2.0496e-02, -5.3916e-02,  8.2745e-01,  ...,  5.6230e-01,\n",
            "           -4.9003e-01,  3.6513e-02],\n",
            "          [-1.0735e-02, -3.3078e-01,  7.6205e-02,  ..., -1.0602e+00,\n",
            "           -9.0073e-01,  1.3297e-01],\n",
            "          ...,\n",
            "          [ 2.5606e-01,  7.0604e-01,  4.9852e-01,  ...,  1.1553e-01,\n",
            "           -3.5501e-01, -5.8619e-01],\n",
            "          [ 1.0105e-01,  4.9562e-01,  3.6612e-01,  ...,  1.2199e-01,\n",
            "            2.3642e-01,  4.2571e-01],\n",
            "          [ 4.6188e-01, -9.7858e-03,  3.2367e-01,  ...,  3.1126e-01,\n",
            "            3.7868e-01, -1.7379e-01]]],\n",
            "\n",
            "\n",
            "        [[[ 1.7222e-01, -4.6026e-01,  1.0345e-01,  ...,  1.3402e-01,\n",
            "            7.5724e-01,  2.8893e-01],\n",
            "          [-1.2153e-01, -3.7615e-01,  4.0703e-01,  ...,  2.9689e-01,\n",
            "            5.9076e-02, -2.4260e-01],\n",
            "          [ 2.0602e-01,  2.1516e-01, -1.4340e-01,  ...,  8.7154e-01,\n",
            "            3.4098e-01,  5.5299e-01],\n",
            "          ...,\n",
            "          [-3.0268e-01,  1.1533e-01,  8.0636e-01,  ..., -9.6922e-01,\n",
            "           -1.6128e-01, -1.6729e-01],\n",
            "          [ 5.9826e-01, -2.4773e-01, -2.4239e-03,  ...,  1.2438e-01,\n",
            "            3.8006e-02, -3.4079e-01],\n",
            "          [-5.0304e-01, -3.4938e-01, -8.9641e-02,  ...,  2.5848e-01,\n",
            "           -2.6660e-01, -3.6346e-01]],\n",
            "\n",
            "         [[-9.4945e-02,  3.1984e-01,  1.6798e-01,  ..., -1.1259e-01,\n",
            "            6.7264e-01,  6.9533e-03],\n",
            "          [ 4.0734e-01,  8.6121e-01,  4.2060e-01,  ...,  7.4973e-02,\n",
            "           -2.1918e-01, -2.2840e-01],\n",
            "          [-8.3760e-02,  4.5481e-01, -8.8987e-02,  ..., -6.8636e-01,\n",
            "           -6.9453e-01, -2.3519e-01],\n",
            "          ...,\n",
            "          [-3.8293e-01, -1.5622e-01, -7.3897e-01,  ...,  1.5816e-02,\n",
            "            6.0883e-01,  2.5842e-01],\n",
            "          [-4.5784e-01, -1.5360e+00, -4.9949e-02,  ..., -1.3406e-01,\n",
            "            4.1437e-01,  5.3151e-01],\n",
            "          [ 1.6131e-01,  3.8140e-01,  7.1859e-01,  ..., -7.4821e-02,\n",
            "           -2.9422e-01,  1.5334e-01]],\n",
            "\n",
            "         [[ 2.5185e-01,  1.1973e-01,  1.0189e-01,  ...,  7.5815e-01,\n",
            "            2.1616e-01,  6.4021e-02],\n",
            "          [ 2.4052e-02,  1.5570e-01,  1.1089e-01,  ...,  1.0693e-01,\n",
            "            4.4929e-01, -4.5168e-01],\n",
            "          [-8.5965e-01, -3.0696e-01,  4.2682e-01,  ...,  3.2544e-02,\n",
            "           -6.0942e-02,  5.1217e-01],\n",
            "          ...,\n",
            "          [ 2.7653e-01,  5.6637e-01,  3.9209e-01,  ...,  9.4973e-01,\n",
            "           -6.0943e-01, -1.5720e-01],\n",
            "          [-1.9275e-01,  2.2417e-01,  3.3197e-01,  ..., -6.8483e-02,\n",
            "           -3.0858e-01,  8.1854e-02],\n",
            "          [-7.7382e-01,  2.6257e-01, -1.6671e-02,  ..., -1.0006e+00,\n",
            "           -1.2045e-01,  1.8036e-01]],\n",
            "\n",
            "         ...,\n",
            "\n",
            "         [[-2.7833e-02,  3.0716e-02,  2.4311e-02,  ..., -2.5231e-01,\n",
            "           -2.0223e-01,  4.5787e-01],\n",
            "          [ 2.4522e-01,  2.0639e-01,  4.9768e-02,  ..., -7.5568e-01,\n",
            "           -6.3382e-01, -2.2108e-01],\n",
            "          [ 4.8136e-01,  2.8165e-01, -1.7935e-01,  ..., -1.2695e+00,\n",
            "           -1.7403e-01, -2.6715e-02],\n",
            "          ...,\n",
            "          [-1.4237e-01,  8.2404e-01,  4.0882e-01,  ..., -3.0129e-01,\n",
            "           -4.2920e-01,  8.4239e-02],\n",
            "          [ 2.1582e-01,  1.4486e-01, -6.3774e-02,  ...,  3.7226e-03,\n",
            "            4.3554e-01, -6.1422e-02],\n",
            "          [ 4.7431e-01,  6.4198e-01, -1.9974e-01,  ...,  4.4687e-01,\n",
            "           -5.9801e-01, -3.0969e-01]],\n",
            "\n",
            "         [[ 1.6381e-01, -4.7349e-02, -1.0403e-01,  ...,  7.2086e-01,\n",
            "           -1.0990e-01,  3.2963e-01],\n",
            "          [-1.9130e-01, -1.6104e-01, -4.8980e-01,  ...,  5.5196e-01,\n",
            "            6.7184e-01, -2.3865e-02],\n",
            "          [ 1.5145e-01,  1.8033e-01,  2.3293e-01,  ...,  3.1290e-01,\n",
            "            5.1914e-01,  1.2516e+00],\n",
            "          ...,\n",
            "          [-2.8058e-02,  5.1062e-02, -2.3963e-02,  ..., -4.4144e-01,\n",
            "           -2.3802e-01,  2.6437e-01],\n",
            "          [-1.4816e-01,  4.0867e-01, -3.7156e-02,  ..., -3.3119e-01,\n",
            "            7.0385e-01,  1.1474e-01],\n",
            "          [-1.3034e-01, -4.4493e-01,  8.8280e-01,  ...,  1.2547e+00,\n",
            "           -3.4635e-01,  2.3814e-01]],\n",
            "\n",
            "         [[ 1.5555e-01,  2.0226e-01,  1.4265e-01,  ...,  3.7809e-01,\n",
            "            2.0290e-01,  3.1675e-01],\n",
            "          [ 8.1793e-02, -1.3741e-01, -9.0209e-02,  ..., -7.9205e-01,\n",
            "            4.9068e-03, -4.4443e-02],\n",
            "          [ 7.5241e-01,  8.2053e-01, -3.7258e-01,  ..., -1.1122e+00,\n",
            "            1.3652e-01,  5.8903e-01],\n",
            "          ...,\n",
            "          [ 3.2639e-01, -3.3205e-01,  2.3693e-01,  ...,  3.2728e-02,\n",
            "            8.9223e-01, -7.1107e-02],\n",
            "          [ 3.6345e-02, -7.1779e-02,  1.8711e-01,  ...,  1.1020e+00,\n",
            "            8.2453e-01,  6.3442e-01],\n",
            "          [ 2.8457e-01, -1.0621e-01,  2.6314e-01,  ...,  2.4809e-01,\n",
            "           -8.8978e-02,  1.1431e-01]]],\n",
            "\n",
            "\n",
            "        [[[-4.2394e-01, -3.1891e-01, -2.6308e-01,  ..., -1.6369e-01,\n",
            "            1.7420e-01,  2.1924e-01],\n",
            "          [ 6.6923e-01,  5.3951e-01, -2.5963e-01,  ..., -6.8430e-01,\n",
            "           -4.7364e-01, -2.2037e-01],\n",
            "          [-5.8762e-01, -4.5928e-01, -7.9574e-01,  ..., -8.1037e-02,\n",
            "            6.5068e-02,  2.2806e-01],\n",
            "          ...,\n",
            "          [-9.9171e-01,  8.8287e-01, -5.4779e-01,  ..., -7.7975e-01,\n",
            "           -9.7159e-01, -4.2666e-01],\n",
            "          [-7.3464e-01, -6.3936e-01, -6.5830e-01,  ...,  1.4046e+00,\n",
            "           -3.9014e-01,  2.6817e-01],\n",
            "          [ 1.2448e-01,  7.5991e-01, -6.4457e-01,  ..., -4.1244e-01,\n",
            "           -5.6278e-02,  7.9150e-03]],\n",
            "\n",
            "         [[ 3.0127e-01,  1.8483e-01,  3.0663e-01,  ...,  1.3088e-01,\n",
            "           -4.0533e-02, -4.6828e-01],\n",
            "          [ 1.0427e-01,  4.6843e-01, -7.5451e-01,  ...,  1.8125e-01,\n",
            "           -5.7877e-02, -7.5502e-02],\n",
            "          [-3.6413e-01,  3.0157e-01,  6.1074e-01,  ..., -1.0426e-01,\n",
            "           -3.0661e-02,  2.4550e-01],\n",
            "          ...,\n",
            "          [ 7.8480e-02, -3.5198e-01,  4.5541e-01,  ...,  9.0015e-02,\n",
            "            9.1291e-01,  4.6558e-01],\n",
            "          [ 2.3512e-01,  3.4550e-01, -2.0566e-01,  ..., -2.7691e-01,\n",
            "            3.1229e-01,  4.7939e-01],\n",
            "          [ 4.7442e-01, -2.4712e-02, -3.4969e-01,  ..., -8.2545e-02,\n",
            "            4.3548e-01,  6.8225e-02]],\n",
            "\n",
            "         [[-1.4304e-02, -4.9909e-01, -3.7644e-01,  ...,  5.8963e-01,\n",
            "           -2.5096e-02,  1.7251e-01],\n",
            "          [ 5.6834e-01, -3.7621e-01,  3.4631e-01,  ..., -5.1668e-01,\n",
            "            2.4794e-01,  9.9937e-03],\n",
            "          [-1.0584e+00, -2.0372e-02,  3.0409e-01,  ..., -6.7682e-01,\n",
            "            4.2051e-01, -1.1660e-01],\n",
            "          ...,\n",
            "          [-4.7178e-01,  4.9787e-02,  3.0260e-01,  ..., -4.5371e-01,\n",
            "            2.2098e-01, -3.0724e-02],\n",
            "          [-1.6043e-01, -4.0534e-02,  1.6910e-01,  ...,  6.2764e-01,\n",
            "           -4.0744e-01,  2.7256e-01],\n",
            "          [ 2.4200e-01,  4.4163e-01,  1.8623e-01,  ...,  3.5326e-01,\n",
            "           -2.8976e-01,  3.4285e-01]],\n",
            "\n",
            "         ...,\n",
            "\n",
            "         [[-1.0137e-01, -2.3448e-01, -3.2054e-01,  ..., -1.1899e-01,\n",
            "           -4.7885e-01, -2.0400e-01],\n",
            "          [-3.7067e-02, -8.5148e-01,  4.3898e-01,  ..., -1.1908e-01,\n",
            "           -5.7472e-01,  3.8635e-01],\n",
            "          [ 1.4318e-01,  1.8537e-01, -8.9879e-02,  ...,  7.8955e-01,\n",
            "            3.0891e-01,  1.0270e+00],\n",
            "          ...,\n",
            "          [-7.6972e-01, -2.3590e-01, -8.1118e-02,  ...,  6.5189e-02,\n",
            "           -5.0636e-01, -7.6787e-02],\n",
            "          [-8.1389e-01, -6.5284e-01,  5.7176e-01,  ..., -5.1309e-02,\n",
            "            3.8564e-01,  3.0339e-01],\n",
            "          [ 2.1764e-01, -3.5053e-01,  9.1309e-01,  ..., -9.2623e-02,\n",
            "            3.7179e-01,  5.8843e-01]],\n",
            "\n",
            "         [[-5.4022e-02, -9.6312e-04, -6.3385e-02,  ...,  1.7585e-01,\n",
            "           -2.5373e-01,  5.9972e-01],\n",
            "          [-1.5216e-02, -1.1699e-01,  2.6882e-01,  ..., -1.3127e-01,\n",
            "           -4.3044e-01,  6.1358e-01],\n",
            "          [ 4.2550e-02, -8.3169e-01,  4.4371e-01,  ...,  2.8025e-01,\n",
            "           -3.8703e-01,  1.0144e+00],\n",
            "          ...,\n",
            "          [ 1.1156e-01,  3.4540e-01, -6.6130e-01,  ..., -7.1663e-01,\n",
            "           -3.0600e-01, -1.6521e-01],\n",
            "          [ 1.5161e-01, -3.9236e-01,  4.2063e-01,  ...,  4.5069e-02,\n",
            "           -6.3986e-01,  2.7947e-01],\n",
            "          [-1.0429e-01,  3.1164e-01, -6.0382e-01,  ...,  1.1623e+00,\n",
            "            1.0655e-02,  2.8446e-01]],\n",
            "\n",
            "         [[ 5.7564e-01, -1.3156e-01, -2.8845e-01,  ...,  1.0167e-02,\n",
            "           -1.0394e-01, -3.8592e-01],\n",
            "          [ 1.1555e-01, -4.6060e-01,  5.1134e-01,  ..., -1.0296e-01,\n",
            "            6.3039e-01, -2.2093e-01],\n",
            "          [-2.3210e-01,  1.5106e-01, -4.4104e-01,  ..., -2.5957e-03,\n",
            "            2.4453e-01, -2.1007e-02],\n",
            "          ...,\n",
            "          [ 2.6265e-01,  5.1700e-01,  2.5288e-02,  ...,  3.5333e-01,\n",
            "            3.3163e-01,  2.6237e-01],\n",
            "          [-3.2414e-01, -5.5467e-01, -4.6651e-01,  ..., -3.0782e-01,\n",
            "           -4.6955e-02,  2.3101e-01],\n",
            "          [-4.5203e-02,  2.1502e-01, -4.2331e-01,  ..., -1.0178e+00,\n",
            "            1.8898e-01,  2.8352e-01]]]], grad_fn=<MkldnnConvolutionBackward0>)\n"
          ]
        }
      ]
    },
    {
      "cell_type": "code",
      "metadata": {
        "id": "RLqGbclbp3_N",
        "colab": {
          "base_uri": "https://localhost:8080/"
        },
        "outputId": "45320998-f1e1-4a1e-af87-d9119a210df6"
      },
      "source": [
        "output.shape"
      ],
      "execution_count": 99,
      "outputs": [
        {
          "output_type": "execute_result",
          "data": {
            "text/plain": [
              "torch.Size([20, 33, 26, 100])"
            ]
          },
          "metadata": {},
          "execution_count": 99
        }
      ]
    },
    {
      "cell_type": "markdown",
      "metadata": {
        "id": "CYeGAJEuneqW"
      },
      "source": [
        "### nn.functional 패키지\n",
        "\n",
        "- 가중치를 직접 선언하여 인자로 넣어줘야함\n",
        "\n",
        "- 예시)\n",
        "  - Convolution functions\n",
        "\n",
        "  - Pooling functions\n",
        "  \n",
        "  - Non-linear activation functions\n",
        "\n",
        "  - Normalization functions\n",
        "\n",
        "  - Linear functions\n",
        "\n",
        "  - Dropout functions\n",
        "  \n",
        "  - Sparse functions\n",
        "  \n",
        "  - Distance functions\n",
        "\n",
        "  - Loss functions\n",
        "  - ..\n",
        "\n",
        "- https://pytorch.org/docs/stable/nn.functional.html"
      ]
    },
    {
      "cell_type": "code",
      "metadata": {
        "id": "NpwbO9Dhpflm"
      },
      "source": [
        "import torch\n",
        "import torch.nn.functional as F"
      ],
      "execution_count": 100,
      "outputs": []
    },
    {
      "cell_type": "markdown",
      "metadata": {
        "id": "fUYaJ5aLqKed"
      },
      "source": [
        "- Convolution Layer 예시 (2)"
      ]
    },
    {
      "cell_type": "code",
      "metadata": {
        "id": "GAWLQE2GouHP"
      },
      "source": [
        "filters = torch.randn(8,4,3,3)"
      ],
      "execution_count": 101,
      "outputs": []
    },
    {
      "cell_type": "code",
      "metadata": {
        "id": "lWmSlFBrpms1",
        "colab": {
          "base_uri": "https://localhost:8080/"
        },
        "outputId": "a222ce30-1bd0-449f-dc0c-793e16364aa2"
      },
      "source": [
        "inputs = torch.randn(1,4,5,5)\n",
        "conv = F.conv2d(inputs, filters, padding=1)\n",
        "conv.shape"
      ],
      "execution_count": 102,
      "outputs": [
        {
          "output_type": "execute_result",
          "data": {
            "text/plain": [
              "torch.Size([1, 8, 5, 5])"
            ]
          },
          "metadata": {},
          "execution_count": 102
        }
      ]
    },
    {
      "cell_type": "markdown",
      "metadata": {
        "id": "Wah4RsmgrRDP"
      },
      "source": [
        "## Torchvision\n",
        "\n",
        "- `transforms`: 전처리할 때 사용하는 메소드\n",
        "\n",
        "- `transforms`에서 제공하는 클래스 이외에  \n",
        "  일반적으로 클래스를 따로 만들어 전처리 단계를 진행\n",
        "  \n",
        "  - 아래의 코드에서 다양한 전처리 기술 확인  \n",
        "    https://pytorch.org/docs/stable/torchvision/transforms.html\n"
      ]
    },
    {
      "cell_type": "code",
      "metadata": {
        "id": "akvq4QWmqSil"
      },
      "source": [
        "import torch\n",
        "import torchvision\n",
        "import torchvision.transforms as transforms"
      ],
      "execution_count": 103,
      "outputs": []
    },
    {
      "cell_type": "markdown",
      "metadata": {
        "id": "PKu5mzyTs-Qj"
      },
      "source": [
        "- 예시)\n",
        "  - `DataLoader`의 인자로 들어갈 `transform`을 미리 정의할 수 있음\n",
        "\n",
        "  - `Compose`를 통해 리스트 안에 순서대로 전처리 진행\n",
        "\n",
        "  - 대표적인 예로, `ToTensor`()를 하는 이유는  \n",
        "   <u>torchvision이 PIL Image형태로만 입력을 받기 때문에</u> 데이터 처리를 위해서 Tensor형으로 변환해야함"
      ]
    },
    {
      "cell_type": "code",
      "metadata": {
        "id": "y6K7FH-Rs9my"
      },
      "source": [
        "transform = transforms.Compose([transforms.ToTensor(),\n",
        "                                transforms.Normalize(mean=(0.5,), std=(0.5,))])"
      ],
      "execution_count": 104,
      "outputs": []
    },
    {
      "cell_type": "markdown",
      "metadata": {
        "id": "I4l1GvIlslKa"
      },
      "source": [
        "## utils.data\n",
        "\n",
        "- `Dataset`에는 다양한 데이터셋이 존재  \n",
        "  - MNIST, CIFAR10, ...\n",
        "\n",
        "- `DataLoader`, `Dataset`을 통해  \n",
        "  `batch_size`, `train`여부, `transform`등을 인자로 넣어 데이터를 어떻게 load할 것인지 정해줄 수 있음"
      ]
    },
    {
      "cell_type": "code",
      "metadata": {
        "id": "1wsZKY7-s2Vv"
      },
      "source": [
        "import torch \n",
        "from torch.utils.data import Dataset, DataLoader\n",
        "\n",
        "import torchvision\n",
        "import torchvision.transforms as transforms\n",
        "# 1:08:36"
      ],
      "execution_count": 105,
      "outputs": []
    },
    {
      "cell_type": "code",
      "metadata": {
        "id": "lldpI2lquBu3",
        "colab": {
          "base_uri": "https://localhost:8080/",
          "height": 459,
          "referenced_widgets": [
            "32d5024e74874708be3fa4d4d7e7a552",
            "50929278d9544863859247e8b08601fb",
            "0aa4ee08d28d44918d25e99ced9a6a8c",
            "0903f2b8f613466e8ab73b322021bfa7",
            "11674cd5b9374c398fca8858e4b1c5e0",
            "3ce98f804d85485297622d3c7cb64eed",
            "58e494ffb01143b4a1300255033f1227",
            "271e11e4051d4c288f21638eb49ea2c0",
            "21977e84dddf462caeba717b2a6fffc7",
            "9b582975f49948e8ac3f9d636486a618",
            "34b899691f1c42268b694f3e12f3129a",
            "c7911aa87deb4198a7e348039965991c",
            "9c87f845997344be8d2baa3e84efb7f6",
            "b27aece2b5d94935a5d9cdd89e44376d",
            "d1cb8848ce3d4314911c43d8aa6059e5",
            "d94cdd567124490282cb0f260715ccb9",
            "a0226a00058b4b878fdcc9a59dd1b817",
            "6c19ae72a4b44555bce53bfd71a37265",
            "34da24d5910b4304b48bba704dbbe449",
            "03a8b1cbaeba480a9ba26f2e8b8e6903",
            "666050d9091148298683e32d3c23a1b5",
            "660bf36a5bf64673994cb5d3c4c6d424",
            "1c722a20a5cb49d1bab686e9c14fc363",
            "c434a9f2be80454689a1f2e5835028eb",
            "f50b12195a9243639f588d11bc49a82c",
            "596752374a6946c2862e280448be215a",
            "525c01ab98d143aba57d2e3a7bf85bd3",
            "cdc1752733424da7832aa43101162595",
            "b6376d74cae042209cccc7c3e5762928",
            "acac966865344affb1aeb00e05e69859",
            "873bb6a82d714964b0c058b2213f9a8e",
            "0e05dd68f8e342648ac4f610794b29a9",
            "a1d2730f71b241a482b5c72cf6f2ab59",
            "e2c9c83f90d743c0aa10a78311e73cf7",
            "cd3898ffce624b47ae58c8f3d4b4086d",
            "8f76a292467f479a8ca7a03d63387673",
            "fa2933578ce44f108e7e9c4ec0bd1a39",
            "2bd1d499a4fd4ac487270c8bcb9260e2",
            "77b46e00788346229fc77f95a4da475a",
            "aa77adfe0e474e82bf2c60bb5b1c2b23",
            "20a9c0ca00b94056a936f28c9e2ab99b",
            "96e8d853202e4b348fafb4d6f0709d1c",
            "28b7de4add514ebeb10d96777f647084",
            "9992d92557794bc1932dc78b4bfb4fee"
          ]
        },
        "outputId": "e924c7d6-ca4b-4400-df58-665f2a522bfd"
      },
      "source": [
        "trainset = torchvision.datasets.MNIST(root='/content/drive/MyDrive/edu/딥러닝/',\n",
        "                                      train=True,\n",
        "                                      download=True,\n",
        "                                      transform=transform)\n",
        "\n",
        "testset = torchvision.datasets.MNIST(root='/content/drive/MyDrive/edu/딥러닝/',\n",
        "                                      train=False,\n",
        "                                      download=True,\n",
        "                                      transform=transform)"
      ],
      "execution_count": 106,
      "outputs": [
        {
          "output_type": "stream",
          "name": "stdout",
          "text": [
            "Downloading http://yann.lecun.com/exdb/mnist/train-images-idx3-ubyte.gz\n",
            "Downloading http://yann.lecun.com/exdb/mnist/train-images-idx3-ubyte.gz to /content/drive/MyDrive/edu/딥러닝/MNIST/raw/train-images-idx3-ubyte.gz\n"
          ]
        },
        {
          "output_type": "display_data",
          "data": {
            "application/vnd.jupyter.widget-view+json": {
              "model_id": "32d5024e74874708be3fa4d4d7e7a552",
              "version_minor": 0,
              "version_major": 2
            },
            "text/plain": [
              "  0%|          | 0/9912422 [00:00<?, ?it/s]"
            ]
          },
          "metadata": {}
        },
        {
          "output_type": "stream",
          "name": "stdout",
          "text": [
            "Extracting /content/drive/MyDrive/edu/딥러닝/MNIST/raw/train-images-idx3-ubyte.gz to /content/drive/MyDrive/edu/딥러닝/MNIST/raw\n",
            "\n",
            "Downloading http://yann.lecun.com/exdb/mnist/train-labels-idx1-ubyte.gz\n",
            "Downloading http://yann.lecun.com/exdb/mnist/train-labels-idx1-ubyte.gz to /content/drive/MyDrive/edu/딥러닝/MNIST/raw/train-labels-idx1-ubyte.gz\n"
          ]
        },
        {
          "output_type": "display_data",
          "data": {
            "application/vnd.jupyter.widget-view+json": {
              "model_id": "c7911aa87deb4198a7e348039965991c",
              "version_minor": 0,
              "version_major": 2
            },
            "text/plain": [
              "  0%|          | 0/28881 [00:00<?, ?it/s]"
            ]
          },
          "metadata": {}
        },
        {
          "output_type": "stream",
          "name": "stdout",
          "text": [
            "Extracting /content/drive/MyDrive/edu/딥러닝/MNIST/raw/train-labels-idx1-ubyte.gz to /content/drive/MyDrive/edu/딥러닝/MNIST/raw\n",
            "\n",
            "Downloading http://yann.lecun.com/exdb/mnist/t10k-images-idx3-ubyte.gz\n",
            "Downloading http://yann.lecun.com/exdb/mnist/t10k-images-idx3-ubyte.gz to /content/drive/MyDrive/edu/딥러닝/MNIST/raw/t10k-images-idx3-ubyte.gz\n"
          ]
        },
        {
          "output_type": "display_data",
          "data": {
            "application/vnd.jupyter.widget-view+json": {
              "model_id": "1c722a20a5cb49d1bab686e9c14fc363",
              "version_minor": 0,
              "version_major": 2
            },
            "text/plain": [
              "  0%|          | 0/1648877 [00:00<?, ?it/s]"
            ]
          },
          "metadata": {}
        },
        {
          "output_type": "stream",
          "name": "stdout",
          "text": [
            "Extracting /content/drive/MyDrive/edu/딥러닝/MNIST/raw/t10k-images-idx3-ubyte.gz to /content/drive/MyDrive/edu/딥러닝/MNIST/raw\n",
            "\n",
            "Downloading http://yann.lecun.com/exdb/mnist/t10k-labels-idx1-ubyte.gz\n",
            "Downloading http://yann.lecun.com/exdb/mnist/t10k-labels-idx1-ubyte.gz to /content/drive/MyDrive/edu/딥러닝/MNIST/raw/t10k-labels-idx1-ubyte.gz\n"
          ]
        },
        {
          "output_type": "display_data",
          "data": {
            "application/vnd.jupyter.widget-view+json": {
              "model_id": "e2c9c83f90d743c0aa10a78311e73cf7",
              "version_minor": 0,
              "version_major": 2
            },
            "text/plain": [
              "  0%|          | 0/4542 [00:00<?, ?it/s]"
            ]
          },
          "metadata": {}
        },
        {
          "output_type": "stream",
          "name": "stdout",
          "text": [
            "Extracting /content/drive/MyDrive/edu/딥러닝/MNIST/raw/t10k-labels-idx1-ubyte.gz to /content/drive/MyDrive/edu/딥러닝/MNIST/raw\n",
            "\n"
          ]
        }
      ]
    },
    {
      "cell_type": "code",
      "metadata": {
        "id": "fKddZnT1uQmT"
      },
      "source": [
        "train_loader = DataLoader(trainset, batch_size=8, shuffle=True, num_workers=2)\n",
        "test_loader = DataLoader(trainset, batch_size=8, shuffle=False, num_workers=2)"
      ],
      "execution_count": 107,
      "outputs": []
    },
    {
      "cell_type": "markdown",
      "metadata": {
        "id": "zrxymquLxeo8"
      },
      "source": [
        "- `batch_size`만큼 데이터를 하나씩 가져옴"
      ]
    },
    {
      "cell_type": "code",
      "metadata": {
        "id": "hvgMIyF6uUuU",
        "colab": {
          "base_uri": "https://localhost:8080/"
        },
        "outputId": "c7de100e-12f6-493a-bff7-9ed3bff2ef79"
      },
      "source": [
        "dataiter = iter(train_loader)\n",
        "images, labels = dataiter.next()\n",
        "images.shape, labels.shape"
      ],
      "execution_count": 108,
      "outputs": [
        {
          "output_type": "execute_result",
          "data": {
            "text/plain": [
              "(torch.Size([8, 1, 28, 28]), torch.Size([8]))"
            ]
          },
          "metadata": {},
          "execution_count": 108
        }
      ]
    },
    {
      "cell_type": "markdown",
      "metadata": {
        "id": "YPUC0a0aw6OM"
      },
      "source": [
        "<u>**(중요) torch에서는 channel(채널)이 앞에 옴**</u>\n",
        "\n",
        "- `channel first`\n",
        "\n",
        "- tensorflow, keras 등에서는 channel이 뒤에 옴(`channel last`)"
      ]
    },
    {
      "cell_type": "markdown",
      "metadata": {
        "id": "wuhylD3iyFYr"
      },
      "source": [
        "### 데이터 확인"
      ]
    },
    {
      "cell_type": "code",
      "metadata": {
        "id": "C9hAQmQlul8P"
      },
      "source": [
        "import matplotlib.pyplot as plt\n",
        "plt.style.use('seaborn-white')"
      ],
      "execution_count": 109,
      "outputs": []
    },
    {
      "cell_type": "code",
      "metadata": {
        "id": "zDcUY6o4xUQp",
        "colab": {
          "base_uri": "https://localhost:8080/"
        },
        "outputId": "3a758926-ea92-4377-a0af-78f3a1dfd86c"
      },
      "source": [
        "torch_image = torch.squeeze(images[0])\n",
        "torch_image.shape"
      ],
      "execution_count": 111,
      "outputs": [
        {
          "output_type": "execute_result",
          "data": {
            "text/plain": [
              "torch.Size([28, 28])"
            ]
          },
          "metadata": {},
          "execution_count": 111
        }
      ]
    },
    {
      "cell_type": "code",
      "metadata": {
        "id": "MZmPWiGbxoiW",
        "colab": {
          "base_uri": "https://localhost:8080/"
        },
        "outputId": "cee79b7a-2ae3-438c-bdff-a5f348920e6b"
      },
      "source": [
        "image = torch_image.numpy()\n",
        "image.shape"
      ],
      "execution_count": 113,
      "outputs": [
        {
          "output_type": "execute_result",
          "data": {
            "text/plain": [
              "(28, 28)"
            ]
          },
          "metadata": {},
          "execution_count": 113
        }
      ]
    },
    {
      "cell_type": "code",
      "metadata": {
        "id": "AUOdd4UaxaXO",
        "colab": {
          "base_uri": "https://localhost:8080/"
        },
        "outputId": "3caadffe-0fef-4024-e846-78c7ba467d51"
      },
      "source": [
        "label = labels[0].numpy()\n",
        "label.shape"
      ],
      "execution_count": 114,
      "outputs": [
        {
          "output_type": "execute_result",
          "data": {
            "text/plain": [
              "()"
            ]
          },
          "metadata": {},
          "execution_count": 114
        }
      ]
    },
    {
      "cell_type": "code",
      "metadata": {
        "id": "PDQfjw4wxr1z",
        "colab": {
          "base_uri": "https://localhost:8080/"
        },
        "outputId": "7c9a74b2-6ea8-4a2a-8c45-8f2d86d02356"
      },
      "source": [
        "label"
      ],
      "execution_count": 116,
      "outputs": [
        {
          "output_type": "execute_result",
          "data": {
            "text/plain": [
              "array(4)"
            ]
          },
          "metadata": {},
          "execution_count": 116
        }
      ]
    },
    {
      "cell_type": "code",
      "metadata": {
        "id": "JDCVw59ax3-A",
        "colab": {
          "base_uri": "https://localhost:8080/",
          "height": 295
        },
        "outputId": "9c80cdb0-66b9-4b22-b62c-fe635a9013cd"
      },
      "source": [
        "plt.title(label)\n",
        "plt.imshow(image,'gray')\n",
        "plt.show"
      ],
      "execution_count": 118,
      "outputs": [
        {
          "output_type": "execute_result",
          "data": {
            "text/plain": [
              "<function matplotlib.pyplot.show>"
            ]
          },
          "metadata": {},
          "execution_count": 118
        },
        {
          "output_type": "display_data",
          "data": {
            "image/png": "[encoded data removed]",
            "text/plain": [
              "<Figure size 432x288 with 1 Axes>"
            ]
          },
          "metadata": {}
        }
      ]
    },
    {
      "cell_type": "markdown",
      "metadata": {
        "id": "JVcWQlxzihtS"
      },
      "source": [
        "## 각 Layer 설명"
      ]
    },
    {
      "cell_type": "code",
      "metadata": {
        "id": "IGXn1_weif5H"
      },
      "source": [
        "import torch\n",
        "import torch.nn as nn\n",
        "import torch.nn.functional as F\n",
        "import torch.optim as optim "
      ],
      "execution_count": 120,
      "outputs": []
    },
    {
      "cell_type": "markdown",
      "metadata": {
        "id": "73kJ3heBi26y"
      },
      "source": [
        "### nn.Conv2d\n",
        "\n",
        "- `in_channels`: channel의 갯수\n",
        "\n",
        "- `out_channels`: 출력 채널의 갯수\n",
        "\n",
        "- `kernel_size`: 커널(필터) 사이즈\n",
        "\n",
        "- 텐서플로우, 케라스와 다르게 레이어의 `input`인자에도 값을 집어 넣어줘야함"
      ]
    },
    {
      "cell_type": "code",
      "metadata": {
        "id": "RcHJguyFipTl",
        "colab": {
          "base_uri": "https://localhost:8080/"
        },
        "outputId": "6be5aea1-bc01-4879-9563-693e99750e86"
      },
      "source": [
        "nn.Conv2d(in_channels=1, out_channels=20, kernel_size=5, stride=1)"
      ],
      "execution_count": 121,
      "outputs": [
        {
          "output_type": "execute_result",
          "data": {
            "text/plain": [
              "Conv2d(1, 20, kernel_size=(5, 5), stride=(1, 1))"
            ]
          },
          "metadata": {},
          "execution_count": 121
        }
      ]
    },
    {
      "cell_type": "code",
      "metadata": {
        "id": "iWiJbViHjFG0",
        "colab": {
          "base_uri": "https://localhost:8080/"
        },
        "outputId": "c3a3b22c-3c0c-426e-c644-8a092b45be87"
      },
      "source": [
        "layer = nn.Conv2d(1, 20, 5, 1).to(torch.device('cpu'))\n",
        "layer"
      ],
      "execution_count": 123,
      "outputs": [
        {
          "output_type": "execute_result",
          "data": {
            "text/plain": [
              "Conv2d(1, 20, kernel_size=(5, 5), stride=(1, 1))"
            ]
          },
          "metadata": {},
          "execution_count": 123
        }
      ]
    },
    {
      "cell_type": "markdown",
      "metadata": {
        "id": "GxWYFm2xjUeN"
      },
      "source": [
        "- `wegiht`확인"
      ]
    },
    {
      "cell_type": "code",
      "metadata": {
        "id": "za0enRbyjPzV",
        "colab": {
          "base_uri": "https://localhost:8080/"
        },
        "outputId": "61fa11b1-d91c-45e9-ff07-71ac01fa7429"
      },
      "source": [
        "weight = layer.weight\n",
        "weight.shape"
      ],
      "execution_count": 124,
      "outputs": [
        {
          "output_type": "execute_result",
          "data": {
            "text/plain": [
              "torch.Size([20, 1, 5, 5])"
            ]
          },
          "metadata": {},
          "execution_count": 124
        }
      ]
    },
    {
      "cell_type": "markdown",
      "metadata": {
        "id": "MAZcTU2gjiCX"
      },
      "source": [
        "- `weight`는 `detach()`를 통해 꺼내줘야 `numpy()`변환이 가능"
      ]
    },
    {
      "cell_type": "code",
      "metadata": {
        "id": "9eN_oUBkjT85"
      },
      "source": [
        "weight = weight.detach()"
      ],
      "execution_count": 126,
      "outputs": []
    },
    {
      "cell_type": "code",
      "metadata": {
        "id": "kwso9tsijmz8",
        "colab": {
          "base_uri": "https://localhost:8080/"
        },
        "outputId": "761e97a2-12ce-4020-cc2a-75bd341359ba"
      },
      "source": [
        "weight = weight.numpy()\n",
        "weight.shape"
      ],
      "execution_count": 127,
      "outputs": [
        {
          "output_type": "execute_result",
          "data": {
            "text/plain": [
              "(20, 1, 5, 5)"
            ]
          },
          "metadata": {},
          "execution_count": 127
        }
      ]
    },
    {
      "cell_type": "code",
      "metadata": {
        "id": "mUegf6HPjdPl",
        "colab": {
          "base_uri": "https://localhost:8080/",
          "height": 262
        },
        "outputId": "1dabbff4-fc5a-467f-c22c-73cbcd0ae36b"
      },
      "source": [
        "plt.imshow(weight[0, 0, :, :], 'jet')\n",
        "plt.colorbar()\n",
        "plt.show()"
      ],
      "execution_count": 128,
      "outputs": [
        {
          "output_type": "display_data",
          "data": {
            "image/png": "[encoded data removed]",
            "text/plain": [
              "<Figure size 432x288 with 2 Axes>"
            ]
          },
          "metadata": {}
        }
      ]
    },
    {
      "cell_type": "code",
      "metadata": {
        "id": "DMeTOqVmcdWa",
        "colab": {
          "base_uri": "https://localhost:8080/"
        },
        "outputId": "10a8a808-68d8-45fa-e6c3-aa5f426d4f5c"
      },
      "source": [
        "print(images.shape)"
      ],
      "execution_count": 129,
      "outputs": [
        {
          "output_type": "stream",
          "name": "stdout",
          "text": [
            "torch.Size([8, 1, 28, 28])\n"
          ]
        }
      ]
    },
    {
      "cell_type": "code",
      "metadata": {
        "id": "cvolnNsscdHs"
      },
      "source": [
        "input_image = torch.unsqueeze(images[0], dim=0)"
      ],
      "execution_count": 130,
      "outputs": []
    },
    {
      "cell_type": "code",
      "metadata": {
        "id": "NLOAfD5mjup1"
      },
      "source": [
        "output_data = layer(input_image)"
      ],
      "execution_count": 131,
      "outputs": []
    },
    {
      "cell_type": "code",
      "metadata": {
        "id": "r50wFkl6j1sY"
      },
      "source": [
        "output = output_data.data"
      ],
      "execution_count": 132,
      "outputs": []
    },
    {
      "cell_type": "code",
      "metadata": {
        "id": "ZiIp-frJj2Hl",
        "colab": {
          "base_uri": "https://localhost:8080/"
        },
        "outputId": "6423e22c-0959-4c44-d082-1b59679d8cfe"
      },
      "source": [
        "output_arr = output.numpy()\n",
        "output_arr.shape"
      ],
      "execution_count": 133,
      "outputs": [
        {
          "output_type": "execute_result",
          "data": {
            "text/plain": [
              "(1, 20, 24, 24)"
            ]
          },
          "metadata": {},
          "execution_count": 133
        }
      ]
    },
    {
      "cell_type": "code",
      "metadata": {
        "id": "uOHMu-UQkW3a",
        "colab": {
          "base_uri": "https://localhost:8080/",
          "height": 306
        },
        "outputId": "a5f8cc02-e72f-4cca-e54c-2cafd55b6f8e"
      },
      "source": [
        "plt.figure(figsize=(15,30))\n",
        "\n",
        "plt.subplot(131)\n",
        "plt.title('Input')\n",
        "plt.imshow(image, 'gray')\n",
        "plt.subplot(132)\n",
        "plt.title('Weight')\n",
        "plt.imshow(weight[0, 0, :, :], 'jet')\n",
        "plt.subplot(133)\n",
        "plt.title('Output')\n",
        "plt.imshow(output_arr[0, 0, :, :], 'gray')\n",
        "plt.show()"
      ],
      "execution_count": 135,
      "outputs": [
        {
          "output_type": "display_data",
          "data": {
            "image/png": "[encoded data removed]",
            "text/plain": [
              "<Figure size 1080x2160 with 3 Axes>"
            ]
          },
          "metadata": {}
        }
      ]
    },
    {
      "cell_type": "markdown",
      "metadata": {
        "id": "6sCqGmH_kwHm"
      },
      "source": [
        "### Pooling\n",
        "- `F.max_pool2d` \n",
        "  - `stride`\n",
        "\n",
        "  - `kernel_size`\n",
        "\n",
        "- `torch.nn.MaxPool2d` 도 많이 사용"
      ]
    },
    {
      "cell_type": "code",
      "metadata": {
        "id": "AYqPrLH1kxQl",
        "colab": {
          "base_uri": "https://localhost:8080/"
        },
        "outputId": "1687bb3a-b823-4dc7-cd95-8ac6084027ee"
      },
      "source": [
        "image.shape"
      ],
      "execution_count": 136,
      "outputs": [
        {
          "output_type": "execute_result",
          "data": {
            "text/plain": [
              "(28, 28)"
            ]
          },
          "metadata": {},
          "execution_count": 136
        }
      ]
    },
    {
      "cell_type": "code",
      "metadata": {
        "id": "tvI8W_8Yk81S",
        "colab": {
          "base_uri": "https://localhost:8080/"
        },
        "outputId": "77e244d7-06b3-46d5-fcc2-a06b207c56ca"
      },
      "source": [
        "pool = F.max_pool2d(output, 2, 2)\n",
        "pool.shape"
      ],
      "execution_count": 138,
      "outputs": [
        {
          "output_type": "execute_result",
          "data": {
            "text/plain": [
              "torch.Size([1, 20, 12, 12])"
            ]
          },
          "metadata": {},
          "execution_count": 138
        }
      ]
    },
    {
      "cell_type": "markdown",
      "metadata": {
        "id": "aV3HK4FulCaJ"
      },
      "source": [
        "- MaxPool Layer는 weight가 없기 때문에 바로 `numpy()`변환 가능"
      ]
    },
    {
      "cell_type": "code",
      "metadata": {
        "id": "fseB_qlflBta",
        "colab": {
          "base_uri": "https://localhost:8080/"
        },
        "outputId": "4665e1bd-d582-4adc-c5ee-16d12d2713ac"
      },
      "source": [
        "pool_arr = pool.numpy()\n",
        "pool_arr.shape"
      ],
      "execution_count": 139,
      "outputs": [
        {
          "output_type": "execute_result",
          "data": {
            "text/plain": [
              "(1, 20, 12, 12)"
            ]
          },
          "metadata": {},
          "execution_count": 139
        }
      ]
    },
    {
      "cell_type": "code",
      "metadata": {
        "id": "6w8DQnNtlNCq",
        "colab": {
          "base_uri": "https://localhost:8080/",
          "height": 312
        },
        "outputId": "61730d2a-358d-45f6-8f7b-b63159d34d48"
      },
      "source": [
        "plt.figure(figsize=(10,15))\n",
        "\n",
        "plt.subplot(121)\n",
        "plt.title('Input')\n",
        "plt.imshow(image, 'gray')\n",
        "plt.subplot(122)\n",
        "plt.title('Output')\n",
        "plt.imshow(pool_arr[0, 0, :, :], 'gray')\n",
        "plt.show()"
      ],
      "execution_count": 140,
      "outputs": [
        {
          "output_type": "display_data",
          "data": {
            "image/png": "[encoded data removed]",
            "text/plain": [
              "<Figure size 720x1080 with 2 Axes>"
            ]
          },
          "metadata": {}
        }
      ]
    },
    {
      "cell_type": "markdown",
      "metadata": {
        "id": "q7RVioKwlbH1"
      },
      "source": [
        "### Linear\n",
        "- 1d만 가능 `.view()`를 통해 1D로 펼쳐줘야함"
      ]
    },
    {
      "cell_type": "code",
      "metadata": {
        "id": "Kwcedadrlcbl",
        "colab": {
          "base_uri": "https://localhost:8080/"
        },
        "outputId": "e0d56b92-20e5-4f9e-8cde-196d6d901a63"
      },
      "source": [
        "image = torch.from_numpy(image)\n",
        "image.shape"
      ],
      "execution_count": 141,
      "outputs": [
        {
          "output_type": "execute_result",
          "data": {
            "text/plain": [
              "torch.Size([28, 28])"
            ]
          },
          "metadata": {},
          "execution_count": 141
        }
      ]
    },
    {
      "cell_type": "code",
      "metadata": {
        "id": "_mYQy4I3lmAm",
        "colab": {
          "base_uri": "https://localhost:8080/"
        },
        "outputId": "9ca640d3-c9d2-47be-d596-64a5e045cf71"
      },
      "source": [
        "flatten = image.view(1, 28*28)\n",
        "flatten.shape"
      ],
      "execution_count": 142,
      "outputs": [
        {
          "output_type": "execute_result",
          "data": {
            "text/plain": [
              "torch.Size([1, 784])"
            ]
          },
          "metadata": {},
          "execution_count": 142
        }
      ]
    },
    {
      "cell_type": "code",
      "metadata": {
        "id": "6wgSmY0Zlofk",
        "colab": {
          "base_uri": "https://localhost:8080/"
        },
        "outputId": "78f2c144-9960-4c7d-977d-d2ccbf46cac4"
      },
      "source": [
        "lin = nn.Linear(784, 10)(flatten)\n",
        "lin.shape"
      ],
      "execution_count": 143,
      "outputs": [
        {
          "output_type": "execute_result",
          "data": {
            "text/plain": [
              "torch.Size([1, 10])"
            ]
          },
          "metadata": {},
          "execution_count": 143
        }
      ]
    },
    {
      "cell_type": "code",
      "metadata": {
        "id": "LcJFqf0alsxr",
        "colab": {
          "base_uri": "https://localhost:8080/"
        },
        "outputId": "8e3811eb-2825-44f6-fbf1-b30c3ebc1e8b"
      },
      "source": [
        "lin"
      ],
      "execution_count": 144,
      "outputs": [
        {
          "output_type": "execute_result",
          "data": {
            "text/plain": [
              "tensor([[ 0.2324, -0.0611, -0.7597, -0.7489,  0.4561, -0.2646, -0.5994,  0.4076,\n",
              "          0.0443, -0.8882]], grad_fn=<AddmmBackward0>)"
            ]
          },
          "metadata": {},
          "execution_count": 144
        }
      ]
    },
    {
      "cell_type": "code",
      "metadata": {
        "id": "ewEpebSVluHz",
        "colab": {
          "base_uri": "https://localhost:8080/",
          "height": 248
        },
        "outputId": "982cdba9-788f-4b27-d8e3-cc76047c4825"
      },
      "source": [
        "plt.imshow(lin.detach().numpy(), 'jet')\n",
        "plt.colorbar()\n",
        "plt.show()"
      ],
      "execution_count": 145,
      "outputs": [
        {
          "output_type": "display_data",
          "data": {
            "image/png": "[encoded data removed]",
            "text/plain": [
              "<Figure size 432x288 with 2 Axes>"
            ]
          },
          "metadata": {}
        }
      ]
    },
    {
      "cell_type": "markdown",
      "metadata": {
        "id": "0IjPKDKRl3CV"
      },
      "source": [
        "### Softmax"
      ]
    },
    {
      "cell_type": "code",
      "metadata": {
        "id": "obhBb3O-lzbs"
      },
      "source": [
        "with torch.no_grad():\n",
        "  flatten = image.view(1, 28*28)\n",
        "  lin = nn.Linear(784, 10)(flatten)\n",
        "  softmax = F.softmax(lin, dim=1)"
      ],
      "execution_count": 146,
      "outputs": []
    },
    {
      "cell_type": "code",
      "metadata": {
        "id": "ljgOEyNMmBEE",
        "colab": {
          "base_uri": "https://localhost:8080/"
        },
        "outputId": "56e40e40-c2f1-4a43-837b-475eae5e7c63"
      },
      "source": [
        "softmax"
      ],
      "execution_count": 147,
      "outputs": [
        {
          "output_type": "execute_result",
          "data": {
            "text/plain": [
              "tensor([[0.0871, 0.1491, 0.0784, 0.0319, 0.0870, 0.0557, 0.2973, 0.0822, 0.0696,\n",
              "         0.0618]])"
            ]
          },
          "metadata": {},
          "execution_count": 147
        }
      ]
    },
    {
      "cell_type": "code",
      "metadata": {
        "id": "18ymFSRAmBo7",
        "colab": {
          "base_uri": "https://localhost:8080/"
        },
        "outputId": "1219725b-9df5-45df-d074-3786a2ca80b1"
      },
      "source": [
        "np.sum(softmax.numpy())"
      ],
      "execution_count": 148,
      "outputs": [
        {
          "output_type": "execute_result",
          "data": {
            "text/plain": [
              "1.0000001"
            ]
          },
          "metadata": {},
          "execution_count": 148
        }
      ]
    },
    {
      "cell_type": "markdown",
      "metadata": {
        "id": "bYh13Bnj5wEN"
      },
      "source": [
        "### F.relu\n",
        "\n",
        "- ReLU 함수를 적용하는 레이어\n",
        "\n",
        "- `nn.ReLU`로도 사용 가능"
      ]
    },
    {
      "cell_type": "code",
      "metadata": {
        "id": "D4VFePpR9_Ak",
        "colab": {
          "base_uri": "https://localhost:8080/"
        },
        "outputId": "a634d220-ca7d-46f5-8cbf-f3c680231a00"
      },
      "source": [
        "inputs = torch.randn(4, 3, 28, 28).to(device)\n",
        "inputs.shape"
      ],
      "execution_count": 149,
      "outputs": [
        {
          "output_type": "execute_result",
          "data": {
            "text/plain": [
              "torch.Size([4, 3, 28, 28])"
            ]
          },
          "metadata": {},
          "execution_count": 149
        }
      ]
    },
    {
      "cell_type": "code",
      "metadata": {
        "id": "1lKlSiaY5wZW",
        "colab": {
          "base_uri": "https://localhost:8080/"
        },
        "outputId": "b5227787-b43b-41b5-d2aa-f0a25024e5f7"
      },
      "source": [
        "layer = nn.Conv2d(3, 20, 5, 1).to(device)\n",
        "output = F.relu(layer(inputs))\n",
        "output.shape"
      ],
      "execution_count": 152,
      "outputs": [
        {
          "output_type": "execute_result",
          "data": {
            "text/plain": [
              "torch.Size([4, 20, 24, 24])"
            ]
          },
          "metadata": {},
          "execution_count": 152
        }
      ]
    },
    {
      "cell_type": "markdown",
      "metadata": {
        "id": "0yuABl4h-yye"
      },
      "source": [
        "## Optimizer\n",
        "\n",
        "- `import torch.optim as optim`\n",
        "\n",
        "- `model`의 파라미터를 업데이트\n",
        "\n",
        "- 예시)\n",
        "  ```python\n",
        "  optimizer = torch.optim.Adam(model.parameters(), lr=1e-4, weight_decay=1e-5)\n",
        "  optimizer = optim.SGD(model.parameters(), lr=0.001)\n",
        "  ```\n",
        "\n",
        "- `.zero_grad()`로 초기화\n",
        "- `.step()`으로 업데이트\n",
        "\n"
      ]
    }
  ]
}