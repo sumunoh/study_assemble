{
  "nbformat": 4,
  "nbformat_minor": 0,
  "metadata": {
    "colab": {
      "name": "2주차_토큰분류_regex.ipynb",
      "provenance": [],
      "collapsed_sections": [
        "_eMTRnZRL9hc"
      ],
      "include_colab_link": true
    },
    "kernelspec": {
      "name": "python3",
      "display_name": "Python 3"
    },
    "language_info": {
      "name": "python"
    }
  },
  "cells": [
    {
      "cell_type": "markdown",
      "metadata": {
        "id": "view-in-github",
        "colab_type": "text"
      },
      "source": [
        "<a href=\"https://colab.research.google.com/github/sumunoh/study_assemble/blob/main/%E1%84%90%E1%85%A9%E1%84%8F%E1%85%B3%E1%86%AB%E1%84%87%E1%85%AE%E1%86%AB%E1%84%85%E1%85%B2_regex.ipynb\" target=\"_parent\"><img src=\"https://colab.research.google.com/assets/colab-badge.svg\" alt=\"Open In Colab\"/></a>"
      ]
    },
    {
      "cell_type": "markdown",
      "metadata": {
        "id": "VbnLiE-Rv_LP"
      },
      "source": [
        "# Python 정규표현/쉘 명령어/토크나이저 사용법\n",
        "\n"
      ]
    },
    {
      "cell_type": "markdown",
      "metadata": {
        "id": "ZnowcVfRwH2Z"
      },
      "source": [
        "강의자 : 최정윤"
      ]
    },
    {
      "cell_type": "markdown",
      "metadata": {
        "id": "3cfrOV4dL9hW"
      },
      "source": [
        "##1. Regular Expression"
      ]
    },
    {
      "cell_type": "markdown",
      "metadata": {
        "id": "fY12nHhyL9hX"
      },
      "source": [
        "정규표현식(정규식;Regular expression)은 문자열의 복잡한 패턴을 활용하여 처리할 때 사용하는 기법으로, Python 뿐 아니라 문자열을 다루는 모든 곳에서 사용합니다.\n",
        "따라서 정규표현식은 그 자체로 독립된 영역의 학습 대상입니다. Python에서는 re라는 라이브러리에서 정규표현식 처리 함수를 제공합니다."
      ]
    },
    {
      "cell_type": "markdown",
      "metadata": {
        "id": "lZMyAdqhL9hY"
      },
      "source": [
        "re를 사용하기 위해서는 `re` 패키지를 불러와야 합니다."
      ]
    },
    {
      "cell_type": "code",
      "metadata": {
        "id": "58QdX8BLL9hZ"
      },
      "source": [
        "import re"
      ],
      "execution_count": null,
      "outputs": []
    },
    {
      "cell_type": "markdown",
      "metadata": {
        "id": "DDx6v1EdL9hb"
      },
      "source": [
        "###메타 문자"
      ]
    },
    {
      "cell_type": "markdown",
      "metadata": {
        "id": "f-Zv3f7LL9hc"
      },
      "source": [
        "메타 문자는 정규표현식에서 특별한 용도로 사용하는 문자입니다."
      ]
    },
    {
      "cell_type": "markdown",
      "metadata": {
        "id": "_eMTRnZRL9hc"
      },
      "source": [
        "#### 주요 메타문자 목록\n",
        "```\n",
        ". ^ $ * + ? { } [ ] \\ | ( )\n",
        "```\n",
        "#### 메타문자별 의미와 예\n",
        "```\n",
        "[abc]        # a 혹은 b 혹은 c \n",
        "```\n",
        "```\n",
        "[0-9]        # 0부터 9까지의 정수값 중 하나. [0123456789]와 동일\n",
        "```\n",
        "```\n",
        "[a-zA-Z]     # 소문자 a부터 z, 대문자 A부터 Z까지의 알파벳 중 하나\n",
        "```\n",
        "```\n",
        "[^0-9]       # 0부터 9까지의 정수값이 아닌 값\n",
        "```\n",
        "```\n",
        "[0-9]?       # 0부터 9까지의 정수값이 있거나 없거나\n",
        "```\n",
        "```\n",
        "\\d           # [0-9]와 동일\n",
        "```\n",
        "```\n",
        "\\D           # [^0-9]와 동일\n",
        "```\n",
        "```\n",
        "\\w           # 숫자 혹은 알파벳. [0-9a-zA-Z_]와 동일. \n",
        "```\n",
        "```\n",
        "\\W           # 숫자 혹은 알파벳이 아닌 문자. [^0-9a-zA-Z_]와 동일. \n",
        "```\n",
        "```\n",
        "\\s           # 공백. [ \\t\\n\\r\\f\\v]과 동일\n",
        "```\n",
        "```\n",
        "\\S           # 공백이 아닌 문자. [^ \\t\\n\\r\\f\\v]과 동일\n",
        "```\n",
        "```\n",
        "ya?          # ya에서 a가 등장하지 않거나 1회 등장하거나. y, ya\n",
        "```\n",
        "```\n",
        "ya+          # ya에서 a가 1회 이상 반복. ya, yaa, yaaa, ...\n",
        "```\n",
        "```\n",
        "ya*          # ya에서 a가 0회 이상 반복. y, ya, yaa, yaaa, ...\n",
        "```\n",
        "```\n",
        "ya{3}        # ya에서 a가 3회 반복. yaaa\n",
        "```\n",
        "```\n",
        "ya{3,5}      # ya에서 a가 3회 이상 5회 이하 반복. yaaa, yaaaa, yaaaaa\n",
        "```\n",
        "```\n",
        "ab|c|def   # ab 혹은 c 혹은 def\n",
        "```\n",
        "```\n",
        "가.다         # .은 모든 문자와 매치. 가나다, 가a다, 가!다, 가0다, 가\\t다, ...\n",
        "```\n",
        "```\n",
        "^\\d[a-z]     # 문자열의 맨 첫 두 문자가 숫자와 소문자 알파벳의 연쇄. 1z87384, 3t가나다라, 0r!>hi, ...\n",
        "```\n",
        "```\n",
        "\\d[a-z]$     # 문자열의 맨 끝 두 문자가 숫자와 소문자 알파벳의 연쇄. 873841z, 가나다라3t, !>hi0r, ...\n",
        "```\n",
        "```\n",
        "^\\d[a-z]$    # 문자열이 숫자로 시작해서 소문자 알파벳으로 끝남. 1z, 3t, 0r, ...\n",
        "```\n",
        "```\n",
        "[wW]hy\\?     # 메타 문자로서의 ?가 아닌 문장부호로서의 ?를 검색하고 싶을 경우 백슬래시로 escape. Why?, why?\n",
        "```\n",
        "\n",
        "\n",
        "\n",
        "\n",
        "\n"
      ]
    },
    {
      "cell_type": "markdown",
      "metadata": {
        "id": "T79YU9yg6GD0"
      },
      "source": [
        "###re.match"
      ]
    },
    {
      "cell_type": "markdown",
      "metadata": {
        "id": "VK33mhgCatLw"
      },
      "source": [
        "re.match는 문자열의 시작부터 정규식과 일치하는 부분을 찾아냅니다."
      ]
    },
    {
      "cell_type": "code",
      "metadata": {
        "id": "nIW4Z8KyVkJn"
      },
      "source": [
        "p = re.compile(\"[a-zA-Z]+\") # alphabet 1회 이상 반복"
      ],
      "execution_count": null,
      "outputs": []
    },
    {
      "cell_type": "code",
      "metadata": {
        "colab": {
          "base_uri": "https://localhost:8080/"
        },
        "id": "Z5kAA5WCZ9sS",
        "outputId": "1ba28005-be04-4a2d-8bdd-a68bda80a463"
      },
      "source": [
        "# search success\n",
        "m1 = p.match(\"Hello!\")\n",
        "print(m1)"
      ],
      "execution_count": null,
      "outputs": [
        {
          "output_type": "stream",
          "text": [
            "<re.Match object; span=(0, 5), match='Hello'>\n"
          ],
          "name": "stdout"
        }
      ]
    },
    {
      "cell_type": "code",
      "metadata": {
        "colab": {
          "base_uri": "https://localhost:8080/"
        },
        "id": "EmVMkfDMK84C",
        "outputId": "7844d173-cddb-43f5-c2e1-bb82502e9f52"
      },
      "source": [
        "if m1:\n",
        "  print(f\"서치 성공: {m1.group()}, {m1.start()}, {m1.end()}, {m1.span()} \")\n",
        "else:\n",
        "  print(f\"서치 실패: {m1}\")"
      ],
      "execution_count": null,
      "outputs": [
        {
          "output_type": "stream",
          "text": [
            "서치 성공: Hello, 0, 5, (0, 5) \n"
          ],
          "name": "stdout"
        }
      ]
    },
    {
      "cell_type": "code",
      "metadata": {
        "colab": {
          "base_uri": "https://localhost:8080/"
        },
        "id": "-ttIye03VsJK",
        "outputId": "fba704f2-1177-4a6b-a6d7-54fb17c31d45"
      },
      "source": [
        "# search failure\n",
        "m2 = p.match(\"2021, hello!\")\n",
        "if m2:\n",
        "  print(f\"서치 성공: {m2.group()}, {m2.start()}, {m2.end()}, {m2.span()} \")\n",
        "else:\n",
        "  print(f\"서치 실패: {m2}\")"
      ],
      "execution_count": null,
      "outputs": [
        {
          "output_type": "stream",
          "text": [
            "서치 실패: None\n"
          ],
          "name": "stdout"
        }
      ]
    },
    {
      "cell_type": "markdown",
      "metadata": {
        "id": "kORSpNNm49DP"
      },
      "source": [
        "### re.search"
      ]
    },
    {
      "cell_type": "markdown",
      "metadata": {
        "id": "3TIBNOeMabtX"
      },
      "source": [
        "re.search는 문자열 전체를 검색하여 정규식과 일치하는 부분을 찾아냅니다."
      ]
    },
    {
      "cell_type": "code",
      "metadata": {
        "colab": {
          "base_uri": "https://localhost:8080/"
        },
        "id": "93OduvnmCXaJ",
        "outputId": "3cb2cad4-29d9-48ec-f3ab-b801684b5a1b"
      },
      "source": [
        "p = re.compile(\"\\w+\") # alpha-numeric 1회 이상 반복\n",
        "m = p.search(\"cat\")\n",
        "print(m)\n",
        "print(m.group())\n",
        "print(m.start())\n",
        "print(m.end())\n",
        "print(m.span())"
      ],
      "execution_count": null,
      "outputs": [
        {
          "output_type": "stream",
          "text": [
            "<re.Match object; span=(0, 3), match='cat'>\n",
            "cat\n",
            "0\n",
            "3\n",
            "(0, 3)\n"
          ],
          "name": "stdout"
        }
      ]
    },
    {
      "cell_type": "code",
      "metadata": {
        "id": "dbjgmv0QXAZ4"
      },
      "source": [
        "p = re.compile(\"@\\w+\\.com\") # email 주소 .com 패턴"
      ],
      "execution_count": null,
      "outputs": []
    },
    {
      "cell_type": "code",
      "metadata": {
        "colab": {
          "base_uri": "https://localhost:8080/"
        },
        "id": "22fNHXS4Zxqt",
        "outputId": "1fe7a517-4b12-422f-9eb9-534130eb9fb5"
      },
      "source": [
        "# search success\n",
        "m1 = p.search(\"aaa@google.com\")\n",
        "if m1:\n",
        "  print(f\"서치 성공: {m1.group()}, {m1.start()}, {m1.end()}, {m1.span()} \")\n",
        "else:\n",
        "  print(f\"서치 실패: {m1}\")\n"
      ],
      "execution_count": null,
      "outputs": [
        {
          "output_type": "stream",
          "text": [
            "서치 성공: @google.com, 3, 14, (3, 14) \n"
          ],
          "name": "stdout"
        }
      ]
    },
    {
      "cell_type": "code",
      "metadata": {
        "colab": {
          "base_uri": "https://localhost:8080/"
        },
        "id": "O9m3Xc2sZxYJ",
        "outputId": "06d2daae-ea1c-4a9d-f0a6-5875aa8f3b9c"
      },
      "source": [
        "# search failure\n",
        "m2 = p.search(\"aaa@hanmail.net\")\n",
        "if m2:\n",
        "    print(f\"서치 성공: {m2.group()}, {m2.start()}, {m2.end()}, {m2.span()} \")\n",
        "else:\n",
        "  print(f\"서치 실패: {m2}\")"
      ],
      "execution_count": null,
      "outputs": [
        {
          "output_type": "stream",
          "text": [
            "서치 실패: None\n"
          ],
          "name": "stdout"
        }
      ]
    },
    {
      "cell_type": "markdown",
      "metadata": {
        "id": "V-lZW0Jx6Hy3"
      },
      "source": [
        "###re.findall"
      ]
    },
    {
      "cell_type": "markdown",
      "metadata": {
        "id": "OA1YDjf-a_ii"
      },
      "source": [
        "re.findall은 문자열 전체를 검색하여 정규식과 일치하는 부분 전체를 리스트로 반환합니다."
      ]
    },
    {
      "cell_type": "code",
      "metadata": {
        "id": "jM8i3AGBbHqm"
      },
      "source": [
        "p = re.compile(\"하세요|하지요|싶어요\")"
      ],
      "execution_count": null,
      "outputs": []
    },
    {
      "cell_type": "code",
      "metadata": {
        "colab": {
          "base_uri": "https://localhost:8080/"
        },
        "id": "0nyrgNgub-dI",
        "outputId": "cd7ed01a-c929-48ef-a8f4-bd96ad9cc7cc"
      },
      "source": [
        "result = p.findall(\"안녕하세요. 제 소개부터 드리도록 하지요. 저는 의미있는 일을 하고 싶어요. 건강하세요.\")\n",
        "print(result)"
      ],
      "execution_count": null,
      "outputs": [
        {
          "output_type": "stream",
          "text": [
            "['하세요', '하지요', '싶어요', '하세요']\n"
          ],
          "name": "stdout"
        }
      ]
    },
    {
      "cell_type": "markdown",
      "metadata": {
        "id": "pzyqe2Hb6Ju7"
      },
      "source": [
        "###re.finditer"
      ]
    },
    {
      "cell_type": "markdown",
      "metadata": {
        "id": "khuxCVcPd0VK"
      },
      "source": [
        "re.finditer는 문자열 전체를 검색하여 정규식과 일치하는 부분을 반복 가능한 객체(match 객체)로 돌려줍니다."
      ]
    },
    {
      "cell_type": "code",
      "metadata": {
        "id": "-l3JrGxCL9hc"
      },
      "source": [
        "p = re.compile(\"하세요|하지요|싶어요\")         "
      ],
      "execution_count": null,
      "outputs": []
    },
    {
      "cell_type": "code",
      "metadata": {
        "colab": {
          "base_uri": "https://localhost:8080/"
        },
        "id": "ma6mk-kdL9hh",
        "outputId": "d1efdaee-9f79-4a02-a905-3623587fcc61"
      },
      "source": [
        "result = p.finditer(\"안녕하세요. 제 소개부터 드리도록 하지요. 저는 의미있는 일을 하고 싶어요. 건강하세요.\")\n",
        "print(result)"
      ],
      "execution_count": null,
      "outputs": [
        {
          "output_type": "stream",
          "text": [
            "<callable_iterator object at 0x7fa104928610>\n"
          ],
          "name": "stdout"
        }
      ]
    },
    {
      "cell_type": "code",
      "metadata": {
        "id": "oH0jDuj0dV0i",
        "colab": {
          "base_uri": "https://localhost:8080/"
        },
        "outputId": "31acb81e-ba52-4c67-acf0-eda367d3d3e5"
      },
      "source": [
        "result = p.finditer(\"안녕하세요. 제 소개부터 드리도록 하지요. 저는 의미있는 일을 하고 싶어요. 건강하세요.\")\n",
        "for r in result: \n",
        "  print(r)\n",
        "  print(r.group())"
      ],
      "execution_count": null,
      "outputs": [
        {
          "output_type": "stream",
          "text": [
            "<re.Match object; span=(2, 5), match='하세요'>\n",
            "하세요\n",
            "<re.Match object; span=(19, 22), match='하지요'>\n",
            "하지요\n",
            "<re.Match object; span=(38, 41), match='싶어요'>\n",
            "싶어요\n",
            "<re.Match object; span=(45, 48), match='하세요'>\n",
            "하세요\n"
          ],
          "name": "stdout"
        }
      ]
    },
    {
      "cell_type": "markdown",
      "metadata": {
        "id": "YFJ1ciEmbQl-"
      },
      "source": [
        "###re.sub"
      ]
    },
    {
      "cell_type": "markdown",
      "metadata": {
        "id": "AUEMiv9SbT8g"
      },
      "source": [
        "re.sub은 정규식과 일치하는 부분을 다른 문자열로 치환합니다."
      ]
    },
    {
      "cell_type": "code",
      "metadata": {
        "id": "3_-WTVc6bS34"
      },
      "source": [
        "p = re.compile(\"(123)+\")"
      ],
      "execution_count": null,
      "outputs": []
    },
    {
      "cell_type": "code",
      "metadata": {
        "colab": {
          "base_uri": "https://localhost:8080/"
        },
        "id": "QZJHomo0e1DT",
        "outputId": "67e2f262-dcc8-404e-a68b-84b585955d8e"
      },
      "source": [
        "\n",
        "result = p.sub(\"ttt\", \"123123kk123\")\n",
        "print(result)"
      ],
      "execution_count": null,
      "outputs": [
        {
          "output_type": "stream",
          "text": [
            "tttkkttt\n"
          ],
          "name": "stdout"
        }
      ]
    },
    {
      "cell_type": "markdown",
      "metadata": {
        "id": "ywTGpydpfsgP"
      },
      "source": [
        "###Grouping"
      ]
    },
    {
      "cell_type": "markdown",
      "metadata": {
        "id": "knvgZb3bfvEP"
      },
      "source": [
        "그루핑 메타 기호 ( )를 잘 활용하면, match 객체의 group 인덱스로 그루핑된 부분의 문자열을 추출할 수 있습니다."
      ]
    },
    {
      "cell_type": "code",
      "metadata": {
        "colab": {
          "base_uri": "https://localhost:8080/"
        },
        "id": "9a5asANEfcfH",
        "outputId": "bdc27c27-ca75-4e70-85be-f195a1f34e92"
      },
      "source": [
        "p = re.compile(\"(\\w+)\\s+(\\d+[-]\\d+[-]\\d+)\")\n",
        "m = p.search(\"park 010-1234-1234\")\n",
        "print(m.group(0))\n",
        "print(m.group(1))\n",
        "print(m.group(2))\n"
      ],
      "execution_count": null,
      "outputs": [
        {
          "output_type": "stream",
          "text": [
            "park 010-1234-1234\n",
            "park\n",
            "010-1234-1234\n"
          ],
          "name": "stdout"
        }
      ]
    },
    {
      "cell_type": "markdown",
      "metadata": {
        "id": "TV50I2kYgzk2"
      },
      "source": [
        "###Backreferences"
      ]
    },
    {
      "cell_type": "markdown",
      "metadata": {
        "id": "qXPSSol8g6Sy"
      },
      "source": [
        "\\1, \\2, 등의 재참조 메타 기호를 사용하여 앞서 그루핑한 문자열을 재참조 할 수 있습니다."
      ]
    },
    {
      "cell_type": "code",
      "metadata": {
        "colab": {
          "base_uri": "https://localhost:8080/"
        },
        "id": "D-abFvlihCGj",
        "outputId": "196adc4c-4220-4827-cd20-a47bf74539ba"
      },
      "source": [
        "p = re.compile(r\"(\\w+)\\s+\\1\") # 재참조 기호 사용시, raw string임을 알리는 r을 꼭 붙여줘야 함.\n",
        "result = p.search('Paris in the the spring').group()\n",
        "print(result)"
      ],
      "execution_count": null,
      "outputs": [
        {
          "output_type": "stream",
          "text": [
            "the the\n"
          ],
          "name": "stdout"
        }
      ]
    },
    {
      "cell_type": "markdown",
      "metadata": {
        "id": "pXI2GyJSh0rY"
      },
      "source": [
        "###Look-ahead"
      ]
    },
    {
      "cell_type": "markdown",
      "metadata": {
        "id": "hy0yDZAjlNLt"
      },
      "source": [
        "전방 탐색(look-ahead)은 찾아내고자 하는 문자열의 패턴의 전방에 특정 조건을 걸고 싶을 때 사용합니다. \n",
        "\n",
        "전방에 X가 매치되는 조건을 걸고 싶을 때는 (?=X)\n",
        "\n",
        "전방에 X가 매치되지 않는 조건을 걸고 싶을 때는 (?!X)"
      ]
    },
    {
      "cell_type": "code",
      "metadata": {
        "colab": {
          "base_uri": "https://localhost:8080/"
        },
        "id": "ZOdw8CwciHDK",
        "outputId": "83108e07-c7d6-4d83-d4ba-37b3dead2c3f"
      },
      "source": [
        "p = re.compile(\".+(?=:)\")\n",
        "result = p.search(\"http://google.com\").group()\n",
        "print(result)"
      ],
      "execution_count": null,
      "outputs": [
        {
          "output_type": "stream",
          "text": [
            "http\n"
          ],
          "name": "stdout"
        }
      ]
    },
    {
      "cell_type": "code",
      "metadata": {
        "colab": {
          "base_uri": "https://localhost:8080/"
        },
        "id": "gp_2swx8jW6n",
        "outputId": "b060a06f-61a7-41d7-d6a1-072e89b29688"
      },
      "source": [
        "p = re.compile(\"[a-z]+(?![0-9])\")\n",
        "result = p.search(\"hello2021!\").group()\n",
        "print(result)"
      ],
      "execution_count": null,
      "outputs": [
        {
          "output_type": "stream",
          "text": [
            "hell\n"
          ],
          "name": "stdout"
        }
      ]
    },
    {
      "cell_type": "markdown",
      "metadata": {
        "id": "YX5_fQENk1ot"
      },
      "source": [
        "###Look-behind"
      ]
    },
    {
      "cell_type": "markdown",
      "metadata": {
        "id": "6Z6MFQrDl3Yw"
      },
      "source": [
        "후방 탐색(look-behind)은 찾아내고자 하는 문자열의 패턴의 후방에 특정 조건을 걸고 싶을 때 사용합니다. \n",
        "\n",
        "후방에 X가 매치되는 조건을 걸고 싶을 때는 (?<=X)\n",
        "\n",
        "후방에 X가 매치되지 않는 조건을 걸고 싶을 때는 (?<!X)"
      ]
    },
    {
      "cell_type": "code",
      "metadata": {
        "colab": {
          "base_uri": "https://localhost:8080/"
        },
        "id": "PitNJhP8jKXx",
        "outputId": "d2a45d7e-02a9-43b3-88cd-b16db5961100"
      },
      "source": [
        "p = re.compile(\"(?<=://).+\")\n",
        "result = p.search(\"http://google.com\").group()\n",
        "print(result)"
      ],
      "execution_count": null,
      "outputs": [
        {
          "output_type": "stream",
          "text": [
            "google.com\n"
          ],
          "name": "stdout"
        }
      ]
    },
    {
      "cell_type": "code",
      "metadata": {
        "colab": {
          "base_uri": "https://localhost:8080/"
        },
        "id": "JwNVRYJuk4EC",
        "outputId": "4e88e1a9-43c1-4318-f838-d99f642203aa"
      },
      "source": [
        "p = re.compile(\"(?<![a-z])\\d+\")\n",
        "result = p.search(\"hello2021!\").group()\n",
        "print(result)"
      ],
      "execution_count": null,
      "outputs": [
        {
          "output_type": "stream",
          "text": [
            "021\n"
          ],
          "name": "stdout"
        }
      ]
    },
    {
      "cell_type": "markdown",
      "metadata": {
        "id": "j8gyQvfl7FD-"
      },
      "source": [
        "# 2. Basic shell commands"
      ]
    },
    {
      "cell_type": "markdown",
      "metadata": {
        "id": "DToM8Twc9yND"
      },
      "source": [
        "Colab notebook에서는 기본적으로 Python 코드를 실행할 수 있지만, 쉘 명령어 또한 실행할 수 있습니다. 쉘 명령어를 실행하기 위해서는 명령어 앞에 ‘!’ 기호를 입력하여 실행하면 됩니다.\n",
        "\n"
      ]
    },
    {
      "cell_type": "markdown",
      "metadata": {
        "id": "p5KfXKGBiF4Z"
      },
      "source": [
        "쉘 명령어를 통해서 파일 출력 및 관리를 용이하게 할 수 있습니다. 우선 임의의 파일을 생성해보겠습니다."
      ]
    },
    {
      "cell_type": "code",
      "metadata": {
        "id": "tfhK6w4RUhzO"
      },
      "source": [
        "nums = \"\"\n",
        "for i in range(100):\n",
        "  nums += str(i+1) + \"번째 행입니다.\" + \"\\n\"\n",
        "\n",
        "f = open(\"test.txt\", \"w\")\n",
        "f.write(nums)\n",
        "f.close()"
      ],
      "execution_count": null,
      "outputs": []
    },
    {
      "cell_type": "code",
      "metadata": {
        "colab": {
          "base_uri": "https://localhost:8080/"
        },
        "id": "JQIvMO1Oe_vQ",
        "outputId": "20794fb9-199d-4cd6-c591-eae4c16bf6ff"
      },
      "source": [
        "s1 = {1,2,3,4}\n",
        "list(s1)"
      ],
      "execution_count": 1,
      "outputs": [
        {
          "output_type": "execute_result",
          "data": {
            "text/plain": [
              "[1, 2, 3, 4]"
            ]
          },
          "metadata": {},
          "execution_count": 1
        }
      ]
    },
    {
      "cell_type": "markdown",
      "metadata": {
        "id": "FLCes2SIIYP-"
      },
      "source": [
        "# head"
      ]
    },
    {
      "cell_type": "markdown",
      "metadata": {
        "id": "jhfe_3b1Idf9"
      },
      "source": [
        "head 명령어는 파일의 앞 부분의 내용을 출력합니다. (디폴트 10행)"
      ]
    },
    {
      "cell_type": "code",
      "metadata": {
        "id": "oKQNBEoH7ksZ",
        "colab": {
          "base_uri": "https://localhost:8080/"
        },
        "outputId": "b342d571-0842-4eed-de10-e6a87cad1377"
      },
      "source": [
        "!head test.txt"
      ],
      "execution_count": null,
      "outputs": [
        {
          "output_type": "stream",
          "text": [
            "1번째 행입니다.\n",
            "2번째 행입니다.\n",
            "3번째 행입니다.\n",
            "4번째 행입니다.\n",
            "5번째 행입니다.\n",
            "6번째 행입니다.\n",
            "7번째 행입니다.\n",
            "8번째 행입니다.\n",
            "9번째 행입니다.\n",
            "10번째 행입니다.\n"
          ],
          "name": "stdout"
        }
      ]
    },
    {
      "cell_type": "markdown",
      "metadata": {
        "id": "MyCyb8sSh3TZ"
      },
      "source": [
        "-n 옵션으로 몇 행을 출력할지 지정할 수 있습니다."
      ]
    },
    {
      "cell_type": "code",
      "metadata": {
        "id": "1kXymH86hxZY",
        "colab": {
          "base_uri": "https://localhost:8080/"
        },
        "outputId": "34d28e85-ffb4-41be-d533-3b3be2ab398d"
      },
      "source": [
        "!head -n 3 test.txt"
      ],
      "execution_count": null,
      "outputs": [
        {
          "output_type": "stream",
          "text": [
            "1번째 행입니다.\n",
            "2번째 행입니다.\n",
            "3번째 행입니다.\n"
          ],
          "name": "stdout"
        }
      ]
    },
    {
      "cell_type": "markdown",
      "metadata": {
        "id": "9Per2G73TWED"
      },
      "source": [
        "# tail"
      ]
    },
    {
      "cell_type": "markdown",
      "metadata": {
        "id": "PxfrlgFLVgfA"
      },
      "source": [
        "tail 명령어는 파일 뒷 부분의 내용을 출력합니다. (디폴트는 10행)"
      ]
    },
    {
      "cell_type": "code",
      "metadata": {
        "id": "WxV7pU43Vfd2",
        "colab": {
          "base_uri": "https://localhost:8080/"
        },
        "outputId": "bca4f931-75dc-49d6-fb94-babbac8dd2b9"
      },
      "source": [
        "!tail test.txt"
      ],
      "execution_count": null,
      "outputs": [
        {
          "output_type": "stream",
          "text": [
            "91번째 행입니다.\n",
            "92번째 행입니다.\n",
            "93번째 행입니다.\n",
            "94번째 행입니다.\n",
            "95번째 행입니다.\n",
            "96번째 행입니다.\n",
            "97번째 행입니다.\n",
            "98번째 행입니다.\n",
            "99번째 행입니다.\n",
            "100번째 행입니다.\n"
          ],
          "name": "stdout"
        }
      ]
    },
    {
      "cell_type": "markdown",
      "metadata": {
        "id": "27wQRl5uWrgF"
      },
      "source": [
        "중간에 행 번호를 추가하여 지정한 라인부터 끝까지 출력할 수 있습니다. "
      ]
    },
    {
      "cell_type": "code",
      "metadata": {
        "id": "PyTjWTW2WWDf",
        "colab": {
          "base_uri": "https://localhost:8080/"
        },
        "outputId": "1c23c774-cf52-40d4-97d7-a9022b909fcd"
      },
      "source": [
        "!tail +98 test.txt"
      ],
      "execution_count": null,
      "outputs": [
        {
          "output_type": "stream",
          "text": [
            "98번째 행입니다.\n",
            "99번째 행입니다.\n",
            "100번째 행입니다.\n"
          ],
          "name": "stdout"
        }
      ]
    },
    {
      "cell_type": "markdown",
      "metadata": {
        "id": "mJmhkdCrW3sV"
      },
      "source": [
        "-f 옵션을 주면 파일 출력이 지속됩니다. 파일의 내용이 추가되면 그 부분이 자동으로 출력되므로 파일의 내용이 계속 변할 때 사용하면 편리합니다. Ctrl+C을 누르면 f옵션이 종료됩니다. "
      ]
    },
    {
      "cell_type": "code",
      "metadata": {
        "id": "Kts3OkfNZ9FC",
        "colab": {
          "base_uri": "https://localhost:8080/"
        },
        "outputId": "e79a0a63-48db-4bf6-881a-b6193b2064a0"
      },
      "source": [
        "!tail -f test.txt"
      ],
      "execution_count": null,
      "outputs": [
        {
          "output_type": "stream",
          "text": [
            "91번째 행입니다.\n",
            "92번째 행입니다.\n",
            "93번째 행입니다.\n",
            "94번째 행입니다.\n",
            "95번째 행입니다.\n",
            "96번째 행입니다.\n",
            "97번째 행입니다.\n",
            "98번째 행입니다.\n",
            "99번째 행입니다.\n",
            "100번째 행입니다.\n",
            "^C\n"
          ],
          "name": "stdout"
        }
      ]
    },
    {
      "cell_type": "markdown",
      "metadata": {
        "id": "SNeu2e1bTanF"
      },
      "source": [
        "# wc"
      ]
    },
    {
      "cell_type": "markdown",
      "metadata": {
        "id": "c3ZTB3uzbYrW"
      },
      "source": [
        "wc 명령어는 'word count'를 의미하며, 파일의 줄(라인), 단어, 문자, 바이트 수 등을 출력할 수 있습니다. "
      ]
    },
    {
      "cell_type": "code",
      "metadata": {
        "id": "AcXLvGKaaxeE",
        "colab": {
          "base_uri": "https://localhost:8080/"
        },
        "outputId": "1dfc37d6-71c5-4f8d-f3f3-6819bd7ff887"
      },
      "source": [
        "!wc test.txt "
      ],
      "execution_count": null,
      "outputs": [
        {
          "output_type": "stream",
          "text": [
            " 100  200 2292 test.txt\n"
          ],
          "name": "stdout"
        }
      ]
    },
    {
      "cell_type": "markdown",
      "metadata": {
        "id": "X25fafMvcBqz"
      },
      "source": [
        "옵션을 사용하여 원하는 수치를 출력할 수 있습니다."
      ]
    },
    {
      "cell_type": "code",
      "metadata": {
        "id": "FT0IhNU4b5Kb",
        "colab": {
          "base_uri": "https://localhost:8080/"
        },
        "outputId": "93772e4d-cbe2-4c4e-c681-670650c75c90"
      },
      "source": [
        "!wc -c test.txt # 파일의 byte 수\n",
        "!wc -m test.txt # 문자 수\n",
        "!wc -l test.txt # 행 수\n",
        "!wc -w test.txt # 단어 수"
      ],
      "execution_count": null,
      "outputs": [
        {
          "output_type": "stream",
          "text": [
            "2292 test.txt\n",
            "1092 test.txt\n",
            "100 test.txt\n",
            "200 test.txt\n"
          ],
          "name": "stdout"
        }
      ]
    },
    {
      "cell_type": "markdown",
      "metadata": {
        "id": "jf7nIeIzTbse"
      },
      "source": [
        "# paste"
      ]
    },
    {
      "cell_type": "markdown",
      "metadata": {
        "id": "s1XvHPWhdSU2"
      },
      "source": [
        "paste 명령어는 다른 파일의 내용을 덧붙여서 출력합니다."
      ]
    },
    {
      "cell_type": "markdown",
      "metadata": {
        "id": "wlqtn3YSg9XP"
      },
      "source": [
        "우선 두 개의 새로운 텍스트 파일을 만들고 출력해봅시다."
      ]
    },
    {
      "cell_type": "code",
      "metadata": {
        "id": "i8CWpD_cfiyI"
      },
      "source": [
        "f1 = open(\"first.txt\", \"w\")\n",
        "f2 = open(\"second.txt\", \"w\")\n",
        "f1.write(\"안녕하세요, 첫 번째 파일입니다.\")\n",
        "f2.write(\"안녕하세요, 두 번째 파일입니다.\")\n",
        "f1.close()\n",
        "f2.close()"
      ],
      "execution_count": null,
      "outputs": []
    },
    {
      "cell_type": "code",
      "metadata": {
        "id": "0Ihg5XAsfSDU",
        "colab": {
          "base_uri": "https://localhost:8080/"
        },
        "outputId": "f51f6bf6-b4fb-40cd-92c5-680159304ae5"
      },
      "source": [
        "!head first.txt second.txt"
      ],
      "execution_count": null,
      "outputs": [
        {
          "output_type": "stream",
          "text": [
            "==> first.txt <==\n",
            "안녕하세요, 첫 번째 파일입니다.\n",
            "==> second.txt <==\n",
            "안녕하세요, 두 번째 파일입니다."
          ],
          "name": "stdout"
        }
      ]
    },
    {
      "cell_type": "code",
      "metadata": {
        "id": "mSQebPUNgFEW",
        "colab": {
          "base_uri": "https://localhost:8080/"
        },
        "outputId": "c6f0f831-71b4-4f98-f787-700a94155906"
      },
      "source": [
        "!paste first.txt second.txt\n",
        "!paste -d \"&\" first.txt second.txt # -d 옵션으로 구분자 지정"
      ],
      "execution_count": null,
      "outputs": [
        {
          "output_type": "stream",
          "text": [
            "안녕하세요, 첫 번째 파일입니다.\t안녕하세요, 두 번째 파일입니다.\n",
            "안녕하세요, 첫 번째 파일입니다.&안녕하세요, 두 번째 파일입니다.\n"
          ],
          "name": "stdout"
        }
      ]
    },
    {
      "cell_type": "markdown",
      "metadata": {
        "id": "ZreihDN6TlMv"
      },
      "source": [
        "#cut"
      ]
    },
    {
      "cell_type": "markdown",
      "metadata": {
        "id": "aeFNoSXFkl22"
      },
      "source": [
        "cut 명령어는 파일의 문자열을 잘라내서 새로운 문자열을 만들어냅니다. \n",
        "\n",
        "cut을 사용하기 위해서는 옵션을 필수로 추가해야합니다."
      ]
    },
    {
      "cell_type": "code",
      "metadata": {
        "id": "QgBjzm0ZklY6",
        "colab": {
          "base_uri": "https://localhost:8080/"
        },
        "outputId": "3a923a43-c87b-4c66-f040-f9681903d52c"
      },
      "source": [
        "!cut test.txt"
      ],
      "execution_count": null,
      "outputs": [
        {
          "output_type": "stream",
          "text": [
            "cut: you must specify a list of bytes, characters, or fields\n",
            "Try 'cut --help' for more information.\n"
          ],
          "name": "stdout"
        }
      ]
    },
    {
      "cell_type": "code",
      "metadata": {
        "id": "jOyrg59NnEVa"
      },
      "source": [
        "sent = \"\"\"\n",
        "토마토, 오이, 사과 주세요! 감사합니다.\n",
        "포도, 배, 감 주세요! 감사합니다.\n",
        "포도, 오렌지, 토마토 주세요! 감사합니다.\n",
        "총 9개 구매합니다.\n",
        "안녕히계세요.....\n",
        "\"\"\"\n",
        "\n",
        "f = open(\"test2.txt\", \"w\")\n",
        "f.write(sent)\n",
        "f.close()"
      ],
      "execution_count": null,
      "outputs": []
    },
    {
      "cell_type": "markdown",
      "metadata": {
        "id": "TnyiTokixkLO"
      },
      "source": [
        "사용법 : cut [OPTION] [FILE]\n",
        "\n",
        "-f 옵션으로 몇 번째 필드를 출력할지 지정\n",
        "\n",
        "-d 옵션으로 구분자(delimiter) 지정 (디폴트 tab)"
      ]
    },
    {
      "cell_type": "code",
      "metadata": {
        "id": "_Yta-aUpnY7R",
        "colab": {
          "base_uri": "https://localhost:8080/"
        },
        "outputId": "0f2297ca-4b49-48ab-af61-d4bd95e9baa3"
      },
      "source": [
        "!cut -f 2 -d \",\" test2.txt # 콤마를 구분자로 하여 2번째 필드를 출력"
      ],
      "execution_count": null,
      "outputs": [
        {
          "output_type": "stream",
          "text": [
            "\n",
            " 오이\n",
            " 배\n",
            " 오렌지\n",
            "총 9개 구매합니다.\n",
            "안녕히계세요.....\n"
          ],
          "name": "stdout"
        }
      ]
    },
    {
      "cell_type": "code",
      "metadata": {
        "id": "DPEFc8l_Po9I",
        "colab": {
          "base_uri": "https://localhost:8080/"
        },
        "outputId": "309ba5b0-22af-45fc-8dbe-0d02c9e58bc8"
      },
      "source": [
        "!cut -d \"!\" -f2 test2.txt # 느낌표를 구분자로 하여 2번째 필드를 출력"
      ],
      "execution_count": null,
      "outputs": [
        {
          "output_type": "stream",
          "text": [
            "\n",
            " 감사합니다.\n",
            " 감사합니다.\n",
            " 감사합니다.\n",
            "총 9개 구매합니다.\n",
            "안녕히계세요.....\n"
          ],
          "name": "stdout"
        }
      ]
    },
    {
      "cell_type": "markdown",
      "metadata": {
        "id": "QvD-d-KdTnj9"
      },
      "source": [
        "#grep"
      ]
    },
    {
      "cell_type": "markdown",
      "metadata": {
        "id": "bxPthTN4O23q"
      },
      "source": [
        "grep 명령어는 파일의 내용에서 특정 문자열을 찾고자할 때 사용하는 명령어입니다. \n",
        "\n",
        "사용법: grep [OPTION] [PATTERN] [FILE]"
      ]
    },
    {
      "cell_type": "code",
      "metadata": {
        "id": "L7C04gLHO2W8",
        "colab": {
          "base_uri": "https://localhost:8080/"
        },
        "outputId": "6eeaf8ef-92fd-4760-b2bb-fc7f3db2de12"
      },
      "source": [
        "!grep \"토마토\" test2.txt # \"토마토\"가 존재하는 라인 출력 (영어는 대소문자 구분)"
      ],
      "execution_count": null,
      "outputs": [
        {
          "output_type": "stream",
          "text": [
            "토마토, 오이, 사과 주세요! 감사합니다.\n",
            "포도, 오렌지, 토마토 주세요! 감사합니다.\n"
          ],
          "name": "stdout"
        }
      ]
    },
    {
      "cell_type": "markdown",
      "metadata": {
        "id": "sJ-tBT7cTqpH"
      },
      "source": [
        "앞서 배웠던 정규표현식 메타문자를 활용하여 입맛에 맞게 문자열을 검색해볼 수 있습니다. "
      ]
    },
    {
      "cell_type": "code",
      "metadata": {
        "id": "U1a-iHcdRun3",
        "colab": {
          "base_uri": "https://localhost:8080/"
        },
        "outputId": "4b8fe8a5-8392-4563-e42c-fe4223340b26"
      },
      "source": [
        "!grep \"토마토.*감사합니다\" test2.txt # \"토마토\"로 시작해서 \"감사합니다\"로 끝나는 라인 출력"
      ],
      "execution_count": null,
      "outputs": [
        {
          "output_type": "stream",
          "text": [
            "토마토, 오이, 사과 주세요! 감사합니다.\n",
            "포도, 오렌지, 토마토 주세요! 감사합니다.\n"
          ],
          "name": "stdout"
        }
      ]
    },
    {
      "cell_type": "code",
      "metadata": {
        "id": "KAcRndjGUCXp",
        "colab": {
          "base_uri": "https://localhost:8080/"
        },
        "outputId": "9482bbc1-1fb6-413f-a205-a529ea03343e"
      },
      "source": [
        "!grep \"[0-9]\" test2.txt # 숫자가 존재하는 라인 출력"
      ],
      "execution_count": null,
      "outputs": [
        {
          "output_type": "stream",
          "text": [
            "총 9개 구매합니다.\n"
          ],
          "name": "stdout"
        }
      ]
    },
    {
      "cell_type": "markdown",
      "metadata": {
        "id": "9nmpME5wXH5X"
      },
      "source": [
        "grep과 다양한 옵션을 조합해 볼 수 있습니다."
      ]
    },
    {
      "cell_type": "code",
      "metadata": {
        "id": "YLpjMcD_Xcj-",
        "colab": {
          "base_uri": "https://localhost:8080/"
        },
        "outputId": "1c68541b-53a4-4d01-d397-b50a05c9218a"
      },
      "source": [
        "!grep -n \"포도\" test2.txt # 라인 앞에 라인 번호 출력"
      ],
      "execution_count": null,
      "outputs": [
        {
          "output_type": "stream",
          "text": [
            "3:포도, 배, 감 주세요! 감사합니다.\n",
            "4:포도, 오렌지, 토마토 주세요! 감사합니다.\n"
          ],
          "name": "stdout"
        }
      ]
    },
    {
      "cell_type": "code",
      "metadata": {
        "id": "9Iz8zBAZaidj",
        "colab": {
          "base_uri": "https://localhost:8080/"
        },
        "outputId": "4863b424-609e-4a21-8924-8ec4e903f2c6"
      },
      "source": [
        "!grep -F \"..\" test2.txt # 문자열 패턴 전체를 정규 표현식 메타 문자가 아닌 일반 문자로 검색"
      ],
      "execution_count": null,
      "outputs": [
        {
          "output_type": "stream",
          "text": [
            "안녕히계세요.....\n"
          ],
          "name": "stdout"
        }
      ]
    },
    {
      "cell_type": "code",
      "metadata": {
        "id": "GUZ2YXRAaeX4",
        "colab": {
          "base_uri": "https://localhost:8080/"
        },
        "outputId": "fb2a1aed-895b-4ab9-d048-3e427d94b546"
      },
      "source": [
        "!grep \"..\" test2.txt"
      ],
      "execution_count": null,
      "outputs": [
        {
          "output_type": "stream",
          "text": [
            "토마토, 오이, 사과 주세요! 감사합니다.\n",
            "포도, 배, 감 주세요! 감사합니다.\n",
            "포도, 오렌지, 토마토 주세요! 감사합니다.\n",
            "총 9개 구매합니다.\n",
            "안녕히계세요.....\n"
          ],
          "name": "stdout"
        }
      ]
    },
    {
      "cell_type": "code",
      "metadata": {
        "id": "S0LHZN9fbCpw",
        "colab": {
          "base_uri": "https://localhost:8080/"
        },
        "outputId": "51e53547-f695-484e-e4dd-2283b178fcbf"
      },
      "source": [
        "!grep '\\.\\.' test2.txt"
      ],
      "execution_count": null,
      "outputs": [
        {
          "output_type": "stream",
          "text": [
            "안녕히계세요.....\n"
          ],
          "name": "stdout"
        }
      ]
    },
    {
      "cell_type": "markdown",
      "metadata": {
        "id": "Wn9uubHPSlRC"
      },
      "source": [
        "더 많은 옵션을 알고 싶은 경우, --help 를 통해서 해당 명령어의 사용법을 확인할 수 있습니다."
      ]
    },
    {
      "cell_type": "code",
      "metadata": {
        "id": "d0wMUJ0oSsZC",
        "colab": {
          "base_uri": "https://localhost:8080/"
        },
        "outputId": "9fd9b4c6-5a96-4ff5-8531-c8ce3de70be4"
      },
      "source": [
        "!grep --help"
      ],
      "execution_count": null,
      "outputs": [
        {
          "output_type": "stream",
          "name": "stdout",
          "text": [
            "Usage: grep [OPTION]... PATTERN [FILE]...\n",
            "Search for PATTERN in each FILE.\n",
            "Example: grep -i 'hello world' menu.h main.c\n",
            "\n",
            "Pattern selection and interpretation:\n",
            "  -E, --extended-regexp     PATTERN is an extended regular expression\n",
            "  -F, --fixed-strings       PATTERN is a set of newline-separated strings\n",
            "  -G, --basic-regexp        PATTERN is a basic regular expression (default)\n",
            "  -P, --perl-regexp         PATTERN is a Perl regular expression\n",
            "  -e, --regexp=PATTERN      use PATTERN for matching\n",
            "  -f, --file=FILE           obtain PATTERN from FILE\n",
            "  -i, --ignore-case         ignore case distinctions\n",
            "  -w, --word-regexp         force PATTERN to match only whole words\n",
            "  -x, --line-regexp         force PATTERN to match only whole lines\n",
            "  -z, --null-data           a data line ends in 0 byte, not newline\n",
            "\n",
            "Miscellaneous:\n",
            "  -s, --no-messages         suppress error messages\n",
            "  -v, --invert-match        select non-matching lines\n",
            "  -V, --version             display version information and exit\n",
            "      --help                display this help text and exit\n",
            "\n",
            "Output control:\n",
            "  -m, --max-count=NUM       stop after NUM selected lines\n",
            "  -b, --byte-offset         print the byte offset with output lines\n",
            "  -n, --line-number         print line number with output lines\n",
            "      --line-buffered       flush output on every line\n",
            "  -H, --with-filename       print file name with output lines\n",
            "  -h, --no-filename         suppress the file name prefix on output\n",
            "      --label=LABEL         use LABEL as the standard input file name prefix\n",
            "  -o, --only-matching       show only the part of a line matching PATTERN\n",
            "  -q, --quiet, --silent     suppress all normal output\n",
            "      --binary-files=TYPE   assume that binary files are TYPE;\n",
            "                            TYPE is 'binary', 'text', or 'without-match'\n",
            "  -a, --text                equivalent to --binary-files=text\n",
            "  -I                        equivalent to --binary-files=without-match\n",
            "  -d, --directories=ACTION  how to handle directories;\n",
            "                            ACTION is 'read', 'recurse', or 'skip'\n",
            "  -D, --devices=ACTION      how to handle devices, FIFOs and sockets;\n",
            "                            ACTION is 'read' or 'skip'\n",
            "  -r, --recursive           like --directories=recurse\n",
            "  -R, --dereference-recursive  likewise, but follow all symlinks\n",
            "      --include=FILE_PATTERN  search only files that match FILE_PATTERN\n",
            "      --exclude=FILE_PATTERN  skip files and directories matching FILE_PATTERN\n",
            "      --exclude-from=FILE   skip files matching any file pattern from FILE\n",
            "      --exclude-dir=PATTERN  directories that match PATTERN will be skipped.\n",
            "  -L, --files-without-match  print only names of FILEs with no selected lines\n",
            "  -l, --files-with-matches  print only names of FILEs with selected lines\n",
            "  -c, --count               print only a count of selected lines per FILE\n",
            "  -T, --initial-tab         make tabs line up (if needed)\n",
            "  -Z, --null                print 0 byte after FILE name\n",
            "\n",
            "Context control:\n",
            "  -B, --before-context=NUM  print NUM lines of leading context\n",
            "  -A, --after-context=NUM   print NUM lines of trailing context\n",
            "  -C, --context=NUM         print NUM lines of output context\n",
            "  -NUM                      same as --context=NUM\n",
            "      --color[=WHEN],\n",
            "      --colour[=WHEN]       use markers to highlight the matching strings;\n",
            "                            WHEN is 'always', 'never', or 'auto'\n",
            "  -U, --binary              do not strip CR characters at EOL (MSDOS/Windows)\n",
            "\n",
            "When FILE is '-', read standard input.  With no FILE, read '.' if\n",
            "recursive, '-' otherwise.  With fewer than two FILEs, assume -h.\n",
            "Exit status is 0 if any line is selected, 1 otherwise;\n",
            "if any error occurs and -q is not given, the exit status is 2.\n",
            "\n",
            "Report bugs to: bug-grep@gnu.org\n",
            "GNU grep home page: <http://www.gnu.org/software/grep/>\n",
            "General help using GNU software: <http://www.gnu.org/gethelp/>\n"
          ]
        }
      ]
    },
    {
      "cell_type": "code",
      "metadata": {
        "id": "_xcDdDfDSwJe"
      },
      "source": [
        "!paste --help"
      ],
      "execution_count": null,
      "outputs": []
    },
    {
      "cell_type": "markdown",
      "metadata": {
        "id": "hRk97sdfbj8c"
      },
      "source": [
        "# +) pipe (|)"
      ]
    },
    {
      "cell_type": "markdown",
      "metadata": {
        "id": "hPmoiL98bmky"
      },
      "source": [
        "위의 쉘 명령어들을 조합해서 쓸 수는 없을까요? ex. grep으로 특정한 단어가 나오는 라인을 세고 싶을 경우...\n",
        "\n",
        "파이프(|)를 이용하여 실행된 명령의 결과를 다른 명령으로 넘겨줄 수 있습니다. \n",
        "```\n",
        "명령1 | 명령2 | 명령3\n",
        "```\n",
        "왼쪽 명령어의 결과(output)을 오른쪽에 있는 명령어에 입력(input)으로 전달합니다."
      ]
    },
    {
      "cell_type": "code",
      "metadata": {
        "id": "p9GhNUC1V5MQ",
        "colab": {
          "base_uri": "https://localhost:8080/"
        },
        "outputId": "b069af4c-ad23-4930-a781-0827f6161cf8"
      },
      "source": [
        "!grep \"토마토\" test2.txt"
      ],
      "execution_count": null,
      "outputs": [
        {
          "output_type": "stream",
          "text": [
            "토마토, 오이, 사과 주세요! 감사합니다.\n",
            "포도, 오렌지, 토마토 주세요! 감사합니다.\n"
          ],
          "name": "stdout"
        }
      ]
    },
    {
      "cell_type": "code",
      "metadata": {
        "id": "f5whR3kAbW1p",
        "colab": {
          "base_uri": "https://localhost:8080/"
        },
        "outputId": "dd995ec7-b3b6-4b2f-ab0b-142bfa53ce26"
      },
      "source": [
        "!grep \"토마토\" test2.txt | wc -l  # 첫번째 명령어의 결과값 : 토마토가 나오는 라인들  --> 라인 수를 출력하는 명령 wc -l의 입력으로 들어감."
      ],
      "execution_count": null,
      "outputs": [
        {
          "output_type": "stream",
          "text": [
            "2\n"
          ],
          "name": "stdout"
        }
      ]
    },
    {
      "cell_type": "code",
      "metadata": {
        "id": "pMuvx7LagTV8",
        "colab": {
          "base_uri": "https://localhost:8080/"
        },
        "outputId": "e6d6df5e-46e9-4031-e789-1edc51ce39bc"
      },
      "source": [
        "!cut -d \",\" -f1 test2.txt"
      ],
      "execution_count": null,
      "outputs": [
        {
          "output_type": "stream",
          "text": [
            "\n",
            "토마토\n",
            "포도\n",
            "포도\n",
            "총 9개 구매합니다.\n",
            "안녕히계세요.....\n"
          ],
          "name": "stdout"
        }
      ]
    },
    {
      "cell_type": "code",
      "metadata": {
        "id": "amuvJXUUcKvg",
        "colab": {
          "base_uri": "https://localhost:8080/"
        },
        "outputId": "fa0e8c66-a7e7-4fbb-a2ff-8a92450429cc"
      },
      "source": [
        "!cut -d \",\" -f1 test2.txt | grep \"포도\" | wc -l  # 첫번째 명령어의 결과값: 라인에서 ,를 구분자로 했을 때 첫번째 단어들 -> \"포도\"를 검색하는 명령어의 입력으로 들어감. "
      ],
      "execution_count": null,
      "outputs": [
        {
          "output_type": "stream",
          "text": [
            "2\n"
          ],
          "name": "stdout"
        }
      ]
    },
    {
      "cell_type": "markdown",
      "metadata": {
        "id": "FDVmcau51YKh"
      },
      "source": [
        "# +) 쉘 명령어의 출력물을 파이썬의 변수로 사용하기"
      ]
    },
    {
      "cell_type": "markdown",
      "metadata": {
        "id": "DkWjo7Vq1q87"
      },
      "source": [
        "지금까지 본 명령어들로 파일 내용 확인을 용이하게 할 수 있지만, 조금 더 나아가 출력물을 파이썬의 변수로 전달해보겠습니다. \n",
        "\n",
        "Colab에서는 =을 통해 변수에 쉘 명령어의 출력물을 리스트의 형태로 저장할 수 있습니다."
      ]
    },
    {
      "cell_type": "code",
      "metadata": {
        "id": "SA45RgKu1nxO",
        "colab": {
          "base_uri": "https://localhost:8080/"
        },
        "outputId": "5c1c3eb1-7168-41f1-8737-267d8106dba7"
      },
      "source": [
        "tomato_lines = !grep \"토마토\" test2.txt\n",
        "tomato_lines"
      ],
      "execution_count": null,
      "outputs": [
        {
          "output_type": "execute_result",
          "data": {
            "text/plain": [
              "['토마토, 오이, 사과 주세요! 감사합니다.', '포도, 오렌지, 토마토 주세요! 감사합니다.']"
            ]
          },
          "metadata": {
            "tags": []
          },
          "execution_count": 29
        }
      ]
    },
    {
      "cell_type": "markdown",
      "metadata": {
        "id": "QZhb7V2CxUdc"
      },
      "source": [
        "#3. How to use tokenizer"
      ]
    },
    {
      "cell_type": "markdown",
      "metadata": {
        "id": "0UMHS5un-uK6"
      },
      "source": [
        "- 아래의 토크나이저를 활용하여 **seq.in, seq.out** 파일들을 만들어주시면 됩니다.\n",
        "- 공유드라이브/강의자료/2주차/prepare_seq_토큰분류/{prepare_data,tokenizationK}.py 는 프로젝트 깃허브에 올려주시고, git clone하여 활용해주시면 됩니다\n",
        "- 다만, vocab 파일은 구글 드라이브에 업로드하여 사용해주시기 바랍니다.\n",
        "- prepare_data.py의 내용은 진행 상황에 맞게 수정해주시면 됩니다. "
      ]
    },
    {
      "cell_type": "code",
      "metadata": {
        "colab": {
          "base_uri": "https://localhost:8080/"
        },
        "id": "aMI7on3OxqrP",
        "outputId": "1b038539-5d6d-4944-f608-a79bed5f6ee4"
      },
      "source": [
        "!pip install tensorflow==1.15"
      ],
      "execution_count": null,
      "outputs": [
        {
          "output_type": "stream",
          "text": [
            "Requirement already satisfied: tensorflow==1.15 in /usr/local/lib/python3.7/dist-packages (1.15.0)\n",
            "Requirement already satisfied: six>=1.10.0 in /usr/local/lib/python3.7/dist-packages (from tensorflow==1.15) (1.15.0)\n",
            "Requirement already satisfied: tensorboard<1.16.0,>=1.15.0 in /usr/local/lib/python3.7/dist-packages (from tensorflow==1.15) (1.15.0)\n",
            "Requirement already satisfied: protobuf>=3.6.1 in /usr/local/lib/python3.7/dist-packages (from tensorflow==1.15) (3.17.3)\n",
            "Requirement already satisfied: opt-einsum>=2.3.2 in /usr/local/lib/python3.7/dist-packages (from tensorflow==1.15) (3.3.0)\n",
            "Requirement already satisfied: astor>=0.6.0 in /usr/local/lib/python3.7/dist-packages (from tensorflow==1.15) (0.8.1)\n",
            "Requirement already satisfied: keras-preprocessing>=1.0.5 in /usr/local/lib/python3.7/dist-packages (from tensorflow==1.15) (1.1.2)\n",
            "Requirement already satisfied: tensorflow-estimator==1.15.1 in /usr/local/lib/python3.7/dist-packages (from tensorflow==1.15) (1.15.1)\n",
            "Requirement already satisfied: termcolor>=1.1.0 in /usr/local/lib/python3.7/dist-packages (from tensorflow==1.15) (1.1.0)\n",
            "Requirement already satisfied: keras-applications>=1.0.8 in /usr/local/lib/python3.7/dist-packages (from tensorflow==1.15) (1.0.8)\n",
            "Requirement already satisfied: google-pasta>=0.1.6 in /usr/local/lib/python3.7/dist-packages (from tensorflow==1.15) (0.2.0)\n",
            "Requirement already satisfied: wheel>=0.26 in /usr/local/lib/python3.7/dist-packages (from tensorflow==1.15) (0.36.2)\n",
            "Requirement already satisfied: numpy<2.0,>=1.16.0 in /usr/local/lib/python3.7/dist-packages (from tensorflow==1.15) (1.19.5)\n",
            "Requirement already satisfied: wrapt>=1.11.1 in /usr/local/lib/python3.7/dist-packages (from tensorflow==1.15) (1.12.1)\n",
            "Requirement already satisfied: gast==0.2.2 in /usr/local/lib/python3.7/dist-packages (from tensorflow==1.15) (0.2.2)\n",
            "Requirement already satisfied: absl-py>=0.7.0 in /usr/local/lib/python3.7/dist-packages (from tensorflow==1.15) (0.12.0)\n",
            "Requirement already satisfied: grpcio>=1.8.6 in /usr/local/lib/python3.7/dist-packages (from tensorflow==1.15) (1.34.1)\n",
            "Requirement already satisfied: h5py in /usr/local/lib/python3.7/dist-packages (from keras-applications>=1.0.8->tensorflow==1.15) (3.1.0)\n",
            "Requirement already satisfied: werkzeug>=0.11.15 in /usr/local/lib/python3.7/dist-packages (from tensorboard<1.16.0,>=1.15.0->tensorflow==1.15) (1.0.1)\n",
            "Requirement already satisfied: markdown>=2.6.8 in /usr/local/lib/python3.7/dist-packages (from tensorboard<1.16.0,>=1.15.0->tensorflow==1.15) (3.3.4)\n",
            "Requirement already satisfied: setuptools>=41.0.0 in /usr/local/lib/python3.7/dist-packages (from tensorboard<1.16.0,>=1.15.0->tensorflow==1.15) (57.2.0)\n",
            "Requirement already satisfied: importlib-metadata in /usr/local/lib/python3.7/dist-packages (from markdown>=2.6.8->tensorboard<1.16.0,>=1.15.0->tensorflow==1.15) (4.6.1)\n",
            "Requirement already satisfied: cached-property in /usr/local/lib/python3.7/dist-packages (from h5py->keras-applications>=1.0.8->tensorflow==1.15) (1.5.2)\n",
            "Requirement already satisfied: typing-extensions>=3.6.4 in /usr/local/lib/python3.7/dist-packages (from importlib-metadata->markdown>=2.6.8->tensorboard<1.16.0,>=1.15.0->tensorflow==1.15) (3.7.4.3)\n",
            "Requirement already satisfied: zipp>=0.5 in /usr/local/lib/python3.7/dist-packages (from importlib-metadata->markdown>=2.6.8->tensorboard<1.16.0,>=1.15.0->tensorflow==1.15) (3.5.0)\n"
          ],
          "name": "stdout"
        }
      ]
    },
    {
      "cell_type": "code",
      "metadata": {
        "colab": {
          "base_uri": "https://localhost:8080/"
        },
        "id": "ERLaRyaq8rJi",
        "outputId": "eef4019f-95d0-4085-edda-2a9f022fa341"
      },
      "source": [
        "import tensorflow as tf\n",
        "print(tf.__version__)\n",
        "# 2.x 이 출력될 경우, 런타임 재시작 후 다시 확인"
      ],
      "execution_count": null,
      "outputs": [
        {
          "output_type": "stream",
          "text": [
            "1.15.0\n"
          ],
          "name": "stdout"
        }
      ]
    },
    {
      "cell_type": "code",
      "metadata": {
        "colab": {
          "base_uri": "https://localhost:8080/"
        },
        "id": "8GZgzqiFA9nK",
        "outputId": "496e9bb4-8e80-44cf-b742-0edf2b0ee767"
      },
      "source": [
        "!git clone https://github.com/InChil2/SlotTagging.git # [프로젝트 깃허브 주소]"
      ],
      "execution_count": null,
      "outputs": [
        {
          "output_type": "stream",
          "name": "stdout",
          "text": [
            "Cloning into 'SlotTagging'...\n",
            "remote: Enumerating objects: 71, done.\u001b[K\n",
            "remote: Counting objects: 100% (71/71), done.\u001b[K\n",
            "remote: Compressing objects: 100% (50/50), done.\u001b[K\n",
            "remote: Total 71 (delta 17), reused 0 (delta 0), pack-reused 0\u001b[K\n",
            "Unpacking objects: 100% (71/71), done.\n"
          ]
        }
      ]
    },
    {
      "cell_type": "code",
      "metadata": {
        "colab": {
          "base_uri": "https://localhost:8080/"
        },
        "id": "5I8zZOMkwc9m",
        "outputId": "50acac4a-2700-4efd-9d47-15ec370aa36c"
      },
      "source": [
        "from google.colab import drive\n",
        "drive.mount(\"/content/drive\") "
      ],
      "execution_count": null,
      "outputs": [
        {
          "output_type": "stream",
          "text": [
            "Mounted at /content/drive\n"
          ],
          "name": "stdout"
        }
      ]
    },
    {
      "cell_type": "code",
      "metadata": {
        "colab": {
          "base_uri": "https://localhost:8080/"
        },
        "id": "fMB_M7Qyw3kx",
        "outputId": "46b37ac8-8008-4350-d573-8a74f4fc0180"
      },
      "source": [
        "# 드라이브 내 test 파일 경로 설정 - vocab.korean.rawtext.list 가 들어있는 경로를 설정\n",
        "% cd /content/drive/MyDrive/test \n",
        "\n",
        "# 현재 디렉토리 내 파일 출력\n",
        "% ls "
      ],
      "execution_count": null,
      "outputs": [
        {
          "output_type": "stream",
          "text": [
            "/content/drive/MyDrive/test\n",
            "토크나이저_사용법.ipynb  tokenizationK.py\n",
            "\u001b[0m\u001b[01;34m__pycache__\u001b[0m/             vocab.korean.rawtext.list\n"
          ],
          "name": "stdout"
        }
      ]
    },
    {
      "cell_type": "code",
      "metadata": {
        "colab": {
          "base_uri": "https://localhost:8080/"
        },
        "id": "ZxNH4xbhvSfe",
        "outputId": "5bcdba88-8ef2-41b4-d185-243894a7c440"
      },
      "source": [
        "from tokenizationK import FullTokenizer\n",
        "# ETRI 버트를 받으면 tokenization.py가 들어있는데 그거 말고 꼭 제가 제공해드린 tokenizationK.py를 쓰도록 해주세요.\n",
        "tokenizer = FullTokenizer(vocab_file=\"/content/drive/MyDrive/test/vocab.korean.rawtext.list\")\n",
        "output = tokenizer.tokenize(\"안녕하세요, 저는 서브웨이 사장 홍길동입니다.\")"
      ],
      "execution_count": null,
      "outputs": [
        {
          "output_type": "stream",
          "text": [
            "WARNING:tensorflow:From /content/drive/MyDrive/test/tokenizationK.py:133: The name tf.gfile.GFile is deprecated. Please use tf.io.gfile.GFile instead.\n",
            "\n"
          ],
          "name": "stdout"
        }
      ]
    },
    {
      "cell_type": "code",
      "metadata": {
        "colab": {
          "base_uri": "https://localhost:8080/"
        },
        "id": "eDxTCfQswBUX",
        "outputId": "a6c4bcc6-3beb-4c2e-f323-92f9a482c7b3"
      },
      "source": [
        "print(output)"
      ],
      "execution_count": null,
      "outputs": [
        {
          "output_type": "stream",
          "text": [
            "['안', '녕', '하', '세요', ',_', '저는_', '서', '브', '웨이_', '사', '장_', '홍', '길', '동', '입니다', '._']\n"
          ],
          "name": "stdout"
        }
      ]
    },
    {
      "cell_type": "code",
      "metadata": {
        "id": "5t1G2bza-hYh"
      },
      "source": [
        ""
      ],
      "execution_count": null,
      "outputs": []
    }
  ]
}